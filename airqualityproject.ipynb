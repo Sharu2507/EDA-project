{
 "cells": [
  {
   "cell_type": "code",
   "execution_count": 7,
   "id": "c9fc433a-761b-4838-9b34-c4a71c0f55f0",
   "metadata": {},
   "outputs": [],
   "source": [
    "import numpy as np\n",
    "import pandas as pd\n",
    "import matplotlib.pyplot as plt\n",
    "import seaborn as sns"
   ]
  },
  {
   "cell_type": "markdown",
   "id": "d3d3d88d-b101-49a0-9c42-02c3649dc711",
   "metadata": {},
   "source": [
    "#### DESCRIPTIVE ANALYSIS"
   ]
  },
  {
   "cell_type": "code",
   "execution_count": 8,
   "id": "1053225d-015e-43cb-b399-30253da214e5",
   "metadata": {},
   "outputs": [
    {
     "data": {
      "text/html": [
       "<div>\n",
       "<style scoped>\n",
       "    .dataframe tbody tr th:only-of-type {\n",
       "        vertical-align: middle;\n",
       "    }\n",
       "\n",
       "    .dataframe tbody tr th {\n",
       "        vertical-align: top;\n",
       "    }\n",
       "\n",
       "    .dataframe thead th {\n",
       "        text-align: right;\n",
       "    }\n",
       "</style>\n",
       "<table border=\"1\" class=\"dataframe\">\n",
       "  <thead>\n",
       "    <tr style=\"text-align: right;\">\n",
       "      <th></th>\n",
       "      <th>Date</th>\n",
       "      <th>Time</th>\n",
       "      <th>CO(GT)</th>\n",
       "      <th>PT08.S1(CO)</th>\n",
       "      <th>NMHC(GT)</th>\n",
       "      <th>C6H6(GT)</th>\n",
       "      <th>PT08.S2(NMHC)</th>\n",
       "      <th>NOx(GT)</th>\n",
       "      <th>PT08.S3(NOx)</th>\n",
       "      <th>NO2(GT)</th>\n",
       "      <th>PT08.S4(NO2)</th>\n",
       "      <th>PT08.S5(O3)</th>\n",
       "      <th>T</th>\n",
       "      <th>RH</th>\n",
       "      <th>AH</th>\n",
       "    </tr>\n",
       "  </thead>\n",
       "  <tbody>\n",
       "    <tr>\n",
       "      <th>0</th>\n",
       "      <td>10-03-2004</td>\n",
       "      <td>18.00.00</td>\n",
       "      <td>2.6</td>\n",
       "      <td>1360</td>\n",
       "      <td>150</td>\n",
       "      <td>11.9</td>\n",
       "      <td>1046</td>\n",
       "      <td>166</td>\n",
       "      <td>1056</td>\n",
       "      <td>113</td>\n",
       "      <td>1692</td>\n",
       "      <td>1268</td>\n",
       "      <td>13.6</td>\n",
       "      <td>48.9</td>\n",
       "      <td>0.7578</td>\n",
       "    </tr>\n",
       "    <tr>\n",
       "      <th>1</th>\n",
       "      <td>10-03-2004</td>\n",
       "      <td>19.00.00</td>\n",
       "      <td>2.0</td>\n",
       "      <td>1292</td>\n",
       "      <td>112</td>\n",
       "      <td>9.4</td>\n",
       "      <td>955</td>\n",
       "      <td>103</td>\n",
       "      <td>1174</td>\n",
       "      <td>92</td>\n",
       "      <td>1559</td>\n",
       "      <td>972</td>\n",
       "      <td>13.3</td>\n",
       "      <td>47.7</td>\n",
       "      <td>0.7255</td>\n",
       "    </tr>\n",
       "    <tr>\n",
       "      <th>2</th>\n",
       "      <td>10-03-2004</td>\n",
       "      <td>20.00.00</td>\n",
       "      <td>2.2</td>\n",
       "      <td>1402</td>\n",
       "      <td>88</td>\n",
       "      <td>9.0</td>\n",
       "      <td>939</td>\n",
       "      <td>131</td>\n",
       "      <td>1140</td>\n",
       "      <td>114</td>\n",
       "      <td>1555</td>\n",
       "      <td>1074</td>\n",
       "      <td>11.9</td>\n",
       "      <td>54.0</td>\n",
       "      <td>0.7502</td>\n",
       "    </tr>\n",
       "    <tr>\n",
       "      <th>3</th>\n",
       "      <td>10-03-2004</td>\n",
       "      <td>21.00.00</td>\n",
       "      <td>2.2</td>\n",
       "      <td>1376</td>\n",
       "      <td>80</td>\n",
       "      <td>9.2</td>\n",
       "      <td>948</td>\n",
       "      <td>172</td>\n",
       "      <td>1092</td>\n",
       "      <td>122</td>\n",
       "      <td>1584</td>\n",
       "      <td>1203</td>\n",
       "      <td>11.0</td>\n",
       "      <td>60.0</td>\n",
       "      <td>0.7867</td>\n",
       "    </tr>\n",
       "    <tr>\n",
       "      <th>4</th>\n",
       "      <td>10-03-2004</td>\n",
       "      <td>22.00.00</td>\n",
       "      <td>1.6</td>\n",
       "      <td>1272</td>\n",
       "      <td>51</td>\n",
       "      <td>6.5</td>\n",
       "      <td>836</td>\n",
       "      <td>131</td>\n",
       "      <td>1205</td>\n",
       "      <td>116</td>\n",
       "      <td>1490</td>\n",
       "      <td>1110</td>\n",
       "      <td>11.2</td>\n",
       "      <td>59.6</td>\n",
       "      <td>0.7888</td>\n",
       "    </tr>\n",
       "    <tr>\n",
       "      <th>...</th>\n",
       "      <td>...</td>\n",
       "      <td>...</td>\n",
       "      <td>...</td>\n",
       "      <td>...</td>\n",
       "      <td>...</td>\n",
       "      <td>...</td>\n",
       "      <td>...</td>\n",
       "      <td>...</td>\n",
       "      <td>...</td>\n",
       "      <td>...</td>\n",
       "      <td>...</td>\n",
       "      <td>...</td>\n",
       "      <td>...</td>\n",
       "      <td>...</td>\n",
       "      <td>...</td>\n",
       "    </tr>\n",
       "    <tr>\n",
       "      <th>9352</th>\n",
       "      <td>04-04-2005</td>\n",
       "      <td>10.00.00</td>\n",
       "      <td>3.1</td>\n",
       "      <td>1314</td>\n",
       "      <td>-200</td>\n",
       "      <td>13.5</td>\n",
       "      <td>1101</td>\n",
       "      <td>472</td>\n",
       "      <td>539</td>\n",
       "      <td>190</td>\n",
       "      <td>1374</td>\n",
       "      <td>1729</td>\n",
       "      <td>21.9</td>\n",
       "      <td>29.3</td>\n",
       "      <td>0.7568</td>\n",
       "    </tr>\n",
       "    <tr>\n",
       "      <th>9353</th>\n",
       "      <td>04-04-2005</td>\n",
       "      <td>11.00.00</td>\n",
       "      <td>2.4</td>\n",
       "      <td>1163</td>\n",
       "      <td>-200</td>\n",
       "      <td>11.4</td>\n",
       "      <td>1027</td>\n",
       "      <td>353</td>\n",
       "      <td>604</td>\n",
       "      <td>179</td>\n",
       "      <td>1264</td>\n",
       "      <td>1269</td>\n",
       "      <td>24.3</td>\n",
       "      <td>23.7</td>\n",
       "      <td>0.7119</td>\n",
       "    </tr>\n",
       "    <tr>\n",
       "      <th>9354</th>\n",
       "      <td>04-04-2005</td>\n",
       "      <td>12.00.00</td>\n",
       "      <td>2.4</td>\n",
       "      <td>1142</td>\n",
       "      <td>-200</td>\n",
       "      <td>12.4</td>\n",
       "      <td>1063</td>\n",
       "      <td>293</td>\n",
       "      <td>603</td>\n",
       "      <td>175</td>\n",
       "      <td>1241</td>\n",
       "      <td>1092</td>\n",
       "      <td>26.9</td>\n",
       "      <td>18.3</td>\n",
       "      <td>0.6406</td>\n",
       "    </tr>\n",
       "    <tr>\n",
       "      <th>9355</th>\n",
       "      <td>04-04-2005</td>\n",
       "      <td>13.00.00</td>\n",
       "      <td>2.1</td>\n",
       "      <td>1003</td>\n",
       "      <td>-200</td>\n",
       "      <td>9.5</td>\n",
       "      <td>961</td>\n",
       "      <td>235</td>\n",
       "      <td>702</td>\n",
       "      <td>156</td>\n",
       "      <td>1041</td>\n",
       "      <td>770</td>\n",
       "      <td>28.3</td>\n",
       "      <td>13.5</td>\n",
       "      <td>0.5139</td>\n",
       "    </tr>\n",
       "    <tr>\n",
       "      <th>9356</th>\n",
       "      <td>04-04-2005</td>\n",
       "      <td>14.00.00</td>\n",
       "      <td>2.2</td>\n",
       "      <td>1071</td>\n",
       "      <td>-200</td>\n",
       "      <td>11.9</td>\n",
       "      <td>1047</td>\n",
       "      <td>265</td>\n",
       "      <td>654</td>\n",
       "      <td>168</td>\n",
       "      <td>1129</td>\n",
       "      <td>816</td>\n",
       "      <td>28.5</td>\n",
       "      <td>13.1</td>\n",
       "      <td>0.5028</td>\n",
       "    </tr>\n",
       "  </tbody>\n",
       "</table>\n",
       "<p>9357 rows × 15 columns</p>\n",
       "</div>"
      ],
      "text/plain": [
       "            Date      Time  CO(GT)  PT08.S1(CO)  NMHC(GT)  C6H6(GT)  \\\n",
       "0     10-03-2004  18.00.00     2.6         1360       150      11.9   \n",
       "1     10-03-2004  19.00.00     2.0         1292       112       9.4   \n",
       "2     10-03-2004  20.00.00     2.2         1402        88       9.0   \n",
       "3     10-03-2004  21.00.00     2.2         1376        80       9.2   \n",
       "4     10-03-2004  22.00.00     1.6         1272        51       6.5   \n",
       "...          ...       ...     ...          ...       ...       ...   \n",
       "9352  04-04-2005  10.00.00     3.1         1314      -200      13.5   \n",
       "9353  04-04-2005  11.00.00     2.4         1163      -200      11.4   \n",
       "9354  04-04-2005  12.00.00     2.4         1142      -200      12.4   \n",
       "9355  04-04-2005  13.00.00     2.1         1003      -200       9.5   \n",
       "9356  04-04-2005  14.00.00     2.2         1071      -200      11.9   \n",
       "\n",
       "      PT08.S2(NMHC)  NOx(GT)  PT08.S3(NOx)  NO2(GT)  PT08.S4(NO2)  \\\n",
       "0              1046      166          1056      113          1692   \n",
       "1               955      103          1174       92          1559   \n",
       "2               939      131          1140      114          1555   \n",
       "3               948      172          1092      122          1584   \n",
       "4               836      131          1205      116          1490   \n",
       "...             ...      ...           ...      ...           ...   \n",
       "9352           1101      472           539      190          1374   \n",
       "9353           1027      353           604      179          1264   \n",
       "9354           1063      293           603      175          1241   \n",
       "9355            961      235           702      156          1041   \n",
       "9356           1047      265           654      168          1129   \n",
       "\n",
       "      PT08.S5(O3)     T    RH      AH  \n",
       "0            1268  13.6  48.9  0.7578  \n",
       "1             972  13.3  47.7  0.7255  \n",
       "2            1074  11.9  54.0  0.7502  \n",
       "3            1203  11.0  60.0  0.7867  \n",
       "4            1110  11.2  59.6  0.7888  \n",
       "...           ...   ...   ...     ...  \n",
       "9352         1729  21.9  29.3  0.7568  \n",
       "9353         1269  24.3  23.7  0.7119  \n",
       "9354         1092  26.9  18.3  0.6406  \n",
       "9355          770  28.3  13.5  0.5139  \n",
       "9356          816  28.5  13.1  0.5028  \n",
       "\n",
       "[9357 rows x 15 columns]"
      ]
     },
     "execution_count": 8,
     "metadata": {},
     "output_type": "execute_result"
    }
   ],
   "source": [
    "data=pd.read_csv('AirQualityUCI.csv')\n",
    "df=pd.DataFrame(data)\n",
    "df"
   ]
  },
  {
   "cell_type": "code",
   "execution_count": 9,
   "id": "bb12927a-6f6e-4246-b8c0-1229ba467520",
   "metadata": {},
   "outputs": [
    {
     "name": "stdout",
     "output_type": "stream",
     "text": [
      "<class 'pandas.core.frame.DataFrame'>\n",
      "RangeIndex: 9357 entries, 0 to 9356\n",
      "Data columns (total 15 columns):\n",
      " #   Column         Non-Null Count  Dtype  \n",
      "---  ------         --------------  -----  \n",
      " 0   Date           9357 non-null   object \n",
      " 1   Time           9357 non-null   object \n",
      " 2   CO(GT)         9357 non-null   float64\n",
      " 3   PT08.S1(CO)    9357 non-null   int64  \n",
      " 4   NMHC(GT)       9357 non-null   int64  \n",
      " 5   C6H6(GT)       9357 non-null   float64\n",
      " 6   PT08.S2(NMHC)  9357 non-null   int64  \n",
      " 7   NOx(GT)        9357 non-null   int64  \n",
      " 8   PT08.S3(NOx)   9357 non-null   int64  \n",
      " 9   NO2(GT)        9357 non-null   int64  \n",
      " 10  PT08.S4(NO2)   9357 non-null   int64  \n",
      " 11  PT08.S5(O3)    9357 non-null   int64  \n",
      " 12  T              9357 non-null   float64\n",
      " 13  RH             9357 non-null   float64\n",
      " 14  AH             9357 non-null   float64\n",
      "dtypes: float64(5), int64(8), object(2)\n",
      "memory usage: 1.1+ MB\n"
     ]
    }
   ],
   "source": [
    "df.info()"
   ]
  },
  {
   "cell_type": "code",
   "execution_count": 10,
   "id": "3cbcd161-e8dd-43e5-9342-fc97125b63e1",
   "metadata": {},
   "outputs": [
    {
     "data": {
      "text/html": [
       "<div>\n",
       "<style scoped>\n",
       "    .dataframe tbody tr th:only-of-type {\n",
       "        vertical-align: middle;\n",
       "    }\n",
       "\n",
       "    .dataframe tbody tr th {\n",
       "        vertical-align: top;\n",
       "    }\n",
       "\n",
       "    .dataframe thead th {\n",
       "        text-align: right;\n",
       "    }\n",
       "</style>\n",
       "<table border=\"1\" class=\"dataframe\">\n",
       "  <thead>\n",
       "    <tr style=\"text-align: right;\">\n",
       "      <th></th>\n",
       "      <th>CO(GT)</th>\n",
       "      <th>PT08.S1(CO)</th>\n",
       "      <th>NMHC(GT)</th>\n",
       "      <th>C6H6(GT)</th>\n",
       "      <th>PT08.S2(NMHC)</th>\n",
       "      <th>NOx(GT)</th>\n",
       "      <th>PT08.S3(NOx)</th>\n",
       "      <th>NO2(GT)</th>\n",
       "      <th>PT08.S4(NO2)</th>\n",
       "      <th>PT08.S5(O3)</th>\n",
       "      <th>T</th>\n",
       "      <th>RH</th>\n",
       "      <th>AH</th>\n",
       "    </tr>\n",
       "  </thead>\n",
       "  <tbody>\n",
       "    <tr>\n",
       "      <th>count</th>\n",
       "      <td>9357.000000</td>\n",
       "      <td>9357.000000</td>\n",
       "      <td>9357.000000</td>\n",
       "      <td>9357.000000</td>\n",
       "      <td>9357.000000</td>\n",
       "      <td>9357.000000</td>\n",
       "      <td>9357.000000</td>\n",
       "      <td>9357.000000</td>\n",
       "      <td>9357.000000</td>\n",
       "      <td>9357.000000</td>\n",
       "      <td>9357.000000</td>\n",
       "      <td>9357.000000</td>\n",
       "      <td>9357.000000</td>\n",
       "    </tr>\n",
       "    <tr>\n",
       "      <th>mean</th>\n",
       "      <td>-34.207524</td>\n",
       "      <td>1048.990061</td>\n",
       "      <td>-159.090093</td>\n",
       "      <td>1.865683</td>\n",
       "      <td>894.595276</td>\n",
       "      <td>168.616971</td>\n",
       "      <td>794.990168</td>\n",
       "      <td>58.148873</td>\n",
       "      <td>1391.479641</td>\n",
       "      <td>975.072032</td>\n",
       "      <td>9.778305</td>\n",
       "      <td>39.485380</td>\n",
       "      <td>-6.837604</td>\n",
       "    </tr>\n",
       "    <tr>\n",
       "      <th>std</th>\n",
       "      <td>77.657170</td>\n",
       "      <td>329.832710</td>\n",
       "      <td>139.789093</td>\n",
       "      <td>41.380206</td>\n",
       "      <td>342.333252</td>\n",
       "      <td>257.433866</td>\n",
       "      <td>321.993552</td>\n",
       "      <td>126.940455</td>\n",
       "      <td>467.210125</td>\n",
       "      <td>456.938184</td>\n",
       "      <td>43.203623</td>\n",
       "      <td>51.216145</td>\n",
       "      <td>38.976670</td>\n",
       "    </tr>\n",
       "    <tr>\n",
       "      <th>min</th>\n",
       "      <td>-200.000000</td>\n",
       "      <td>-200.000000</td>\n",
       "      <td>-200.000000</td>\n",
       "      <td>-200.000000</td>\n",
       "      <td>-200.000000</td>\n",
       "      <td>-200.000000</td>\n",
       "      <td>-200.000000</td>\n",
       "      <td>-200.000000</td>\n",
       "      <td>-200.000000</td>\n",
       "      <td>-200.000000</td>\n",
       "      <td>-200.000000</td>\n",
       "      <td>-200.000000</td>\n",
       "      <td>-200.000000</td>\n",
       "    </tr>\n",
       "    <tr>\n",
       "      <th>25%</th>\n",
       "      <td>0.600000</td>\n",
       "      <td>921.000000</td>\n",
       "      <td>-200.000000</td>\n",
       "      <td>4.000000</td>\n",
       "      <td>711.000000</td>\n",
       "      <td>50.000000</td>\n",
       "      <td>637.000000</td>\n",
       "      <td>53.000000</td>\n",
       "      <td>1185.000000</td>\n",
       "      <td>700.000000</td>\n",
       "      <td>10.900000</td>\n",
       "      <td>34.100000</td>\n",
       "      <td>0.692300</td>\n",
       "    </tr>\n",
       "    <tr>\n",
       "      <th>50%</th>\n",
       "      <td>1.500000</td>\n",
       "      <td>1053.000000</td>\n",
       "      <td>-200.000000</td>\n",
       "      <td>7.900000</td>\n",
       "      <td>895.000000</td>\n",
       "      <td>141.000000</td>\n",
       "      <td>794.000000</td>\n",
       "      <td>96.000000</td>\n",
       "      <td>1446.000000</td>\n",
       "      <td>942.000000</td>\n",
       "      <td>17.200000</td>\n",
       "      <td>48.600000</td>\n",
       "      <td>0.976800</td>\n",
       "    </tr>\n",
       "    <tr>\n",
       "      <th>75%</th>\n",
       "      <td>2.600000</td>\n",
       "      <td>1221.000000</td>\n",
       "      <td>-200.000000</td>\n",
       "      <td>13.600000</td>\n",
       "      <td>1105.000000</td>\n",
       "      <td>284.000000</td>\n",
       "      <td>960.000000</td>\n",
       "      <td>133.000000</td>\n",
       "      <td>1662.000000</td>\n",
       "      <td>1255.000000</td>\n",
       "      <td>24.100000</td>\n",
       "      <td>61.900000</td>\n",
       "      <td>1.296200</td>\n",
       "    </tr>\n",
       "    <tr>\n",
       "      <th>max</th>\n",
       "      <td>11.900000</td>\n",
       "      <td>2040.000000</td>\n",
       "      <td>1189.000000</td>\n",
       "      <td>63.700000</td>\n",
       "      <td>2214.000000</td>\n",
       "      <td>1479.000000</td>\n",
       "      <td>2683.000000</td>\n",
       "      <td>340.000000</td>\n",
       "      <td>2775.000000</td>\n",
       "      <td>2523.000000</td>\n",
       "      <td>44.600000</td>\n",
       "      <td>88.700000</td>\n",
       "      <td>2.231000</td>\n",
       "    </tr>\n",
       "  </tbody>\n",
       "</table>\n",
       "</div>"
      ],
      "text/plain": [
       "            CO(GT)  PT08.S1(CO)     NMHC(GT)     C6H6(GT)  PT08.S2(NMHC)  \\\n",
       "count  9357.000000  9357.000000  9357.000000  9357.000000    9357.000000   \n",
       "mean    -34.207524  1048.990061  -159.090093     1.865683     894.595276   \n",
       "std      77.657170   329.832710   139.789093    41.380206     342.333252   \n",
       "min    -200.000000  -200.000000  -200.000000  -200.000000    -200.000000   \n",
       "25%       0.600000   921.000000  -200.000000     4.000000     711.000000   \n",
       "50%       1.500000  1053.000000  -200.000000     7.900000     895.000000   \n",
       "75%       2.600000  1221.000000  -200.000000    13.600000    1105.000000   \n",
       "max      11.900000  2040.000000  1189.000000    63.700000    2214.000000   \n",
       "\n",
       "           NOx(GT)  PT08.S3(NOx)      NO2(GT)  PT08.S4(NO2)  PT08.S5(O3)  \\\n",
       "count  9357.000000   9357.000000  9357.000000   9357.000000  9357.000000   \n",
       "mean    168.616971    794.990168    58.148873   1391.479641   975.072032   \n",
       "std     257.433866    321.993552   126.940455    467.210125   456.938184   \n",
       "min    -200.000000   -200.000000  -200.000000   -200.000000  -200.000000   \n",
       "25%      50.000000    637.000000    53.000000   1185.000000   700.000000   \n",
       "50%     141.000000    794.000000    96.000000   1446.000000   942.000000   \n",
       "75%     284.000000    960.000000   133.000000   1662.000000  1255.000000   \n",
       "max    1479.000000   2683.000000   340.000000   2775.000000  2523.000000   \n",
       "\n",
       "                 T           RH           AH  \n",
       "count  9357.000000  9357.000000  9357.000000  \n",
       "mean      9.778305    39.485380    -6.837604  \n",
       "std      43.203623    51.216145    38.976670  \n",
       "min    -200.000000  -200.000000  -200.000000  \n",
       "25%      10.900000    34.100000     0.692300  \n",
       "50%      17.200000    48.600000     0.976800  \n",
       "75%      24.100000    61.900000     1.296200  \n",
       "max      44.600000    88.700000     2.231000  "
      ]
     },
     "execution_count": 10,
     "metadata": {},
     "output_type": "execute_result"
    }
   ],
   "source": [
    "df.describe()"
   ]
  },
  {
   "cell_type": "code",
   "execution_count": 11,
   "id": "dca90f66-5cb4-41af-a41c-39dc82a0200d",
   "metadata": {},
   "outputs": [
    {
     "data": {
      "text/plain": [
       "Index(['Date', 'Time', 'CO(GT)', 'PT08.S1(CO)', 'NMHC(GT)', 'C6H6(GT)',\n",
       "       'PT08.S2(NMHC)', 'NOx(GT)', 'PT08.S3(NOx)', 'NO2(GT)', 'PT08.S4(NO2)',\n",
       "       'PT08.S5(O3)', 'T', 'RH', 'AH'],\n",
       "      dtype='object')"
      ]
     },
     "execution_count": 11,
     "metadata": {},
     "output_type": "execute_result"
    }
   ],
   "source": [
    "df.columns"
   ]
  },
  {
   "cell_type": "code",
   "execution_count": 12,
   "id": "280a27ed-260c-4d34-bb8a-2e54d96b2ee2",
   "metadata": {},
   "outputs": [
    {
     "data": {
      "text/plain": [
       "(9357, 15)"
      ]
     },
     "execution_count": 12,
     "metadata": {},
     "output_type": "execute_result"
    }
   ],
   "source": [
    "df.shape"
   ]
  },
  {
   "cell_type": "code",
   "execution_count": 13,
   "id": "f83a4a04-779d-4c74-ad73-8a9669bada14",
   "metadata": {},
   "outputs": [
    {
     "data": {
      "text/plain": [
       "Date              object\n",
       "Time              object\n",
       "CO(GT)           float64\n",
       "PT08.S1(CO)        int64\n",
       "NMHC(GT)           int64\n",
       "C6H6(GT)         float64\n",
       "PT08.S2(NMHC)      int64\n",
       "NOx(GT)            int64\n",
       "PT08.S3(NOx)       int64\n",
       "NO2(GT)            int64\n",
       "PT08.S4(NO2)       int64\n",
       "PT08.S5(O3)        int64\n",
       "T                float64\n",
       "RH               float64\n",
       "AH               float64\n",
       "dtype: object"
      ]
     },
     "execution_count": 13,
     "metadata": {},
     "output_type": "execute_result"
    }
   ],
   "source": [
    "df.dtypes"
   ]
  },
  {
   "cell_type": "markdown",
   "id": "2840c7ac-a6da-4782-b9ab-e2e21ab62f84",
   "metadata": {},
   "source": [
    "#### DATA CLEANING"
   ]
  },
  {
   "cell_type": "code",
   "execution_count": 14,
   "id": "69125767-78aa-42ca-8f51-59f963950106",
   "metadata": {},
   "outputs": [
    {
     "data": {
      "text/plain": [
       "Date             0\n",
       "Time             0\n",
       "CO(GT)           0\n",
       "PT08.S1(CO)      0\n",
       "NMHC(GT)         0\n",
       "C6H6(GT)         0\n",
       "PT08.S2(NMHC)    0\n",
       "NOx(GT)          0\n",
       "PT08.S3(NOx)     0\n",
       "NO2(GT)          0\n",
       "PT08.S4(NO2)     0\n",
       "PT08.S5(O3)      0\n",
       "T                0\n",
       "RH               0\n",
       "AH               0\n",
       "dtype: int64"
      ]
     },
     "execution_count": 14,
     "metadata": {},
     "output_type": "execute_result"
    }
   ],
   "source": [
    "df.isna().sum()"
   ]
  },
  {
   "cell_type": "code",
   "execution_count": 15,
   "id": "025164eb-47f8-4cb1-86db-6bcaa0385a2f",
   "metadata": {},
   "outputs": [
    {
     "data": {
      "text/plain": [
       "Date             0\n",
       "Time             0\n",
       "CO(GT)           0\n",
       "PT08.S1(CO)      0\n",
       "NMHC(GT)         0\n",
       "C6H6(GT)         0\n",
       "PT08.S2(NMHC)    0\n",
       "NOx(GT)          0\n",
       "PT08.S3(NOx)     0\n",
       "NO2(GT)          0\n",
       "PT08.S4(NO2)     0\n",
       "PT08.S5(O3)      0\n",
       "T                0\n",
       "RH               0\n",
       "AH               0\n",
       "dtype: int64"
      ]
     },
     "execution_count": 15,
     "metadata": {},
     "output_type": "execute_result"
    }
   ],
   "source": [
    "df.isnull().sum()"
   ]
  },
  {
   "cell_type": "code",
   "execution_count": 16,
   "id": "5329315b-3157-4cdb-8061-f0aa3472609a",
   "metadata": {},
   "outputs": [
    {
     "data": {
      "text/plain": [
       "Date             False\n",
       "Time             False\n",
       "CO(GT)           False\n",
       "PT08.S1(CO)      False\n",
       "NMHC(GT)         False\n",
       "C6H6(GT)         False\n",
       "PT08.S2(NMHC)    False\n",
       "NOx(GT)          False\n",
       "PT08.S3(NOx)     False\n",
       "NO2(GT)          False\n",
       "PT08.S4(NO2)     False\n",
       "PT08.S5(O3)      False\n",
       "T                False\n",
       "RH               False\n",
       "AH               False\n",
       "dtype: bool"
      ]
     },
     "execution_count": 16,
     "metadata": {},
     "output_type": "execute_result"
    }
   ],
   "source": [
    "df.isna().any()"
   ]
  },
  {
   "cell_type": "code",
   "execution_count": 17,
   "id": "f54b63d4-84b3-46cb-b118-93aa302ea4ba",
   "metadata": {},
   "outputs": [
    {
     "data": {
      "text/plain": [
       "Date             False\n",
       "Time             False\n",
       "CO(GT)           False\n",
       "PT08.S1(CO)      False\n",
       "NMHC(GT)         False\n",
       "C6H6(GT)         False\n",
       "PT08.S2(NMHC)    False\n",
       "NOx(GT)          False\n",
       "PT08.S3(NOx)     False\n",
       "NO2(GT)          False\n",
       "PT08.S4(NO2)     False\n",
       "PT08.S5(O3)      False\n",
       "T                False\n",
       "RH               False\n",
       "AH               False\n",
       "dtype: bool"
      ]
     },
     "execution_count": 17,
     "metadata": {},
     "output_type": "execute_result"
    }
   ],
   "source": [
    "df.isnull().any()"
   ]
  },
  {
   "cell_type": "code",
   "execution_count": 18,
   "id": "f59ef551-6dc8-499c-ab62-d91785495b8d",
   "metadata": {},
   "outputs": [
    {
     "data": {
      "text/plain": [
       "np.int64(0)"
      ]
     },
     "execution_count": 18,
     "metadata": {},
     "output_type": "execute_result"
    }
   ],
   "source": [
    "df.duplicated().sum()"
   ]
  },
  {
   "cell_type": "code",
   "execution_count": 19,
   "id": "de2b8595-7471-41c2-9b4d-96d9e06de3d5",
   "metadata": {},
   "outputs": [
    {
     "data": {
      "text/html": [
       "<div>\n",
       "<style scoped>\n",
       "    .dataframe tbody tr th:only-of-type {\n",
       "        vertical-align: middle;\n",
       "    }\n",
       "\n",
       "    .dataframe tbody tr th {\n",
       "        vertical-align: top;\n",
       "    }\n",
       "\n",
       "    .dataframe thead th {\n",
       "        text-align: right;\n",
       "    }\n",
       "</style>\n",
       "<table border=\"1\" class=\"dataframe\">\n",
       "  <thead>\n",
       "    <tr style=\"text-align: right;\">\n",
       "      <th></th>\n",
       "      <th>Date</th>\n",
       "      <th>Time</th>\n",
       "      <th>CO(GT)</th>\n",
       "      <th>PT08.S1(CO)</th>\n",
       "      <th>NMHC(GT)</th>\n",
       "      <th>C6H6(GT)</th>\n",
       "      <th>PT08.S2(NMHC)</th>\n",
       "      <th>NOx(GT)</th>\n",
       "      <th>PT08.S3(NOx)</th>\n",
       "      <th>NO2(GT)</th>\n",
       "      <th>PT08.S4(NO2)</th>\n",
       "      <th>PT08.S5(O3)</th>\n",
       "      <th>T</th>\n",
       "      <th>RH</th>\n",
       "      <th>AH</th>\n",
       "    </tr>\n",
       "  </thead>\n",
       "  <tbody>\n",
       "    <tr>\n",
       "      <th>0</th>\n",
       "      <td>10-03-2004</td>\n",
       "      <td>18.00.00</td>\n",
       "      <td>2.6</td>\n",
       "      <td>1360</td>\n",
       "      <td>150</td>\n",
       "      <td>11.9</td>\n",
       "      <td>1046</td>\n",
       "      <td>166</td>\n",
       "      <td>1056</td>\n",
       "      <td>113</td>\n",
       "      <td>1692</td>\n",
       "      <td>1268</td>\n",
       "      <td>13.6</td>\n",
       "      <td>48.9</td>\n",
       "      <td>0.7578</td>\n",
       "    </tr>\n",
       "    <tr>\n",
       "      <th>1</th>\n",
       "      <td>10-03-2004</td>\n",
       "      <td>19.00.00</td>\n",
       "      <td>2.0</td>\n",
       "      <td>1292</td>\n",
       "      <td>112</td>\n",
       "      <td>9.4</td>\n",
       "      <td>955</td>\n",
       "      <td>103</td>\n",
       "      <td>1174</td>\n",
       "      <td>92</td>\n",
       "      <td>1559</td>\n",
       "      <td>972</td>\n",
       "      <td>13.3</td>\n",
       "      <td>47.7</td>\n",
       "      <td>0.7255</td>\n",
       "    </tr>\n",
       "    <tr>\n",
       "      <th>2</th>\n",
       "      <td>10-03-2004</td>\n",
       "      <td>20.00.00</td>\n",
       "      <td>2.2</td>\n",
       "      <td>1402</td>\n",
       "      <td>88</td>\n",
       "      <td>9.0</td>\n",
       "      <td>939</td>\n",
       "      <td>131</td>\n",
       "      <td>1140</td>\n",
       "      <td>114</td>\n",
       "      <td>1555</td>\n",
       "      <td>1074</td>\n",
       "      <td>11.9</td>\n",
       "      <td>54.0</td>\n",
       "      <td>0.7502</td>\n",
       "    </tr>\n",
       "    <tr>\n",
       "      <th>3</th>\n",
       "      <td>10-03-2004</td>\n",
       "      <td>21.00.00</td>\n",
       "      <td>2.2</td>\n",
       "      <td>1376</td>\n",
       "      <td>80</td>\n",
       "      <td>9.2</td>\n",
       "      <td>948</td>\n",
       "      <td>172</td>\n",
       "      <td>1092</td>\n",
       "      <td>122</td>\n",
       "      <td>1584</td>\n",
       "      <td>1203</td>\n",
       "      <td>11.0</td>\n",
       "      <td>60.0</td>\n",
       "      <td>0.7867</td>\n",
       "    </tr>\n",
       "    <tr>\n",
       "      <th>4</th>\n",
       "      <td>10-03-2004</td>\n",
       "      <td>22.00.00</td>\n",
       "      <td>1.6</td>\n",
       "      <td>1272</td>\n",
       "      <td>51</td>\n",
       "      <td>6.5</td>\n",
       "      <td>836</td>\n",
       "      <td>131</td>\n",
       "      <td>1205</td>\n",
       "      <td>116</td>\n",
       "      <td>1490</td>\n",
       "      <td>1110</td>\n",
       "      <td>11.2</td>\n",
       "      <td>59.6</td>\n",
       "      <td>0.7888</td>\n",
       "    </tr>\n",
       "    <tr>\n",
       "      <th>...</th>\n",
       "      <td>...</td>\n",
       "      <td>...</td>\n",
       "      <td>...</td>\n",
       "      <td>...</td>\n",
       "      <td>...</td>\n",
       "      <td>...</td>\n",
       "      <td>...</td>\n",
       "      <td>...</td>\n",
       "      <td>...</td>\n",
       "      <td>...</td>\n",
       "      <td>...</td>\n",
       "      <td>...</td>\n",
       "      <td>...</td>\n",
       "      <td>...</td>\n",
       "      <td>...</td>\n",
       "    </tr>\n",
       "    <tr>\n",
       "      <th>9352</th>\n",
       "      <td>04-04-2005</td>\n",
       "      <td>10.00.00</td>\n",
       "      <td>3.1</td>\n",
       "      <td>1314</td>\n",
       "      <td>-200</td>\n",
       "      <td>13.5</td>\n",
       "      <td>1101</td>\n",
       "      <td>472</td>\n",
       "      <td>539</td>\n",
       "      <td>190</td>\n",
       "      <td>1374</td>\n",
       "      <td>1729</td>\n",
       "      <td>21.9</td>\n",
       "      <td>29.3</td>\n",
       "      <td>0.7568</td>\n",
       "    </tr>\n",
       "    <tr>\n",
       "      <th>9353</th>\n",
       "      <td>04-04-2005</td>\n",
       "      <td>11.00.00</td>\n",
       "      <td>2.4</td>\n",
       "      <td>1163</td>\n",
       "      <td>-200</td>\n",
       "      <td>11.4</td>\n",
       "      <td>1027</td>\n",
       "      <td>353</td>\n",
       "      <td>604</td>\n",
       "      <td>179</td>\n",
       "      <td>1264</td>\n",
       "      <td>1269</td>\n",
       "      <td>24.3</td>\n",
       "      <td>23.7</td>\n",
       "      <td>0.7119</td>\n",
       "    </tr>\n",
       "    <tr>\n",
       "      <th>9354</th>\n",
       "      <td>04-04-2005</td>\n",
       "      <td>12.00.00</td>\n",
       "      <td>2.4</td>\n",
       "      <td>1142</td>\n",
       "      <td>-200</td>\n",
       "      <td>12.4</td>\n",
       "      <td>1063</td>\n",
       "      <td>293</td>\n",
       "      <td>603</td>\n",
       "      <td>175</td>\n",
       "      <td>1241</td>\n",
       "      <td>1092</td>\n",
       "      <td>26.9</td>\n",
       "      <td>18.3</td>\n",
       "      <td>0.6406</td>\n",
       "    </tr>\n",
       "    <tr>\n",
       "      <th>9355</th>\n",
       "      <td>04-04-2005</td>\n",
       "      <td>13.00.00</td>\n",
       "      <td>2.1</td>\n",
       "      <td>1003</td>\n",
       "      <td>-200</td>\n",
       "      <td>9.5</td>\n",
       "      <td>961</td>\n",
       "      <td>235</td>\n",
       "      <td>702</td>\n",
       "      <td>156</td>\n",
       "      <td>1041</td>\n",
       "      <td>770</td>\n",
       "      <td>28.3</td>\n",
       "      <td>13.5</td>\n",
       "      <td>0.5139</td>\n",
       "    </tr>\n",
       "    <tr>\n",
       "      <th>9356</th>\n",
       "      <td>04-04-2005</td>\n",
       "      <td>14.00.00</td>\n",
       "      <td>2.2</td>\n",
       "      <td>1071</td>\n",
       "      <td>-200</td>\n",
       "      <td>11.9</td>\n",
       "      <td>1047</td>\n",
       "      <td>265</td>\n",
       "      <td>654</td>\n",
       "      <td>168</td>\n",
       "      <td>1129</td>\n",
       "      <td>816</td>\n",
       "      <td>28.5</td>\n",
       "      <td>13.1</td>\n",
       "      <td>0.5028</td>\n",
       "    </tr>\n",
       "  </tbody>\n",
       "</table>\n",
       "<p>9357 rows × 15 columns</p>\n",
       "</div>"
      ],
      "text/plain": [
       "            Date      Time  CO(GT)  PT08.S1(CO)  NMHC(GT)  C6H6(GT)  \\\n",
       "0     10-03-2004  18.00.00     2.6         1360       150      11.9   \n",
       "1     10-03-2004  19.00.00     2.0         1292       112       9.4   \n",
       "2     10-03-2004  20.00.00     2.2         1402        88       9.0   \n",
       "3     10-03-2004  21.00.00     2.2         1376        80       9.2   \n",
       "4     10-03-2004  22.00.00     1.6         1272        51       6.5   \n",
       "...          ...       ...     ...          ...       ...       ...   \n",
       "9352  04-04-2005  10.00.00     3.1         1314      -200      13.5   \n",
       "9353  04-04-2005  11.00.00     2.4         1163      -200      11.4   \n",
       "9354  04-04-2005  12.00.00     2.4         1142      -200      12.4   \n",
       "9355  04-04-2005  13.00.00     2.1         1003      -200       9.5   \n",
       "9356  04-04-2005  14.00.00     2.2         1071      -200      11.9   \n",
       "\n",
       "      PT08.S2(NMHC)  NOx(GT)  PT08.S3(NOx)  NO2(GT)  PT08.S4(NO2)  \\\n",
       "0              1046      166          1056      113          1692   \n",
       "1               955      103          1174       92          1559   \n",
       "2               939      131          1140      114          1555   \n",
       "3               948      172          1092      122          1584   \n",
       "4               836      131          1205      116          1490   \n",
       "...             ...      ...           ...      ...           ...   \n",
       "9352           1101      472           539      190          1374   \n",
       "9353           1027      353           604      179          1264   \n",
       "9354           1063      293           603      175          1241   \n",
       "9355            961      235           702      156          1041   \n",
       "9356           1047      265           654      168          1129   \n",
       "\n",
       "      PT08.S5(O3)     T    RH      AH  \n",
       "0            1268  13.6  48.9  0.7578  \n",
       "1             972  13.3  47.7  0.7255  \n",
       "2            1074  11.9  54.0  0.7502  \n",
       "3            1203  11.0  60.0  0.7867  \n",
       "4            1110  11.2  59.6  0.7888  \n",
       "...           ...   ...   ...     ...  \n",
       "9352         1729  21.9  29.3  0.7568  \n",
       "9353         1269  24.3  23.7  0.7119  \n",
       "9354         1092  26.9  18.3  0.6406  \n",
       "9355          770  28.3  13.5  0.5139  \n",
       "9356          816  28.5  13.1  0.5028  \n",
       "\n",
       "[9357 rows x 15 columns]"
      ]
     },
     "execution_count": 19,
     "metadata": {},
     "output_type": "execute_result"
    }
   ],
   "source": [
    "df.fillna(0)\n"
   ]
  },
  {
   "cell_type": "markdown",
   "id": "972d9e69-5f10-4846-a983-356cb94509e9",
   "metadata": {},
   "source": [
    "#### DATA SET CORRECTION"
   ]
  },
  {
   "cell_type": "code",
   "execution_count": 20,
   "id": "c1f37a28-fe6e-4859-a242-c3ed165ca854",
   "metadata": {},
   "outputs": [
    {
     "data": {
      "text/plain": [
       "Index(['Date', 'Time', 'CO(GT)', 'PT08.S1(CO)', 'NMHC(GT)', 'C6H6(GT)',\n",
       "       'PT08.S2(NMHC)', 'NOx(GT)', 'PT08.S3(NOx)', 'NO2(GT)', 'PT08.S4(NO2)',\n",
       "       'PT08.S5(O3)', 'T', 'RH', 'AH'],\n",
       "      dtype='object')"
      ]
     },
     "execution_count": 20,
     "metadata": {},
     "output_type": "execute_result"
    }
   ],
   "source": [
    "df.columns"
   ]
  },
  {
   "cell_type": "code",
   "execution_count": 21,
   "id": "4fdd9a33-26c1-4acd-b65b-2b4c45434a12",
   "metadata": {},
   "outputs": [],
   "source": [
    "df.replace(-200, np.nan, inplace=True)"
   ]
  },
  {
   "cell_type": "code",
   "execution_count": 22,
   "id": "a5f156e2-1820-42ec-b93c-2f72b7fe70fb",
   "metadata": {},
   "outputs": [
    {
     "data": {
      "text/plain": [
       "CO(GT)\n",
       "1.0     305\n",
       "1.4     279\n",
       "1.6     275\n",
       "1.5     273\n",
       "1.1     262\n",
       "       ... \n",
       "10.1      1\n",
       "9.9       1\n",
       "9.4       1\n",
       "9.3       1\n",
       "8.5       1\n",
       "Name: count, Length: 96, dtype: int64"
      ]
     },
     "execution_count": 22,
     "metadata": {},
     "output_type": "execute_result"
    }
   ],
   "source": [
    "df['CO(GT)'].value_counts()"
   ]
  },
  {
   "cell_type": "code",
   "execution_count": 23,
   "id": "cf5d2ed1-2201-41e6-890b-b29398cc4bf5",
   "metadata": {},
   "outputs": [
    {
     "data": {
      "text/plain": [
       "Index(['Date', 'Time', 'CO(GT)', 'PT08.S1(CO)', 'NMHC(GT)', 'C6H6(GT)',\n",
       "       'PT08.S2(NMHC)', 'NOx(GT)', 'PT08.S3(NOx)', 'NO2(GT)', 'PT08.S4(NO2)',\n",
       "       'PT08.S5(O3)', 'Temperatue', 'Relative Humidity', 'Absolute Humidity'],\n",
       "      dtype='object')"
      ]
     },
     "execution_count": 23,
     "metadata": {},
     "output_type": "execute_result"
    }
   ],
   "source": [
    "df.rename(columns={'T':'Temperatue','RH':'Relative Humidity','AH':'Absolute Humidity'},inplace=True)\n",
    "df.columns"
   ]
  },
  {
   "cell_type": "code",
   "execution_count": 24,
   "id": "ceba7d1b-d284-482c-8b49-7c2795d46299",
   "metadata": {},
   "outputs": [
    {
     "data": {
      "text/plain": [
       "Index(['Date', 'Time', 'CO(GT)', 'Sensor 1(Tin Oxide)(CO)', 'NMHC(GT)',\n",
       "       'C6H6(GT)', 'Sensor 2(Titania)(NMHC)', 'NOx(GT)',\n",
       "       'Sensor 3(Tungsten Oxide)(NOx)', 'NO2(GT)',\n",
       "       'Sensor 4(Indium Oxide)(NO2)', 'Sensor 5(Indium Oxide)(O₃)',\n",
       "       'Temperatue', 'Relative Humidity', 'Absolute Humidity'],\n",
       "      dtype='object')"
      ]
     },
     "execution_count": 24,
     "metadata": {},
     "output_type": "execute_result"
    }
   ],
   "source": [
    "df.rename(columns={'PT08.S1(CO)':'Sensor 1(Tin Oxide)(CO)','PT08.S2(NMHC)':'Sensor 2(Titania)(NMHC)','PT08.S3(NOx)':'Sensor 3(Tungsten Oxide)(NOx)','PT08.S4(NO2)':'Sensor 4(Indium Oxide)(NO2)','PT08.S5(O3)':'Sensor 5(Indium Oxide)(O₃)'},inplace=True)\n",
    "df.columns"
   ]
  },
  {
   "cell_type": "code",
   "execution_count": 25,
   "id": "8a0bf6e9-4afd-48d5-a07b-f08ac4717225",
   "metadata": {},
   "outputs": [
    {
     "data": {
      "text/plain": [
       "Date                              object\n",
       "Time                              object\n",
       "CO(GT)                           float64\n",
       "Sensor 1(Tin Oxide)(CO)          float64\n",
       "NMHC(GT)                         float64\n",
       "C6H6(GT)                         float64\n",
       "Sensor 2(Titania)(NMHC)          float64\n",
       "NOx(GT)                          float64\n",
       "Sensor 3(Tungsten Oxide)(NOx)    float64\n",
       "NO2(GT)                          float64\n",
       "Sensor 4(Indium Oxide)(NO2)      float64\n",
       "Sensor 5(Indium Oxide)(O₃)       float64\n",
       "Temperatue                       float64\n",
       "Relative Humidity                float64\n",
       "Absolute Humidity                float64\n",
       "dtype: object"
      ]
     },
     "execution_count": 25,
     "metadata": {},
     "output_type": "execute_result"
    }
   ],
   "source": [
    "df.dtypes"
   ]
  },
  {
   "cell_type": "code",
   "execution_count": 26,
   "id": "b269223c-6ee1-4545-bf01-eb8152e4b5c3",
   "metadata": {},
   "outputs": [
    {
     "name": "stdout",
     "output_type": "stream",
     "text": [
      "['10-03-2004' '11-03-2004' '12-03-2004' '13-03-2004' '14-03-2004'\n",
      " '15-03-2004' '16-03-2004' '17-03-2004' '18-03-2004' '19-03-2004'\n",
      " '20-03-2004' '21-03-2004' '22-03-2004' '23-03-2004' '24-03-2004'\n",
      " '25-03-2004' '26-03-2004' '27-03-2004' '28-03-2004' '29-03-2004'\n",
      " '30-03-2004' '31-03-2004' '01-04-2004' '02-04-2004' '03-04-2004'\n",
      " '04-04-2004' '05-04-2004' '06-04-2004' '07-04-2004' '08-04-2004'\n",
      " '09-04-2004' '10-04-2004' '11-04-2004' '12-04-2004' '13-04-2004'\n",
      " '14-04-2004' '15-04-2004' '16-04-2004' '17-04-2004' '18-04-2004'\n",
      " '19-04-2004' '20-04-2004' '21-04-2004' '22-04-2004' '23-04-2004'\n",
      " '24-04-2004' '25-04-2004' '26-04-2004' '27-04-2004' '28-04-2004'\n",
      " '29-04-2004' '30-04-2004' '01-05-2004' '02-05-2004' '03-05-2004'\n",
      " '04-05-2004' '05-05-2004' '06-05-2004' '07-05-2004' '08-05-2004'\n",
      " '09-05-2004' '10-05-2004' '11-05-2004' '12-05-2004' '13-05-2004'\n",
      " '14-05-2004' '15-05-2004' '16-05-2004' '17-05-2004' '18-05-2004'\n",
      " '19-05-2004' '20-05-2004' '21-05-2004' '22-05-2004' '23-05-2004'\n",
      " '24-05-2004' '25-05-2004' '26-05-2004' '27-05-2004' '28-05-2004'\n",
      " '29-05-2004' '30-05-2004' '31-05-2004' '01-06-2004' '02-06-2004'\n",
      " '03-06-2004' '04-06-2004' '05-06-2004' '06-06-2004' '07-06-2004'\n",
      " '08-06-2004' '09-06-2004' '10-06-2004' '11-06-2004' '12-06-2004'\n",
      " '13-06-2004' '14-06-2004' '15-06-2004' '16-06-2004' '17-06-2004'\n",
      " '18-06-2004' '19-06-2004' '20-06-2004' '21-06-2004' '22-06-2004'\n",
      " '23-06-2004' '24-06-2004' '25-06-2004' '26-06-2004' '27-06-2004'\n",
      " '28-06-2004' '29-06-2004' '30-06-2004' '01-07-2004' '02-07-2004'\n",
      " '03-07-2004' '04-07-2004' '05-07-2004' '06-07-2004' '07-07-2004'\n",
      " '08-07-2004' '09-07-2004' '10-07-2004' '11-07-2004' '12-07-2004'\n",
      " '13-07-2004' '14-07-2004' '15-07-2004' '16-07-2004' '17-07-2004'\n",
      " '18-07-2004' '19-07-2004' '20-07-2004' '21-07-2004' '22-07-2004'\n",
      " '23-07-2004' '24-07-2004' '25-07-2004' '26-07-2004' '27-07-2004'\n",
      " '28-07-2004' '29-07-2004' '30-07-2004' '31-07-2004' '01-08-2004'\n",
      " '02-08-2004' '03-08-2004' '04-08-2004' '05-08-2004' '06-08-2004'\n",
      " '07-08-2004' '08-08-2004' '09-08-2004' '10-08-2004' '11-08-2004'\n",
      " '12-08-2004' '13-08-2004' '14-08-2004' '15-08-2004' '16-08-2004'\n",
      " '17-08-2004' '18-08-2004' '19-08-2004' '20-08-2004' '21-08-2004'\n",
      " '22-08-2004' '23-08-2004' '24-08-2004' '25-08-2004' '26-08-2004'\n",
      " '27-08-2004' '28-08-2004' '29-08-2004' '30-08-2004' '31-08-2004'\n",
      " '01-09-2004' '02-09-2004' '03-09-2004' '04-09-2004' '05-09-2004'\n",
      " '06-09-2004' '07-09-2004' '08-09-2004' '09-09-2004' '10-09-2004'\n",
      " '11-09-2004' '12-09-2004' '13-09-2004' '14-09-2004' '15-09-2004'\n",
      " '16-09-2004' '17-09-2004' '18-09-2004' '19-09-2004' '20-09-2004'\n",
      " '21-09-2004' '22-09-2004' '23-09-2004' '24-09-2004' '25-09-2004'\n",
      " '26-09-2004' '27-09-2004' '28-09-2004' '29-09-2004' '30-09-2004'\n",
      " '01-10-2004' '02-10-2004' '03-10-2004' '04-10-2004' '05-10-2004'\n",
      " '06-10-2004' '07-10-2004' '08-10-2004' '09-10-2004' '10-10-2004'\n",
      " '11-10-2004' '12-10-2004' '13-10-2004' '14-10-2004' '15-10-2004'\n",
      " '16-10-2004' '17-10-2004' '18-10-2004' '19-10-2004' '20-10-2004'\n",
      " '21-10-2004' '22-10-2004' '23-10-2004' '24-10-2004' '25-10-2004'\n",
      " '26-10-2004' '27-10-2004' '28-10-2004' '29-10-2004' '30-10-2004'\n",
      " '31-10-2004' '01-11-2004' '02-11-2004' '03-11-2004' '04-11-2004'\n",
      " '05-11-2004' '06-11-2004' '07-11-2004' '08-11-2004' '09-11-2004'\n",
      " '10-11-2004' '11-11-2004' '12-11-2004' '13-11-2004' '14-11-2004'\n",
      " '15-11-2004' '16-11-2004' '17-11-2004' '18-11-2004' '19-11-2004'\n",
      " '20-11-2004' '21-11-2004' '22-11-2004' '23-11-2004' '24-11-2004'\n",
      " '25-11-2004' '26-11-2004' '27-11-2004' '28-11-2004' '29-11-2004'\n",
      " '30-11-2004' '01-12-2004' '02-12-2004' '03-12-2004' '04-12-2004'\n",
      " '05-12-2004' '06-12-2004' '07-12-2004' '08-12-2004' '09-12-2004'\n",
      " '10-12-2004' '11-12-2004' '12-12-2004' '13-12-2004' '14-12-2004'\n",
      " '15-12-2004' '16-12-2004' '17-12-2004' '18-12-2004' '19-12-2004'\n",
      " '20-12-2004' '21-12-2004' '22-12-2004' '23-12-2004' '24-12-2004'\n",
      " '25-12-2004' '26-12-2004' '27-12-2004' '28-12-2004' '29-12-2004'\n",
      " '30-12-2004' '31-12-2004' '01-01-2005' '02-01-2005' '03-01-2005'\n",
      " '04-01-2005' '05-01-2005' '06-01-2005' '07-01-2005' '08-01-2005'\n",
      " '09-01-2005' '10-01-2005' '11-01-2005' '12-01-2005' '13-01-2005'\n",
      " '14-01-2005' '15-01-2005' '16-01-2005' '17-01-2005' '18-01-2005'\n",
      " '19-01-2005' '20-01-2005' '21-01-2005' '22-01-2005' '23-01-2005'\n",
      " '24-01-2005' '25-01-2005' '26-01-2005' '27-01-2005' '28-01-2005'\n",
      " '29-01-2005' '30-01-2005' '31-01-2005' '01-02-2005' '02-02-2005'\n",
      " '03-02-2005' '04-02-2005' '05-02-2005' '06-02-2005' '07-02-2005'\n",
      " '08-02-2005' '09-02-2005' '10-02-2005' '11-02-2005' '12-02-2005'\n",
      " '13-02-2005' '14-02-2005' '15-02-2005' '16-02-2005' '17-02-2005'\n",
      " '18-02-2005' '19-02-2005' '20-02-2005' '21-02-2005' '22-02-2005'\n",
      " '23-02-2005' '24-02-2005' '25-02-2005' '26-02-2005' '27-02-2005'\n",
      " '28-02-2005' '01-03-2005' '02-03-2005' '03-03-2005' '04-03-2005'\n",
      " '05-03-2005' '06-03-2005' '07-03-2005' '08-03-2005' '09-03-2005'\n",
      " '10-03-2005' '11-03-2005' '12-03-2005' '13-03-2005' '14-03-2005'\n",
      " '15-03-2005' '16-03-2005' '17-03-2005' '18-03-2005' '19-03-2005'\n",
      " '20-03-2005' '21-03-2005' '22-03-2005' '23-03-2005' '24-03-2005'\n",
      " '25-03-2005' '26-03-2005' '27-03-2005' '28-03-2005' '29-03-2005'\n",
      " '30-03-2005' '31-03-2005' '01-04-2005' '02-04-2005' '03-04-2005'\n",
      " '04-04-2005']\n"
     ]
    }
   ],
   "source": [
    "print(df['Date'].unique())"
   ]
  },
  {
   "cell_type": "code",
   "execution_count": 27,
   "id": "326d5b67-140b-40e9-b1ae-64d92873893a",
   "metadata": {},
   "outputs": [],
   "source": [
    "df['Date'] = pd.to_datetime(df['Date'], errors='coerce')"
   ]
  },
  {
   "cell_type": "code",
   "execution_count": 28,
   "id": "70b68c40-dfcf-491c-9316-e62fec1423b8",
   "metadata": {},
   "outputs": [],
   "source": [
    "df.replace(-200, np.nan, inplace=True)"
   ]
  },
  {
   "cell_type": "code",
   "execution_count": 29,
   "id": "c366bbe8-3e7e-4738-8211-9c132d1c7c29",
   "metadata": {},
   "outputs": [
    {
     "name": "stdout",
     "output_type": "stream",
     "text": [
      "datetime64[ns]\n"
     ]
    }
   ],
   "source": [
    "print(df['Date'].dtype)"
   ]
  },
  {
   "cell_type": "code",
   "execution_count": 30,
   "id": "72ea4a0b-50bb-47ad-a6fe-abb17478811e",
   "metadata": {},
   "outputs": [
    {
     "data": {
      "text/html": [
       "<div>\n",
       "<style scoped>\n",
       "    .dataframe tbody tr th:only-of-type {\n",
       "        vertical-align: middle;\n",
       "    }\n",
       "\n",
       "    .dataframe tbody tr th {\n",
       "        vertical-align: top;\n",
       "    }\n",
       "\n",
       "    .dataframe thead th {\n",
       "        text-align: right;\n",
       "    }\n",
       "</style>\n",
       "<table border=\"1\" class=\"dataframe\">\n",
       "  <thead>\n",
       "    <tr style=\"text-align: right;\">\n",
       "      <th></th>\n",
       "      <th>Date</th>\n",
       "      <th>Time</th>\n",
       "      <th>CO(GT)</th>\n",
       "      <th>Sensor 1(Tin Oxide)(CO)</th>\n",
       "      <th>NMHC(GT)</th>\n",
       "      <th>C6H6(GT)</th>\n",
       "      <th>Sensor 2(Titania)(NMHC)</th>\n",
       "      <th>NOx(GT)</th>\n",
       "      <th>Sensor 3(Tungsten Oxide)(NOx)</th>\n",
       "      <th>NO2(GT)</th>\n",
       "      <th>Sensor 4(Indium Oxide)(NO2)</th>\n",
       "      <th>Sensor 5(Indium Oxide)(O₃)</th>\n",
       "      <th>Temperatue</th>\n",
       "      <th>Relative Humidity</th>\n",
       "      <th>Absolute Humidity</th>\n",
       "    </tr>\n",
       "  </thead>\n",
       "  <tbody>\n",
       "    <tr>\n",
       "      <th>558</th>\n",
       "      <td>2004-03-04</td>\n",
       "      <td>0.00.00</td>\n",
       "      <td>1.6</td>\n",
       "      <td>1254.0</td>\n",
       "      <td>139.0</td>\n",
       "      <td>9.0</td>\n",
       "      <td>941.0</td>\n",
       "      <td>98.0</td>\n",
       "      <td>828.0</td>\n",
       "      <td>106.0</td>\n",
       "      <td>1566.0</td>\n",
       "      <td>1270.0</td>\n",
       "      <td>17.1</td>\n",
       "      <td>51.8</td>\n",
       "      <td>0.9990</td>\n",
       "    </tr>\n",
       "    <tr>\n",
       "      <th>559</th>\n",
       "      <td>2004-03-04</td>\n",
       "      <td>1.00.00</td>\n",
       "      <td>1.3</td>\n",
       "      <td>1141.0</td>\n",
       "      <td>98.0</td>\n",
       "      <td>6.3</td>\n",
       "      <td>827.0</td>\n",
       "      <td>73.0</td>\n",
       "      <td>936.0</td>\n",
       "      <td>88.0</td>\n",
       "      <td>1488.0</td>\n",
       "      <td>1110.0</td>\n",
       "      <td>16.2</td>\n",
       "      <td>54.2</td>\n",
       "      <td>0.9933</td>\n",
       "    </tr>\n",
       "    <tr>\n",
       "      <th>560</th>\n",
       "      <td>2004-03-04</td>\n",
       "      <td>2.00.00</td>\n",
       "      <td>1.2</td>\n",
       "      <td>1141.0</td>\n",
       "      <td>88.0</td>\n",
       "      <td>5.3</td>\n",
       "      <td>777.0</td>\n",
       "      <td>69.0</td>\n",
       "      <td>986.0</td>\n",
       "      <td>83.0</td>\n",
       "      <td>1455.0</td>\n",
       "      <td>1060.0</td>\n",
       "      <td>15.1</td>\n",
       "      <td>58.2</td>\n",
       "      <td>0.9886</td>\n",
       "    </tr>\n",
       "    <tr>\n",
       "      <th>561</th>\n",
       "      <td>2004-03-04</td>\n",
       "      <td>3.00.00</td>\n",
       "      <td>0.9</td>\n",
       "      <td>1042.0</td>\n",
       "      <td>66.0</td>\n",
       "      <td>3.8</td>\n",
       "      <td>697.0</td>\n",
       "      <td>NaN</td>\n",
       "      <td>1056.0</td>\n",
       "      <td>NaN</td>\n",
       "      <td>1410.0</td>\n",
       "      <td>965.0</td>\n",
       "      <td>15.1</td>\n",
       "      <td>57.6</td>\n",
       "      <td>0.9796</td>\n",
       "    </tr>\n",
       "    <tr>\n",
       "      <th>562</th>\n",
       "      <td>2004-03-04</td>\n",
       "      <td>4.00.00</td>\n",
       "      <td>0.8</td>\n",
       "      <td>986.0</td>\n",
       "      <td>57.0</td>\n",
       "      <td>3.0</td>\n",
       "      <td>651.0</td>\n",
       "      <td>60.0</td>\n",
       "      <td>1145.0</td>\n",
       "      <td>74.0</td>\n",
       "      <td>1380.0</td>\n",
       "      <td>891.0</td>\n",
       "      <td>14.5</td>\n",
       "      <td>58.0</td>\n",
       "      <td>0.9488</td>\n",
       "    </tr>\n",
       "    <tr>\n",
       "      <th>...</th>\n",
       "      <td>...</td>\n",
       "      <td>...</td>\n",
       "      <td>...</td>\n",
       "      <td>...</td>\n",
       "      <td>...</td>\n",
       "      <td>...</td>\n",
       "      <td>...</td>\n",
       "      <td>...</td>\n",
       "      <td>...</td>\n",
       "      <td>...</td>\n",
       "      <td>...</td>\n",
       "      <td>...</td>\n",
       "      <td>...</td>\n",
       "      <td>...</td>\n",
       "      <td>...</td>\n",
       "    </tr>\n",
       "    <tr>\n",
       "      <th>6433</th>\n",
       "      <td>2004-03-12</td>\n",
       "      <td>19.00.00</td>\n",
       "      <td>4.9</td>\n",
       "      <td>1501.0</td>\n",
       "      <td>NaN</td>\n",
       "      <td>23.6</td>\n",
       "      <td>1392.0</td>\n",
       "      <td>575.0</td>\n",
       "      <td>476.0</td>\n",
       "      <td>128.0</td>\n",
       "      <td>1832.0</td>\n",
       "      <td>1645.0</td>\n",
       "      <td>15.7</td>\n",
       "      <td>72.7</td>\n",
       "      <td>1.2872</td>\n",
       "    </tr>\n",
       "    <tr>\n",
       "      <th>6434</th>\n",
       "      <td>2004-03-12</td>\n",
       "      <td>20.00.00</td>\n",
       "      <td>6.1</td>\n",
       "      <td>1601.0</td>\n",
       "      <td>NaN</td>\n",
       "      <td>30.7</td>\n",
       "      <td>1568.0</td>\n",
       "      <td>738.0</td>\n",
       "      <td>422.0</td>\n",
       "      <td>132.0</td>\n",
       "      <td>2111.0</td>\n",
       "      <td>1729.0</td>\n",
       "      <td>15.0</td>\n",
       "      <td>74.4</td>\n",
       "      <td>1.2593</td>\n",
       "    </tr>\n",
       "    <tr>\n",
       "      <th>6435</th>\n",
       "      <td>2004-03-12</td>\n",
       "      <td>21.00.00</td>\n",
       "      <td>6.2</td>\n",
       "      <td>1421.0</td>\n",
       "      <td>NaN</td>\n",
       "      <td>20.9</td>\n",
       "      <td>1320.0</td>\n",
       "      <td>739.0</td>\n",
       "      <td>496.0</td>\n",
       "      <td>134.0</td>\n",
       "      <td>1804.0</td>\n",
       "      <td>1556.0</td>\n",
       "      <td>14.6</td>\n",
       "      <td>75.2</td>\n",
       "      <td>1.2405</td>\n",
       "    </tr>\n",
       "    <tr>\n",
       "      <th>6436</th>\n",
       "      <td>2004-03-12</td>\n",
       "      <td>22.00.00</td>\n",
       "      <td>3.0</td>\n",
       "      <td>1232.0</td>\n",
       "      <td>NaN</td>\n",
       "      <td>12.7</td>\n",
       "      <td>1074.0</td>\n",
       "      <td>472.0</td>\n",
       "      <td>606.0</td>\n",
       "      <td>107.0</td>\n",
       "      <td>1504.0</td>\n",
       "      <td>1317.0</td>\n",
       "      <td>14.0</td>\n",
       "      <td>75.7</td>\n",
       "      <td>1.2051</td>\n",
       "    </tr>\n",
       "    <tr>\n",
       "      <th>6437</th>\n",
       "      <td>2004-03-12</td>\n",
       "      <td>23.00.00</td>\n",
       "      <td>3.4</td>\n",
       "      <td>1270.0</td>\n",
       "      <td>NaN</td>\n",
       "      <td>14.0</td>\n",
       "      <td>1117.0</td>\n",
       "      <td>542.0</td>\n",
       "      <td>586.0</td>\n",
       "      <td>101.0</td>\n",
       "      <td>1528.0</td>\n",
       "      <td>1290.0</td>\n",
       "      <td>13.1</td>\n",
       "      <td>78.7</td>\n",
       "      <td>1.1817</td>\n",
       "    </tr>\n",
       "  </tbody>\n",
       "</table>\n",
       "<p>216 rows × 15 columns</p>\n",
       "</div>"
      ],
      "text/plain": [
       "           Date      Time  CO(GT)  Sensor 1(Tin Oxide)(CO)  NMHC(GT)  \\\n",
       "558  2004-03-04   0.00.00     1.6                   1254.0     139.0   \n",
       "559  2004-03-04   1.00.00     1.3                   1141.0      98.0   \n",
       "560  2004-03-04   2.00.00     1.2                   1141.0      88.0   \n",
       "561  2004-03-04   3.00.00     0.9                   1042.0      66.0   \n",
       "562  2004-03-04   4.00.00     0.8                    986.0      57.0   \n",
       "...         ...       ...     ...                      ...       ...   \n",
       "6433 2004-03-12  19.00.00     4.9                   1501.0       NaN   \n",
       "6434 2004-03-12  20.00.00     6.1                   1601.0       NaN   \n",
       "6435 2004-03-12  21.00.00     6.2                   1421.0       NaN   \n",
       "6436 2004-03-12  22.00.00     3.0                   1232.0       NaN   \n",
       "6437 2004-03-12  23.00.00     3.4                   1270.0       NaN   \n",
       "\n",
       "      C6H6(GT)  Sensor 2(Titania)(NMHC)  NOx(GT)  \\\n",
       "558        9.0                    941.0     98.0   \n",
       "559        6.3                    827.0     73.0   \n",
       "560        5.3                    777.0     69.0   \n",
       "561        3.8                    697.0      NaN   \n",
       "562        3.0                    651.0     60.0   \n",
       "...        ...                      ...      ...   \n",
       "6433      23.6                   1392.0    575.0   \n",
       "6434      30.7                   1568.0    738.0   \n",
       "6435      20.9                   1320.0    739.0   \n",
       "6436      12.7                   1074.0    472.0   \n",
       "6437      14.0                   1117.0    542.0   \n",
       "\n",
       "      Sensor 3(Tungsten Oxide)(NOx)  NO2(GT)  Sensor 4(Indium Oxide)(NO2)  \\\n",
       "558                           828.0    106.0                       1566.0   \n",
       "559                           936.0     88.0                       1488.0   \n",
       "560                           986.0     83.0                       1455.0   \n",
       "561                          1056.0      NaN                       1410.0   \n",
       "562                          1145.0     74.0                       1380.0   \n",
       "...                             ...      ...                          ...   \n",
       "6433                          476.0    128.0                       1832.0   \n",
       "6434                          422.0    132.0                       2111.0   \n",
       "6435                          496.0    134.0                       1804.0   \n",
       "6436                          606.0    107.0                       1504.0   \n",
       "6437                          586.0    101.0                       1528.0   \n",
       "\n",
       "      Sensor 5(Indium Oxide)(O₃)  Temperatue  Relative Humidity  \\\n",
       "558                       1270.0        17.1               51.8   \n",
       "559                       1110.0        16.2               54.2   \n",
       "560                       1060.0        15.1               58.2   \n",
       "561                        965.0        15.1               57.6   \n",
       "562                        891.0        14.5               58.0   \n",
       "...                          ...         ...                ...   \n",
       "6433                      1645.0        15.7               72.7   \n",
       "6434                      1729.0        15.0               74.4   \n",
       "6435                      1556.0        14.6               75.2   \n",
       "6436                      1317.0        14.0               75.7   \n",
       "6437                      1290.0        13.1               78.7   \n",
       "\n",
       "      Absolute Humidity  \n",
       "558              0.9990  \n",
       "559              0.9933  \n",
       "560              0.9886  \n",
       "561              0.9796  \n",
       "562              0.9488  \n",
       "...                 ...  \n",
       "6433             1.2872  \n",
       "6434             1.2593  \n",
       "6435             1.2405  \n",
       "6436             1.2051  \n",
       "6437             1.1817  \n",
       "\n",
       "[216 rows x 15 columns]"
      ]
     },
     "execution_count": 30,
     "metadata": {},
     "output_type": "execute_result"
    }
   ],
   "source": [
    "march_2004 = df[(df['Date'].dt.month == 3) & (df['Date'].dt.year == 2004)]\n",
    "march_2004"
   ]
  },
  {
   "cell_type": "code",
   "execution_count": 31,
   "id": "28af0f0d-9ef5-4267-b203-e7926cc0dc96",
   "metadata": {},
   "outputs": [
    {
     "data": {
      "text/plain": [
       "Index(['Date', 'Time', 'CO(GT)', 'Sensor 1(Tin Oxide)(CO)', 'NMHC(GT)',\n",
       "       'C6H6(GT)', 'Sensor 2(Titania)(NMHC)', 'NOx(GT)',\n",
       "       'Sensor 3(Tungsten Oxide)(NOx)', 'NO2(GT)',\n",
       "       'Sensor 4(Indium Oxide)(NO2)', 'Sensor 5(Indium Oxide)(O₃)',\n",
       "       'Temperatue', 'Relative Humidity', 'Absolute Humidity'],\n",
       "      dtype='object')"
      ]
     },
     "execution_count": 31,
     "metadata": {},
     "output_type": "execute_result"
    }
   ],
   "source": [
    "march_2004= df[(df['Date'].dt.month == 3) & (df['Date'].dt.year == 2004)]\n",
    "march_2004.columns"
   ]
  },
  {
   "cell_type": "code",
   "execution_count": 32,
   "id": "54e3465c-8f28-491d-ab57-153288ecc2d5",
   "metadata": {},
   "outputs": [
    {
     "data": {
      "text/plain": [
       "np.int32(1142)"
      ]
     },
     "execution_count": 32,
     "metadata": {},
     "output_type": "execute_result"
    }
   ],
   "source": [
    "march_2004['Sensor 1(Tin Oxide)(CO)'].mean().astype('int32')"
   ]
  },
  {
   "cell_type": "code",
   "execution_count": 33,
   "id": "b1d9bae9-a2c3-4eaf-97c1-95314ddb9bd8",
   "metadata": {},
   "outputs": [
    {
     "data": {
      "text/plain": [
       "np.int32(2)"
      ]
     },
     "execution_count": 33,
     "metadata": {},
     "output_type": "execute_result"
    }
   ],
   "source": [
    "Co=march_2004['CO(GT)'].mean().astype('int32')\n",
    "Co"
   ]
  },
  {
   "cell_type": "code",
   "execution_count": 34,
   "id": "f54335c8-327d-4c81-8049-f45cd2dd62c8",
   "metadata": {},
   "outputs": [
    {
     "data": {
      "text/plain": [
       "[np.int32(2), np.int32(163), np.int32(11), np.int32(224), np.int32(95)]"
      ]
     },
     "execution_count": 34,
     "metadata": {},
     "output_type": "execute_result"
    }
   ],
   "source": [
    "NMHC=march_2004['NMHC(GT)'].mean().astype('int32')\n",
    "C6H6=march_2004['C6H6(GT)'].mean().astype('int32')\n",
    "No=march_2004['NOx(GT)'].mean().astype('int32')\n",
    "No2=march_2004['NO2(GT)'].mean().astype('int32')\n",
    "conc_march=[Co,NMHC,C6H6,No,No2]\n",
    "conc_march"
   ]
  },
  {
   "cell_type": "code",
   "execution_count": 35,
   "id": "2c633294-10fc-46fc-9687-e3984bbe94ec",
   "metadata": {},
   "outputs": [],
   "source": [
    "air_mixtures=['Co','NMHC','C6H6','No','No2']\n"
   ]
  },
  {
   "cell_type": "code",
   "execution_count": 36,
   "id": "ebd834ac-9f07-47d2-87f7-0ca30a74bde3",
   "metadata": {},
   "outputs": [
    {
     "data": {
      "image/png": "[encoded data removed]",
      "text/plain": [
       "<Figure size 640x480 with 1 Axes>"
      ]
     },
     "metadata": {},
     "output_type": "display_data"
    }
   ],
   "source": [
    "plt.plot(air_mixtures, conc_march,color=\"green\")\n",
    "plt.title(\"MARCH AIR CONCENTRATION\")\n",
    "plt.xlabel(\"AIR MIXTURES\")\n",
    "plt.ylabel(\"CONCENTRATION\")\n",
    "plt.grid(True)\n",
    "plt.scatter(air_mixtures,conc_march,color=\"red\")\n",
    "plt.show()"
   ]
  },
  {
   "cell_type": "code",
   "execution_count": 37,
   "id": "959d64ef-a6fb-460e-9253-d79a482cf047",
   "metadata": {},
   "outputs": [
    {
     "data": {
      "text/plain": [
       "Text(0, 0.5, 'CONCENTRATION')"
      ]
     },
     "execution_count": 37,
     "metadata": {},
     "output_type": "execute_result"
    },
    {
     "data": {
      "image/png": "[encoded data removed]",
      "text/plain": [
       "<Figure size 640x480 with 1 Axes>"
      ]
     },
     "metadata": {},
     "output_type": "display_data"
    }
   ],
   "source": [
    "plt.bar(air_mixtures,conc_march, color=\"green\")\n",
    "plt.title('MARCH AIR CONCENTRATION',color='green')\n",
    "plt.xlabel('AIR MIXTURE')\n",
    "plt.ylabel('CONCENTRATION')"
   ]
  },
  {
   "cell_type": "code",
   "execution_count": 41,
   "id": "31fb0814-4e1a-431e-bb69-a1b88923b8fc",
   "metadata": {},
   "outputs": [
    {
     "data": {
      "text/plain": [
       "Text(0, 0.5, 'SENSOR READINGS')"
      ]
     },
     "execution_count": 41,
     "metadata": {},
     "output_type": "execute_result"
    },
    {
     "data": {
      "image/png": "[encoded data removed]",
      "text/plain": [
       "<Figure size 640x480 with 1 Axes>"
      ]
     },
     "metadata": {},
     "output_type": "display_data"
    }
   ],
   "source": [
    "plt.bar(air_mixtures,conc_march,color='yellow')\n",
    "plt.title('Air CONCENTRATION',color='green')\n",
    "plt.xlabel('AIR MIXTURE')\n",
    "plt.ylabel('SENSOR READINGS')\n"
   ]
  },
  {
   "cell_type": "code",
   "execution_count": 42,
   "id": "920b1c14-ceb1-400f-9cab-1083cfee2975",
   "metadata": {},
   "outputs": [
    {
     "data": {
      "text/plain": [
       "(array([2., 0., 0., 0., 1., 0., 0., 1., 0., 1.]),\n",
       " array([  2. ,  24.2,  46.4,  68.6,  90.8, 113. , 135.2, 157.4, 179.6,\n",
       "        201.8, 224. ]),\n",
       " <BarContainer object of 10 artists>)"
      ]
     },
     "execution_count": 42,
     "metadata": {},
     "output_type": "execute_result"
    },
    {
     "data": {
      "image/png": "[encoded data removed]",
      "text/plain": [
       "<Figure size 640x480 with 1 Axes>"
      ]
     },
     "metadata": {},
     "output_type": "display_data"
    }
   ],
   "source": [
    "plt.hist(conc_march,bins=10)\n"
   ]
  },
  {
   "cell_type": "code",
   "execution_count": 44,
   "id": "4e566997-d274-470d-a8e7-8ac5c61c5a11",
   "metadata": {},
   "outputs": [
    {
     "data": {
      "text/plain": [
       "<matplotlib.collections.PathCollection at 0x266a66c1590>"
      ]
     },
     "execution_count": 44,
     "metadata": {},
     "output_type": "execute_result"
    },
    {
     "data": {
      "image/png": "[encoded data removed]",
      "text/plain": [
       "<Figure size 640x480 with 1 Axes>"
      ]
     },
     "metadata": {},
     "output_type": "display_data"
    }
   ],
   "source": [
    "plt.scatter(air_mixtures,conc_march)"
   ]
  },
  {
   "cell_type": "code",
   "execution_count": 49,
   "id": "7c8997f0-1dff-4a64-9f95-433828d49408",
   "metadata": {},
   "outputs": [
    {
     "data": {
      "text/plain": [
       "(array([2., 0., 0., 1., 0., 1., 0., 1.]),\n",
       " array([  2.  ,  29.75,  57.5 ,  85.25, 113.  , 140.75, 168.5 , 196.25,\n",
       "        224.  ]),\n",
       " <BarContainer object of 8 artists>)"
      ]
     },
     "execution_count": 49,
     "metadata": {},
     "output_type": "execute_result"
    },
    {
     "data": {
      "image/png": "[encoded data removed]",
      "text/plain": [
       "<Figure size 640x480 with 1 Axes>"
      ]
     },
     "metadata": {},
     "output_type": "display_data"
    }
   ],
   "source": [
    "plt.hist(conc_march,bins=8)"
   ]
  },
  {
   "cell_type": "code",
   "execution_count": 50,
   "id": "ea8eb3ef-5a5c-4892-b483-9413535fcb20",
   "metadata": {},
   "outputs": [
    {
     "data": {
      "text/plain": [
       "Index(['Date', 'Time', 'CO(GT)', 'Sensor 1(Tin Oxide)(CO)', 'NMHC(GT)',\n",
       "       'C6H6(GT)', 'Sensor 2(Titania)(NMHC)', 'NOx(GT)',\n",
       "       'Sensor 3(Tungsten Oxide)(NOx)', 'NO2(GT)',\n",
       "       'Sensor 4(Indium Oxide)(NO2)', 'Sensor 5(Indium Oxide)(O₃)',\n",
       "       'Temperatue', 'Relative Humidity', 'Absolute Humidity'],\n",
       "      dtype='object')"
      ]
     },
     "execution_count": 50,
     "metadata": {},
     "output_type": "execute_result"
    }
   ],
   "source": [
    "df.columns"
   ]
  },
  {
   "cell_type": "code",
   "execution_count": 51,
   "id": "9d6e3e59-ad6c-40de-a980-6ed9b46e1abb",
   "metadata": {},
   "outputs": [
    {
     "data": {
      "image/png": "[encoded data removed]",
      "text/plain": [
       "<Figure size 640x480 with 1 Axes>"
      ]
     },
     "metadata": {},
     "output_type": "display_data"
    },
    {
     "data": {
      "text/plain": [
       "<Figure size 800x500 with 0 Axes>"
      ]
     },
     "metadata": {},
     "output_type": "display_data"
    }
   ],
   "source": [
    "plt.pie(conc_march,labels=air_mixtures,autopct='%1.1f%%')\n",
    "plt.title(\"MARCH AIR CONCENTRATION\",fontdict={'fontsize':21 ,'fontname':'Times new roman','fontweight':'bold','color':'green'})\n",
    "plt.savefig('piechart.jpg',dpi=300) # clarity or image quality (min 300)\n",
    "plt.figure(figsize=(8,5))                      \n",
    "plt.show()"
   ]
  },
  {
   "cell_type": "code",
   "execution_count": null,
   "id": "1303a49d-bde6-46d6-95f7-1e17bfc06451",
   "metadata": {},
   "outputs": [],
   "source": []
  }
 ],
 "metadata": {
  "kernelspec": {
   "display_name": "Python 3 (ipykernel)",
   "language": "python",
   "name": "python3"
  },
  "language_info": {
   "codemirror_mode": {
    "name": "ipython",
    "version": 3
   },
   "file_extension": ".py",
   "mimetype": "text/x-python",
   "name": "python",
   "nbconvert_exporter": "python",
   "pygments_lexer": "ipython3",
   "version": "3.13.2"
  }
 },
 "nbformat": 4,
 "nbformat_minor": 5
}
