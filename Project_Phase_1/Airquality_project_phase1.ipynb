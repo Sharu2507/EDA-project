{
 "cells": [
  {
   "cell_type": "markdown",
   "id": "6dfb69de-fdaa-4505-8ef8-087fc8d17ec6",
   "metadata": {},
   "source": [
    "#### IMPORTING NECESSARY LIBRARIES"
   ]
  },
  {
   "cell_type": "code",
   "execution_count": 2,
   "id": "743f874d-7692-4a3c-900d-48af611b4719",
   "metadata": {},
   "outputs": [],
   "source": [
    "import numpy as np\n",
    "import pandas as pd\n",
    "import matplotlib.pyplot as plt\n",
    "import seaborn as sns"
   ]
  },
  {
   "cell_type": "markdown",
   "id": "bb39fa79-11d7-442a-b3d9-cd5d04effe87",
   "metadata": {},
   "source": [
    "#### IMPORTING DATASET AS CSV AND CONVERTING IT TO A DATAFRAME"
   ]
  },
  {
   "cell_type": "code",
   "execution_count": 3,
   "id": "b992e094-1cc3-4b00-9a08-2a0aed1b6555",
   "metadata": {
    "scrolled": true
   },
   "outputs": [
    {
     "data": {
      "text/html": [
       "<div>\n",
       "<style scoped>\n",
       "    .dataframe tbody tr th:only-of-type {\n",
       "        vertical-align: middle;\n",
       "    }\n",
       "\n",
       "    .dataframe tbody tr th {\n",
       "        vertical-align: top;\n",
       "    }\n",
       "\n",
       "    .dataframe thead th {\n",
       "        text-align: right;\n",
       "    }\n",
       "</style>\n",
       "<table border=\"1\" class=\"dataframe\">\n",
       "  <thead>\n",
       "    <tr style=\"text-align: right;\">\n",
       "      <th></th>\n",
       "      <th>Date</th>\n",
       "      <th>Time</th>\n",
       "      <th>CO(GT)</th>\n",
       "      <th>PT08.S1(CO)</th>\n",
       "      <th>NMHC(GT)</th>\n",
       "      <th>C6H6(GT)</th>\n",
       "      <th>PT08.S2(NMHC)</th>\n",
       "      <th>NOx(GT)</th>\n",
       "      <th>PT08.S3(NOx)</th>\n",
       "      <th>NO2(GT)</th>\n",
       "      <th>PT08.S4(NO2)</th>\n",
       "      <th>PT08.S5(O3)</th>\n",
       "      <th>T</th>\n",
       "      <th>RH</th>\n",
       "      <th>AH</th>\n",
       "    </tr>\n",
       "  </thead>\n",
       "  <tbody>\n",
       "    <tr>\n",
       "      <th>0</th>\n",
       "      <td>10-03-2004</td>\n",
       "      <td>18.00.00</td>\n",
       "      <td>2.6</td>\n",
       "      <td>1360</td>\n",
       "      <td>150</td>\n",
       "      <td>11.9</td>\n",
       "      <td>1046</td>\n",
       "      <td>166</td>\n",
       "      <td>1056</td>\n",
       "      <td>113</td>\n",
       "      <td>1692</td>\n",
       "      <td>1268</td>\n",
       "      <td>13.6</td>\n",
       "      <td>48.9</td>\n",
       "      <td>0.7578</td>\n",
       "    </tr>\n",
       "    <tr>\n",
       "      <th>1</th>\n",
       "      <td>10-03-2004</td>\n",
       "      <td>19.00.00</td>\n",
       "      <td>2.0</td>\n",
       "      <td>1292</td>\n",
       "      <td>112</td>\n",
       "      <td>9.4</td>\n",
       "      <td>955</td>\n",
       "      <td>103</td>\n",
       "      <td>1174</td>\n",
       "      <td>92</td>\n",
       "      <td>1559</td>\n",
       "      <td>972</td>\n",
       "      <td>13.3</td>\n",
       "      <td>47.7</td>\n",
       "      <td>0.7255</td>\n",
       "    </tr>\n",
       "    <tr>\n",
       "      <th>2</th>\n",
       "      <td>10-03-2004</td>\n",
       "      <td>20.00.00</td>\n",
       "      <td>2.2</td>\n",
       "      <td>1402</td>\n",
       "      <td>88</td>\n",
       "      <td>9.0</td>\n",
       "      <td>939</td>\n",
       "      <td>131</td>\n",
       "      <td>1140</td>\n",
       "      <td>114</td>\n",
       "      <td>1555</td>\n",
       "      <td>1074</td>\n",
       "      <td>11.9</td>\n",
       "      <td>54.0</td>\n",
       "      <td>0.7502</td>\n",
       "    </tr>\n",
       "  </tbody>\n",
       "</table>\n",
       "</div>"
      ],
      "text/plain": [
       "         Date      Time  CO(GT)  PT08.S1(CO)  NMHC(GT)  C6H6(GT)  \\\n",
       "0  10-03-2004  18.00.00     2.6         1360       150      11.9   \n",
       "1  10-03-2004  19.00.00     2.0         1292       112       9.4   \n",
       "2  10-03-2004  20.00.00     2.2         1402        88       9.0   \n",
       "\n",
       "   PT08.S2(NMHC)  NOx(GT)  PT08.S3(NOx)  NO2(GT)  PT08.S4(NO2)  PT08.S5(O3)  \\\n",
       "0           1046      166          1056      113          1692         1268   \n",
       "1            955      103          1174       92          1559          972   \n",
       "2            939      131          1140      114          1555         1074   \n",
       "\n",
       "      T    RH      AH  \n",
       "0  13.6  48.9  0.7578  \n",
       "1  13.3  47.7  0.7255  \n",
       "2  11.9  54.0  0.7502  "
      ]
     },
     "execution_count": 3,
     "metadata": {},
     "output_type": "execute_result"
    }
   ],
   "source": [
    "# reading csv file\n",
    "data = pd.read_csv(\"AirQualityUCI.csv\")\n",
    "\n",
    "# Converting to a Data Frame\n",
    "df = pd.DataFrame(data)\n",
    "\n",
    "# getting the first 3 rows\n",
    "df.head(3)"
   ]
  },
  {
   "cell_type": "markdown",
   "id": "cb8106e0-e4ae-4afa-b846-0a5700281ec2",
   "metadata": {},
   "source": [
    "#### UNDERSTANDING THE DATASET"
   ]
  },
  {
   "cell_type": "markdown",
   "id": "1464abf7-4d8a-40a6-b253-cf1d70da5329",
   "metadata": {},
   "source": [
    "1. CO(GT) --> carbon monooxide in mg/m3 , limits: Good air: 0–2 mg/m³ , Bad air: >10 mg/m³ , -200: means missing or faulty sensor reading\n",
    "   \n",
    "2. C6H6(GT) --> Benzene in µg/m³\t, limits : good: 0 – 5\t, bad air : > 5 µg/m³ (annual avg) \n",
    "\n",
    "3. NMHC(GT) --> Non-Methane Hydrocarbons in µg/m³, limits: good : 0 – 750, bad : > 750–1000 µg/m³\n",
    "\n",
    "4. NOx(GT)--> Nitric Oxides\tin ppb, limits : good : 0 – 100\t, bad : > 200 ppb (1-hour avg)\t\n",
    "\n",
    "5. NO2(GT)--> Nitrogen Dioxide in µg/m³\t, limits:  good: 0 – 80\t, bad : > 100 µg/m³ \n",
    "\n",
    "* `T`   -->  Temperature   -->  °C   --> **-10 to 50** \n",
    "* `RH`  -->  Relative Humidity -->  %   --> **0 to 100**  \n",
    "* `AH`  --> Absolute Humidity --> g/m³ --> **0 to \\~30** \n",
    "\n",
    "\n",
    "*  `PT08.S1(CO)`   --> CO                       \n",
    "* `PT08.S2(NMHC)` -->  NMHC                     \n",
    "* `PT08.S3(NOx)`  --> NOx                      \n",
    "* `PT08.S4(NO2)`  --> NO2                      \n",
    "* `PT08.S5(O3)`   --> Ozone                    \n"
   ]
  },
  {
   "cell_type": "markdown",
   "id": "c8e952c2-12c1-4917-8fd4-6fd6905d0d18",
   "metadata": {},
   "source": [
    "#### DESCRIPTIVE ANALYSIS"
   ]
  },
  {
   "cell_type": "code",
   "execution_count": 4,
   "id": "1e04e43e-303a-44eb-a41f-aec70c4a5778",
   "metadata": {},
   "outputs": [
    {
     "name": "stdout",
     "output_type": "stream",
     "text": [
      "<class 'pandas.core.frame.DataFrame'>\n",
      "RangeIndex: 9357 entries, 0 to 9356\n",
      "Data columns (total 15 columns):\n",
      " #   Column         Non-Null Count  Dtype  \n",
      "---  ------         --------------  -----  \n",
      " 0   Date           9357 non-null   object \n",
      " 1   Time           9357 non-null   object \n",
      " 2   CO(GT)         9357 non-null   float64\n",
      " 3   PT08.S1(CO)    9357 non-null   int64  \n",
      " 4   NMHC(GT)       9357 non-null   int64  \n",
      " 5   C6H6(GT)       9357 non-null   float64\n",
      " 6   PT08.S2(NMHC)  9357 non-null   int64  \n",
      " 7   NOx(GT)        9357 non-null   int64  \n",
      " 8   PT08.S3(NOx)   9357 non-null   int64  \n",
      " 9   NO2(GT)        9357 non-null   int64  \n",
      " 10  PT08.S4(NO2)   9357 non-null   int64  \n",
      " 11  PT08.S5(O3)    9357 non-null   int64  \n",
      " 12  T              9357 non-null   float64\n",
      " 13  RH             9357 non-null   float64\n",
      " 14  AH             9357 non-null   float64\n",
      "dtypes: float64(5), int64(8), object(2)\n",
      "memory usage: 1.1+ MB\n"
     ]
    }
   ],
   "source": [
    "# Finding INfor\n",
    "df.info()"
   ]
  },
  {
   "cell_type": "code",
   "execution_count": 5,
   "id": "517ecf54-7cd5-40a6-9bec-a3dfe027aef4",
   "metadata": {},
   "outputs": [
    {
     "data": {
      "text/html": [
       "<div>\n",
       "<style scoped>\n",
       "    .dataframe tbody tr th:only-of-type {\n",
       "        vertical-align: middle;\n",
       "    }\n",
       "\n",
       "    .dataframe tbody tr th {\n",
       "        vertical-align: top;\n",
       "    }\n",
       "\n",
       "    .dataframe thead th {\n",
       "        text-align: right;\n",
       "    }\n",
       "</style>\n",
       "<table border=\"1\" class=\"dataframe\">\n",
       "  <thead>\n",
       "    <tr style=\"text-align: right;\">\n",
       "      <th></th>\n",
       "      <th>CO(GT)</th>\n",
       "      <th>PT08.S1(CO)</th>\n",
       "      <th>NMHC(GT)</th>\n",
       "      <th>C6H6(GT)</th>\n",
       "      <th>PT08.S2(NMHC)</th>\n",
       "      <th>NOx(GT)</th>\n",
       "      <th>PT08.S3(NOx)</th>\n",
       "      <th>NO2(GT)</th>\n",
       "      <th>PT08.S4(NO2)</th>\n",
       "      <th>PT08.S5(O3)</th>\n",
       "      <th>T</th>\n",
       "      <th>RH</th>\n",
       "      <th>AH</th>\n",
       "    </tr>\n",
       "  </thead>\n",
       "  <tbody>\n",
       "    <tr>\n",
       "      <th>count</th>\n",
       "      <td>9357.000000</td>\n",
       "      <td>9357.000000</td>\n",
       "      <td>9357.000000</td>\n",
       "      <td>9357.000000</td>\n",
       "      <td>9357.000000</td>\n",
       "      <td>9357.000000</td>\n",
       "      <td>9357.000000</td>\n",
       "      <td>9357.000000</td>\n",
       "      <td>9357.000000</td>\n",
       "      <td>9357.000000</td>\n",
       "      <td>9357.000000</td>\n",
       "      <td>9357.000000</td>\n",
       "      <td>9357.000000</td>\n",
       "    </tr>\n",
       "    <tr>\n",
       "      <th>mean</th>\n",
       "      <td>-34.207524</td>\n",
       "      <td>1048.990061</td>\n",
       "      <td>-159.090093</td>\n",
       "      <td>1.865683</td>\n",
       "      <td>894.595276</td>\n",
       "      <td>168.616971</td>\n",
       "      <td>794.990168</td>\n",
       "      <td>58.148873</td>\n",
       "      <td>1391.479641</td>\n",
       "      <td>975.072032</td>\n",
       "      <td>9.778305</td>\n",
       "      <td>39.485380</td>\n",
       "      <td>-6.837604</td>\n",
       "    </tr>\n",
       "    <tr>\n",
       "      <th>std</th>\n",
       "      <td>77.657170</td>\n",
       "      <td>329.832710</td>\n",
       "      <td>139.789093</td>\n",
       "      <td>41.380206</td>\n",
       "      <td>342.333252</td>\n",
       "      <td>257.433866</td>\n",
       "      <td>321.993552</td>\n",
       "      <td>126.940455</td>\n",
       "      <td>467.210125</td>\n",
       "      <td>456.938184</td>\n",
       "      <td>43.203623</td>\n",
       "      <td>51.216145</td>\n",
       "      <td>38.976670</td>\n",
       "    </tr>\n",
       "    <tr>\n",
       "      <th>min</th>\n",
       "      <td>-200.000000</td>\n",
       "      <td>-200.000000</td>\n",
       "      <td>-200.000000</td>\n",
       "      <td>-200.000000</td>\n",
       "      <td>-200.000000</td>\n",
       "      <td>-200.000000</td>\n",
       "      <td>-200.000000</td>\n",
       "      <td>-200.000000</td>\n",
       "      <td>-200.000000</td>\n",
       "      <td>-200.000000</td>\n",
       "      <td>-200.000000</td>\n",
       "      <td>-200.000000</td>\n",
       "      <td>-200.000000</td>\n",
       "    </tr>\n",
       "    <tr>\n",
       "      <th>25%</th>\n",
       "      <td>0.600000</td>\n",
       "      <td>921.000000</td>\n",
       "      <td>-200.000000</td>\n",
       "      <td>4.000000</td>\n",
       "      <td>711.000000</td>\n",
       "      <td>50.000000</td>\n",
       "      <td>637.000000</td>\n",
       "      <td>53.000000</td>\n",
       "      <td>1185.000000</td>\n",
       "      <td>700.000000</td>\n",
       "      <td>10.900000</td>\n",
       "      <td>34.100000</td>\n",
       "      <td>0.692300</td>\n",
       "    </tr>\n",
       "    <tr>\n",
       "      <th>50%</th>\n",
       "      <td>1.500000</td>\n",
       "      <td>1053.000000</td>\n",
       "      <td>-200.000000</td>\n",
       "      <td>7.900000</td>\n",
       "      <td>895.000000</td>\n",
       "      <td>141.000000</td>\n",
       "      <td>794.000000</td>\n",
       "      <td>96.000000</td>\n",
       "      <td>1446.000000</td>\n",
       "      <td>942.000000</td>\n",
       "      <td>17.200000</td>\n",
       "      <td>48.600000</td>\n",
       "      <td>0.976800</td>\n",
       "    </tr>\n",
       "    <tr>\n",
       "      <th>75%</th>\n",
       "      <td>2.600000</td>\n",
       "      <td>1221.000000</td>\n",
       "      <td>-200.000000</td>\n",
       "      <td>13.600000</td>\n",
       "      <td>1105.000000</td>\n",
       "      <td>284.000000</td>\n",
       "      <td>960.000000</td>\n",
       "      <td>133.000000</td>\n",
       "      <td>1662.000000</td>\n",
       "      <td>1255.000000</td>\n",
       "      <td>24.100000</td>\n",
       "      <td>61.900000</td>\n",
       "      <td>1.296200</td>\n",
       "    </tr>\n",
       "    <tr>\n",
       "      <th>max</th>\n",
       "      <td>11.900000</td>\n",
       "      <td>2040.000000</td>\n",
       "      <td>1189.000000</td>\n",
       "      <td>63.700000</td>\n",
       "      <td>2214.000000</td>\n",
       "      <td>1479.000000</td>\n",
       "      <td>2683.000000</td>\n",
       "      <td>340.000000</td>\n",
       "      <td>2775.000000</td>\n",
       "      <td>2523.000000</td>\n",
       "      <td>44.600000</td>\n",
       "      <td>88.700000</td>\n",
       "      <td>2.231000</td>\n",
       "    </tr>\n",
       "  </tbody>\n",
       "</table>\n",
       "</div>"
      ],
      "text/plain": [
       "            CO(GT)  PT08.S1(CO)     NMHC(GT)     C6H6(GT)  PT08.S2(NMHC)  \\\n",
       "count  9357.000000  9357.000000  9357.000000  9357.000000    9357.000000   \n",
       "mean    -34.207524  1048.990061  -159.090093     1.865683     894.595276   \n",
       "std      77.657170   329.832710   139.789093    41.380206     342.333252   \n",
       "min    -200.000000  -200.000000  -200.000000  -200.000000    -200.000000   \n",
       "25%       0.600000   921.000000  -200.000000     4.000000     711.000000   \n",
       "50%       1.500000  1053.000000  -200.000000     7.900000     895.000000   \n",
       "75%       2.600000  1221.000000  -200.000000    13.600000    1105.000000   \n",
       "max      11.900000  2040.000000  1189.000000    63.700000    2214.000000   \n",
       "\n",
       "           NOx(GT)  PT08.S3(NOx)      NO2(GT)  PT08.S4(NO2)  PT08.S5(O3)  \\\n",
       "count  9357.000000   9357.000000  9357.000000   9357.000000  9357.000000   \n",
       "mean    168.616971    794.990168    58.148873   1391.479641   975.072032   \n",
       "std     257.433866    321.993552   126.940455    467.210125   456.938184   \n",
       "min    -200.000000   -200.000000  -200.000000   -200.000000  -200.000000   \n",
       "25%      50.000000    637.000000    53.000000   1185.000000   700.000000   \n",
       "50%     141.000000    794.000000    96.000000   1446.000000   942.000000   \n",
       "75%     284.000000    960.000000   133.000000   1662.000000  1255.000000   \n",
       "max    1479.000000   2683.000000   340.000000   2775.000000  2523.000000   \n",
       "\n",
       "                 T           RH           AH  \n",
       "count  9357.000000  9357.000000  9357.000000  \n",
       "mean      9.778305    39.485380    -6.837604  \n",
       "std      43.203623    51.216145    38.976670  \n",
       "min    -200.000000  -200.000000  -200.000000  \n",
       "25%      10.900000    34.100000     0.692300  \n",
       "50%      17.200000    48.600000     0.976800  \n",
       "75%      24.100000    61.900000     1.296200  \n",
       "max      44.600000    88.700000     2.231000  "
      ]
     },
     "execution_count": 5,
     "metadata": {},
     "output_type": "execute_result"
    }
   ],
   "source": [
    "# Finding Describe\n",
    "df.describe()"
   ]
  },
  {
   "cell_type": "code",
   "execution_count": 6,
   "id": "055dfe28-ac80-41c0-9144-07ad5d852d17",
   "metadata": {},
   "outputs": [
    {
     "data": {
      "text/plain": [
       "Index(['Date', 'Time', 'CO(GT)', 'PT08.S1(CO)', 'NMHC(GT)', 'C6H6(GT)',\n",
       "       'PT08.S2(NMHC)', 'NOx(GT)', 'PT08.S3(NOx)', 'NO2(GT)', 'PT08.S4(NO2)',\n",
       "       'PT08.S5(O3)', 'T', 'RH', 'AH'],\n",
       "      dtype='object')"
      ]
     },
     "execution_count": 6,
     "metadata": {},
     "output_type": "execute_result"
    }
   ],
   "source": [
    "# listing the columns\n",
    "df.columns"
   ]
  },
  {
   "cell_type": "code",
   "execution_count": 7,
   "id": "75371598-3254-41ac-bb28-84406b988a9d",
   "metadata": {},
   "outputs": [
    {
     "data": {
      "text/plain": [
       "(9357, 15)"
      ]
     },
     "execution_count": 7,
     "metadata": {},
     "output_type": "execute_result"
    }
   ],
   "source": [
    "# Shape\n",
    "df.shape"
   ]
  },
  {
   "cell_type": "code",
   "execution_count": 8,
   "id": "f0389ccb-ae59-4fa5-b919-baf734bbd4cf",
   "metadata": {},
   "outputs": [
    {
     "data": {
      "text/plain": [
       "Date              object\n",
       "Time              object\n",
       "CO(GT)           float64\n",
       "PT08.S1(CO)        int64\n",
       "NMHC(GT)           int64\n",
       "C6H6(GT)         float64\n",
       "PT08.S2(NMHC)      int64\n",
       "NOx(GT)            int64\n",
       "PT08.S3(NOx)       int64\n",
       "NO2(GT)            int64\n",
       "PT08.S4(NO2)       int64\n",
       "PT08.S5(O3)        int64\n",
       "T                float64\n",
       "RH               float64\n",
       "AH               float64\n",
       "dtype: object"
      ]
     },
     "execution_count": 8,
     "metadata": {},
     "output_type": "execute_result"
    }
   ],
   "source": [
    "# DataTypes\n",
    "df.dtypes"
   ]
  },
  {
   "cell_type": "markdown",
   "id": "d0c8308f-81bc-43cc-af4e-ed5941aaa076",
   "metadata": {},
   "source": [
    "#### HANDLING MISSING VALUES"
   ]
  },
  {
   "cell_type": "code",
   "execution_count": 9,
   "id": "ef2dff3a-5735-48e9-a16b-df711abf6e16",
   "metadata": {},
   "outputs": [
    {
     "data": {
      "text/plain": [
       "Date             0\n",
       "Time             0\n",
       "CO(GT)           0\n",
       "PT08.S1(CO)      0\n",
       "NMHC(GT)         0\n",
       "C6H6(GT)         0\n",
       "PT08.S2(NMHC)    0\n",
       "NOx(GT)          0\n",
       "PT08.S3(NOx)     0\n",
       "NO2(GT)          0\n",
       "PT08.S4(NO2)     0\n",
       "PT08.S5(O3)      0\n",
       "T                0\n",
       "RH               0\n",
       "AH               0\n",
       "dtype: int64"
      ]
     },
     "execution_count": 9,
     "metadata": {},
     "output_type": "execute_result"
    }
   ],
   "source": [
    "# checking for null and nan values\n",
    "df.isna().sum()  # No null values found"
   ]
  },
  {
   "cell_type": "code",
   "execution_count": 10,
   "id": "f051dd34-981a-4adf-976f-d7a88f978e2c",
   "metadata": {},
   "outputs": [
    {
     "data": {
      "text/plain": [
       "Date             0\n",
       "Time             0\n",
       "CO(GT)           0\n",
       "PT08.S1(CO)      0\n",
       "NMHC(GT)         0\n",
       "C6H6(GT)         0\n",
       "PT08.S2(NMHC)    0\n",
       "NOx(GT)          0\n",
       "PT08.S3(NOx)     0\n",
       "NO2(GT)          0\n",
       "PT08.S4(NO2)     0\n",
       "PT08.S5(O3)      0\n",
       "T                0\n",
       "RH               0\n",
       "AH               0\n",
       "dtype: int64"
      ]
     },
     "execution_count": 10,
     "metadata": {},
     "output_type": "execute_result"
    }
   ],
   "source": [
    "df.isnull().sum()"
   ]
  },
  {
   "cell_type": "markdown",
   "id": "15299e81-7e60-4a0b-b176-6321af6aaf1e",
   "metadata": {},
   "source": [
    "#### CHANGING COLUMN NAMES , DATE TIME VALUES AND DATA TYPES AND REPLACING SOME VALUES"
   ]
  },
  {
   "cell_type": "code",
   "execution_count": 11,
   "id": "f6f2e343-fca4-4cd2-88c5-0d434bec3f8e",
   "metadata": {},
   "outputs": [
    {
     "data": {
      "text/plain": [
       "Index(['Date', 'Time', 'CO(GT)', 'PT08.S1(CO)', 'NMHC(GT)', 'C6H6(GT)',\n",
       "       'PT08.S2(NMHC)', 'NOx(GT)', 'PT08.S3(NOx)', 'NO2(GT)', 'PT08.S4(NO2)',\n",
       "       'PT08.S5(O3)', 'T', 'RH', 'AH'],\n",
       "      dtype='object')"
      ]
     },
     "execution_count": 11,
     "metadata": {},
     "output_type": "execute_result"
    }
   ],
   "source": [
    "df.columns"
   ]
  },
  {
   "cell_type": "code",
   "execution_count": 12,
   "id": "6ebea05e-c26d-4380-afaf-4150a187aa3d",
   "metadata": {},
   "outputs": [
    {
     "data": {
      "text/plain": [
       "Date\n",
       "03-04-2005    24\n",
       "02-04-2005    24\n",
       "11-03-2004    24\n",
       "12-03-2004    24\n",
       "13-03-2004    24\n",
       "              ..\n",
       "17-03-2004    24\n",
       "16-03-2004    24\n",
       "15-03-2004    24\n",
       "04-04-2005    15\n",
       "10-03-2004     6\n",
       "Name: count, Length: 391, dtype: int64"
      ]
     },
     "execution_count": 12,
     "metadata": {},
     "output_type": "execute_result"
    }
   ],
   "source": [
    "df.Date.value_counts()"
   ]
  },
  {
   "cell_type": "code",
   "execution_count": 13,
   "id": "f20b1843-568f-4e27-bdec-844266502f99",
   "metadata": {},
   "outputs": [
    {
     "data": {
      "text/html": [
       "<div>\n",
       "<style scoped>\n",
       "    .dataframe tbody tr th:only-of-type {\n",
       "        vertical-align: middle;\n",
       "    }\n",
       "\n",
       "    .dataframe tbody tr th {\n",
       "        vertical-align: top;\n",
       "    }\n",
       "\n",
       "    .dataframe thead th {\n",
       "        text-align: right;\n",
       "    }\n",
       "</style>\n",
       "<table border=\"1\" class=\"dataframe\">\n",
       "  <thead>\n",
       "    <tr style=\"text-align: right;\">\n",
       "      <th></th>\n",
       "      <th>Date</th>\n",
       "      <th>Time</th>\n",
       "      <th>CO(GT)</th>\n",
       "      <th>PT08.S1(CO)</th>\n",
       "      <th>NMHC(GT)</th>\n",
       "      <th>C6H6(GT)</th>\n",
       "      <th>PT08.S2(NMHC)</th>\n",
       "      <th>NOx(GT)</th>\n",
       "      <th>PT08.S3(NOx)</th>\n",
       "      <th>NO2(GT)</th>\n",
       "      <th>PT08.S4(NO2)</th>\n",
       "      <th>PT08.S5(O3)</th>\n",
       "      <th>T</th>\n",
       "      <th>RH</th>\n",
       "      <th>AH</th>\n",
       "    </tr>\n",
       "  </thead>\n",
       "  <tbody>\n",
       "    <tr>\n",
       "      <th>0</th>\n",
       "      <td>2004-03-10</td>\n",
       "      <td>18.00.00</td>\n",
       "      <td>2.6</td>\n",
       "      <td>1360</td>\n",
       "      <td>150</td>\n",
       "      <td>11.9</td>\n",
       "      <td>1046</td>\n",
       "      <td>166</td>\n",
       "      <td>1056</td>\n",
       "      <td>113</td>\n",
       "      <td>1692</td>\n",
       "      <td>1268</td>\n",
       "      <td>13.6</td>\n",
       "      <td>48.9</td>\n",
       "      <td>0.7578</td>\n",
       "    </tr>\n",
       "    <tr>\n",
       "      <th>1</th>\n",
       "      <td>2004-03-10</td>\n",
       "      <td>19.00.00</td>\n",
       "      <td>2.0</td>\n",
       "      <td>1292</td>\n",
       "      <td>112</td>\n",
       "      <td>9.4</td>\n",
       "      <td>955</td>\n",
       "      <td>103</td>\n",
       "      <td>1174</td>\n",
       "      <td>92</td>\n",
       "      <td>1559</td>\n",
       "      <td>972</td>\n",
       "      <td>13.3</td>\n",
       "      <td>47.7</td>\n",
       "      <td>0.7255</td>\n",
       "    </tr>\n",
       "  </tbody>\n",
       "</table>\n",
       "</div>"
      ],
      "text/plain": [
       "        Date      Time  CO(GT)  PT08.S1(CO)  NMHC(GT)  C6H6(GT)  \\\n",
       "0 2004-03-10  18.00.00     2.6         1360       150      11.9   \n",
       "1 2004-03-10  19.00.00     2.0         1292       112       9.4   \n",
       "\n",
       "   PT08.S2(NMHC)  NOx(GT)  PT08.S3(NOx)  NO2(GT)  PT08.S4(NO2)  PT08.S5(O3)  \\\n",
       "0           1046      166          1056      113          1692         1268   \n",
       "1            955      103          1174       92          1559          972   \n",
       "\n",
       "      T    RH      AH  \n",
       "0  13.6  48.9  0.7578  \n",
       "1  13.3  47.7  0.7255  "
      ]
     },
     "execution_count": 13,
     "metadata": {},
     "output_type": "execute_result"
    }
   ],
   "source": [
    "# converting the date into mm / dd / yyyy format for pandas to read it \n",
    "# adding Dayfirst = True because pandas read data as mm/dd/yyy format and the data is not in the format\n",
    "\n",
    "df['Date'] = pd.to_datetime(df['Date'], dayfirst = True)\n",
    "df.head(2)"
   ]
  },
  {
   "cell_type": "code",
   "execution_count": 14,
   "id": "c361c316-f65e-409b-b397-11a0e43150cb",
   "metadata": {},
   "outputs": [
    {
     "data": {
      "text/plain": [
       "np.int64(0)"
      ]
     },
     "execution_count": 14,
     "metadata": {},
     "output_type": "execute_result"
    }
   ],
   "source": [
    "# duplicate value checking\n",
    "df.duplicated().sum()"
   ]
  },
  {
   "cell_type": "code",
   "execution_count": 15,
   "id": "ac4d9551-3e96-451d-83ab-2171885e20b7",
   "metadata": {},
   "outputs": [],
   "source": [
    "# converting Time in the hh:mm:ss\n",
    "# dt.time --> gives only the time factor\n",
    "df['Time'] = pd.to_datetime(df['Time'], format = '%H.%M.%S').dt.time\n",
    "\n",
    "# replacing the '.' to ':'\n",
    "# regex = identifies the '.' value only in the time\n",
    "df['Time'] = df['Time'].astype(str).str.replace('.',':', regex = False)"
   ]
  },
  {
   "cell_type": "code",
   "execution_count": 16,
   "id": "617a0327-feed-4e3c-9ba1-a43cbafd9ba4",
   "metadata": {},
   "outputs": [
    {
     "data": {
      "text/html": [
       "<div>\n",
       "<style scoped>\n",
       "    .dataframe tbody tr th:only-of-type {\n",
       "        vertical-align: middle;\n",
       "    }\n",
       "\n",
       "    .dataframe tbody tr th {\n",
       "        vertical-align: top;\n",
       "    }\n",
       "\n",
       "    .dataframe thead th {\n",
       "        text-align: right;\n",
       "    }\n",
       "</style>\n",
       "<table border=\"1\" class=\"dataframe\">\n",
       "  <thead>\n",
       "    <tr style=\"text-align: right;\">\n",
       "      <th></th>\n",
       "      <th>Date</th>\n",
       "      <th>Time</th>\n",
       "      <th>CO(GT)</th>\n",
       "      <th>PT08.S1(CO)</th>\n",
       "      <th>NMHC(GT)</th>\n",
       "      <th>C6H6(GT)</th>\n",
       "      <th>PT08.S2(NMHC)</th>\n",
       "      <th>NOx(GT)</th>\n",
       "      <th>PT08.S3(NOx)</th>\n",
       "      <th>NO2(GT)</th>\n",
       "      <th>PT08.S4(NO2)</th>\n",
       "      <th>PT08.S5(O3)</th>\n",
       "      <th>T</th>\n",
       "      <th>RH</th>\n",
       "      <th>AH</th>\n",
       "    </tr>\n",
       "  </thead>\n",
       "  <tbody>\n",
       "    <tr>\n",
       "      <th>0</th>\n",
       "      <td>2004-03-10</td>\n",
       "      <td>18:00:00</td>\n",
       "      <td>2.6</td>\n",
       "      <td>1360</td>\n",
       "      <td>150</td>\n",
       "      <td>11.9</td>\n",
       "      <td>1046</td>\n",
       "      <td>166</td>\n",
       "      <td>1056</td>\n",
       "      <td>113</td>\n",
       "      <td>1692</td>\n",
       "      <td>1268</td>\n",
       "      <td>13.6</td>\n",
       "      <td>48.9</td>\n",
       "      <td>0.7578</td>\n",
       "    </tr>\n",
       "    <tr>\n",
       "      <th>1</th>\n",
       "      <td>2004-03-10</td>\n",
       "      <td>19:00:00</td>\n",
       "      <td>2.0</td>\n",
       "      <td>1292</td>\n",
       "      <td>112</td>\n",
       "      <td>9.4</td>\n",
       "      <td>955</td>\n",
       "      <td>103</td>\n",
       "      <td>1174</td>\n",
       "      <td>92</td>\n",
       "      <td>1559</td>\n",
       "      <td>972</td>\n",
       "      <td>13.3</td>\n",
       "      <td>47.7</td>\n",
       "      <td>0.7255</td>\n",
       "    </tr>\n",
       "  </tbody>\n",
       "</table>\n",
       "</div>"
      ],
      "text/plain": [
       "        Date      Time  CO(GT)  PT08.S1(CO)  NMHC(GT)  C6H6(GT)  \\\n",
       "0 2004-03-10  18:00:00     2.6         1360       150      11.9   \n",
       "1 2004-03-10  19:00:00     2.0         1292       112       9.4   \n",
       "\n",
       "   PT08.S2(NMHC)  NOx(GT)  PT08.S3(NOx)  NO2(GT)  PT08.S4(NO2)  PT08.S5(O3)  \\\n",
       "0           1046      166          1056      113          1692         1268   \n",
       "1            955      103          1174       92          1559          972   \n",
       "\n",
       "      T    RH      AH  \n",
       "0  13.6  48.9  0.7578  \n",
       "1  13.3  47.7  0.7255  "
      ]
     },
     "execution_count": 16,
     "metadata": {},
     "output_type": "execute_result"
    }
   ],
   "source": [
    "df.head(2)"
   ]
  },
  {
   "cell_type": "code",
   "execution_count": 17,
   "id": "feccbe5c-bcbf-457d-bdbe-1b4f643aa1c5",
   "metadata": {},
   "outputs": [],
   "source": [
    "df['Time'] = df['Time'].astype('datetime64[ns]').dt.time # converting the time to datetime dtype again"
   ]
  },
  {
   "cell_type": "code",
   "execution_count": 18,
   "id": "2163018f-e40d-4d56-9db0-412d9a00e7e8",
   "metadata": {},
   "outputs": [
    {
     "data": {
      "text/plain": [
       "Date             datetime64[ns]\n",
       "Time                     object\n",
       "CO(GT)                  float64\n",
       "PT08.S1(CO)               int64\n",
       "NMHC(GT)                  int64\n",
       "C6H6(GT)                float64\n",
       "PT08.S2(NMHC)             int64\n",
       "NOx(GT)                   int64\n",
       "PT08.S3(NOx)              int64\n",
       "NO2(GT)                   int64\n",
       "PT08.S4(NO2)              int64\n",
       "PT08.S5(O3)               int64\n",
       "T                       float64\n",
       "RH                      float64\n",
       "AH                      float64\n",
       "dtype: object"
      ]
     },
     "execution_count": 18,
     "metadata": {},
     "output_type": "execute_result"
    }
   ],
   "source": [
    "df.dtypes"
   ]
  },
  {
   "cell_type": "code",
   "execution_count": 19,
   "id": "690614e5-b026-4f5e-8458-b8867a6e3675",
   "metadata": {},
   "outputs": [
    {
     "data": {
      "text/html": [
       "<div>\n",
       "<style scoped>\n",
       "    .dataframe tbody tr th:only-of-type {\n",
       "        vertical-align: middle;\n",
       "    }\n",
       "\n",
       "    .dataframe tbody tr th {\n",
       "        vertical-align: top;\n",
       "    }\n",
       "\n",
       "    .dataframe thead th {\n",
       "        text-align: right;\n",
       "    }\n",
       "</style>\n",
       "<table border=\"1\" class=\"dataframe\">\n",
       "  <thead>\n",
       "    <tr style=\"text-align: right;\">\n",
       "      <th></th>\n",
       "      <th>Date</th>\n",
       "      <th>Time</th>\n",
       "      <th>CO(GT)</th>\n",
       "      <th>PT08.S1(CO)</th>\n",
       "      <th>NMHC(GT)</th>\n",
       "      <th>C6H6(GT)</th>\n",
       "      <th>PT08.S2(NMHC)</th>\n",
       "      <th>NOx(GT)</th>\n",
       "      <th>PT08.S3(NOx)</th>\n",
       "      <th>NO2(GT)</th>\n",
       "      <th>PT08.S4(NO2)</th>\n",
       "      <th>PT08.S5(O3)</th>\n",
       "      <th>T</th>\n",
       "      <th>RH</th>\n",
       "      <th>AH</th>\n",
       "    </tr>\n",
       "  </thead>\n",
       "  <tbody>\n",
       "    <tr>\n",
       "      <th>0</th>\n",
       "      <td>2004-03-10</td>\n",
       "      <td>18:00:00</td>\n",
       "      <td>2.6</td>\n",
       "      <td>1360</td>\n",
       "      <td>150</td>\n",
       "      <td>11.9</td>\n",
       "      <td>1046</td>\n",
       "      <td>166</td>\n",
       "      <td>1056</td>\n",
       "      <td>113</td>\n",
       "      <td>1692</td>\n",
       "      <td>1268</td>\n",
       "      <td>13.6</td>\n",
       "      <td>48.9</td>\n",
       "      <td>0.7578</td>\n",
       "    </tr>\n",
       "    <tr>\n",
       "      <th>1</th>\n",
       "      <td>2004-03-10</td>\n",
       "      <td>19:00:00</td>\n",
       "      <td>2.0</td>\n",
       "      <td>1292</td>\n",
       "      <td>112</td>\n",
       "      <td>9.4</td>\n",
       "      <td>955</td>\n",
       "      <td>103</td>\n",
       "      <td>1174</td>\n",
       "      <td>92</td>\n",
       "      <td>1559</td>\n",
       "      <td>972</td>\n",
       "      <td>13.3</td>\n",
       "      <td>47.7</td>\n",
       "      <td>0.7255</td>\n",
       "    </tr>\n",
       "  </tbody>\n",
       "</table>\n",
       "</div>"
      ],
      "text/plain": [
       "        Date      Time  CO(GT)  PT08.S1(CO)  NMHC(GT)  C6H6(GT)  \\\n",
       "0 2004-03-10  18:00:00     2.6         1360       150      11.9   \n",
       "1 2004-03-10  19:00:00     2.0         1292       112       9.4   \n",
       "\n",
       "   PT08.S2(NMHC)  NOx(GT)  PT08.S3(NOx)  NO2(GT)  PT08.S4(NO2)  PT08.S5(O3)  \\\n",
       "0           1046      166          1056      113          1692         1268   \n",
       "1            955      103          1174       92          1559          972   \n",
       "\n",
       "      T    RH      AH  \n",
       "0  13.6  48.9  0.7578  \n",
       "1  13.3  47.7  0.7255  "
      ]
     },
     "execution_count": 19,
     "metadata": {},
     "output_type": "execute_result"
    }
   ],
   "source": [
    "df.head(2)"
   ]
  },
  {
   "cell_type": "code",
   "execution_count": 20,
   "id": "5abf189b-5f22-403c-87f2-af54161bb2da",
   "metadata": {},
   "outputs": [
    {
     "data": {
      "text/plain": [
       "Index(['Date', 'Time', 'CO(GT)', 'PT08.S1(CO)', 'NMHC(GT)', 'C6H6(GT)',\n",
       "       'PT08.S2(NMHC)', 'NOx(GT)', 'PT08.S3(NOx)', 'NO2(GT)', 'PT08.S4(NO2)',\n",
       "       'PT08.S5(O3)', 'T', 'RH', 'AH'],\n",
       "      dtype='object')"
      ]
     },
     "execution_count": 20,
     "metadata": {},
     "output_type": "execute_result"
    }
   ],
   "source": [
    "# Changing the column names and replacing the values\n",
    "df.columns"
   ]
  },
  {
   "cell_type": "code",
   "execution_count": 21,
   "id": "ab864bbd-ad65-4338-b78d-3239f993c7f1",
   "metadata": {},
   "outputs": [],
   "source": [
    "df = df.rename(columns ={'PT08.S1(CO)': 'CO sensor', 'PT08.S2(NMHC)':'NMHC sensor', 'PT08.S3(NOx)':'NOx sensor','PT08.S4(NO2)':'NO2 sensor','PT08.S5(O3)':'O3 sensor',\n",
    "                         'T':'Temperature','RH':'Relative Humidity' , 'AH':'Absolute Humidity'})\n"
   ]
  },
  {
   "cell_type": "code",
   "execution_count": 22,
   "id": "f0ec1a39-ca38-4adf-ac8b-e6a22fe147f3",
   "metadata": {},
   "outputs": [
    {
     "data": {
      "text/plain": [
       "Index(['Date', 'Time', 'CO(GT)', 'CO sensor', 'NMHC(GT)', 'C6H6(GT)',\n",
       "       'NMHC sensor', 'NOx(GT)', 'NOx sensor', 'NO2(GT)', 'NO2 sensor',\n",
       "       'O3 sensor', 'Temperature', 'Relative Humidity', 'Absolute Humidity'],\n",
       "      dtype='object')"
      ]
     },
     "execution_count": 22,
     "metadata": {},
     "output_type": "execute_result"
    }
   ],
   "source": [
    "df.columns"
   ]
  },
  {
   "cell_type": "markdown",
   "id": "d2cb538e-63ba-4394-b98c-3af3ecd3ed32",
   "metadata": {},
   "source": [
    "#### Fixing the 'Temperature' values"
   ]
  },
  {
   "cell_type": "code",
   "execution_count": 23,
   "id": "eba6f93e-065f-400d-962a-359b41b7872a",
   "metadata": {},
   "outputs": [
    {
     "name": "stdout",
     "output_type": "stream",
     "text": [
      "count    9357.000000\n",
      "mean        9.778305\n",
      "std        43.203623\n",
      "min      -200.000000\n",
      "25%        10.900000\n",
      "50%        17.200000\n",
      "75%        24.100000\n",
      "max        44.600000\n",
      "Name: Temperature, dtype: float64\n"
     ]
    }
   ],
   "source": [
    "# checking for values of temperature wherther all the values are in degree celsius\n",
    "print(df['Temperature'].describe())"
   ]
  },
  {
   "cell_type": "code",
   "execution_count": 24,
   "id": "b4344dad-e394-4731-a83c-c0454f55de19",
   "metadata": {},
   "outputs": [
    {
     "data": {
      "text/plain": [
       "Temperature\n",
       "-200.0    366\n",
       " 20.8      57\n",
       " 21.3      54\n",
       " 13.8      51\n",
       " 20.2      51\n",
       "         ... \n",
       " 1.7        1\n",
       "-1.2        1\n",
       "-1.9        1\n",
       "-0.5        1\n",
       " 0.5        1\n",
       "Name: count, Length: 437, dtype: int64"
      ]
     },
     "execution_count": 24,
     "metadata": {},
     "output_type": "execute_result"
    }
   ],
   "source": [
    "# we have -200 temperature values which is incorrect have to replace it\n",
    "df.Temperature.value_counts()"
   ]
  },
  {
   "cell_type": "code",
   "execution_count": 25,
   "id": "91643ebc-33cc-488b-b5f6-f04858bea9f2",
   "metadata": {},
   "outputs": [],
   "source": [
    "# first replacing the -200 with nan values\n",
    "df['Temperature'] = df['Temperature'].replace(-200, np.nan)"
   ]
  },
  {
   "cell_type": "code",
   "execution_count": 26,
   "id": "7f363f27-9154-48f2-82ab-3bd9f6461f43",
   "metadata": {},
   "outputs": [
    {
     "data": {
      "text/plain": [
       "np.int64(366)"
      ]
     },
     "execution_count": 26,
     "metadata": {},
     "output_type": "execute_result"
    }
   ],
   "source": [
    "#finding the total na values\n",
    "df['Temperature'].isna().sum()"
   ]
  },
  {
   "cell_type": "code",
   "execution_count": 27,
   "id": "874277ef-9984-4560-8962-921ffec9ab7e",
   "metadata": {},
   "outputs": [],
   "source": [
    "# finding the median and replacing the temperature with median values\n",
    "median_temp = df['Temperature'].median()\n",
    "df['Temperature'] = df['Temperature'].fillna(median_temp)"
   ]
  },
  {
   "cell_type": "code",
   "execution_count": 28,
   "id": "6250bc6e-9d4f-4de8-9cda-0d482730a33b",
   "metadata": {},
   "outputs": [
    {
     "data": {
      "text/plain": [
       "np.int64(0)"
      ]
     },
     "execution_count": 28,
     "metadata": {},
     "output_type": "execute_result"
    }
   ],
   "source": [
    "df['Temperature'].isna().sum()"
   ]
  },
  {
   "cell_type": "code",
   "execution_count": 29,
   "id": "f84fb133-700d-4010-a777-cf0ff78190ee",
   "metadata": {},
   "outputs": [
    {
     "data": {
      "text/plain": [
       "Temperature\n",
       "17.8    412\n",
       "20.8     57\n",
       "21.3     54\n",
       "20.2     51\n",
       "13.8     51\n",
       "12.0     49\n",
       "12.3     49\n",
       "15.6     49\n",
       "19.8     48\n",
       "16.3     48\n",
       "14.6     47\n",
       "14.5     47\n",
       "21.7     46\n",
       "19.3     46\n",
       "13.4     46\n",
       "13.7     46\n",
       "13.5     45\n",
       "13.3     45\n",
       "16.0     45\n",
       "14.8     45\n",
       "14.1     44\n",
       "23.7     44\n",
       "19.7     43\n",
       "13.1     43\n",
       "15.5     43\n",
       "15.8     41\n",
       "14.0     41\n",
       "20.3     41\n",
       "11.3     41\n",
       "14.9     40\n",
       "14.2     40\n",
       "10.7     40\n",
       "21.2     40\n",
       "16.1     40\n",
       "17.4     40\n",
       "21.6     40\n",
       "17.6     40\n",
       "13.2     39\n",
       "25.4     39\n",
       "23.5     39\n",
       "18.8     39\n",
       "12.6     39\n",
       "16.8     38\n",
       "Name: count, dtype: int64"
      ]
     },
     "execution_count": 29,
     "metadata": {},
     "output_type": "execute_result"
    }
   ],
   "source": [
    "df['Temperature'].value_counts().head(43)"
   ]
  },
  {
   "cell_type": "markdown",
   "id": "8d3f35db-6d08-4879-8de6-d86d5adc3193",
   "metadata": {},
   "source": [
    "#### Fixing the 'CO(GT)' values"
   ]
  },
  {
   "cell_type": "code",
   "execution_count": 30,
   "id": "9879936f-7b39-482d-ba62-794c67ffe821",
   "metadata": {},
   "outputs": [
    {
     "data": {
      "text/plain": [
       "CO(GT)\n",
       "-200.0    1683\n",
       " 1.0       305\n",
       " 1.4       279\n",
       " 1.6       275\n",
       " 1.5       273\n",
       "          ... \n",
       " 10.1        1\n",
       " 9.9         1\n",
       " 9.4         1\n",
       " 9.3         1\n",
       " 8.5         1\n",
       "Name: count, Length: 97, dtype: int64"
      ]
     },
     "execution_count": 30,
     "metadata": {},
     "output_type": "execute_result"
    }
   ],
   "source": [
    "df['CO(GT)'].value_counts()"
   ]
  },
  {
   "cell_type": "code",
   "execution_count": 31,
   "id": "6b25ff65-b28d-4c2c-9a56-8d5401ab727a",
   "metadata": {},
   "outputs": [
    {
     "data": {
      "text/plain": [
       "np.int64(1683)"
      ]
     },
     "execution_count": 31,
     "metadata": {},
     "output_type": "execute_result"
    }
   ],
   "source": [
    "# replacing -200 with nan\n",
    "df['CO(GT)'] = df['CO(GT)'].replace(-200,np.nan)\n",
    "df['CO(GT)'].isna().sum()"
   ]
  },
  {
   "cell_type": "code",
   "execution_count": 32,
   "id": "96ea15b9-be6a-44b7-b69b-8fcb0d0c063b",
   "metadata": {},
   "outputs": [
    {
     "data": {
      "text/plain": [
       "0       2.6\n",
       "1       2.0\n",
       "2       2.2\n",
       "3       2.2\n",
       "4       1.6\n",
       "       ... \n",
       "9352    3.1\n",
       "9353    2.4\n",
       "9354    2.4\n",
       "9355    2.1\n",
       "9356    2.2\n",
       "Name: CO(GT), Length: 9357, dtype: float64"
      ]
     },
     "execution_count": 32,
     "metadata": {},
     "output_type": "execute_result"
    }
   ],
   "source": [
    "# replacing the nan values with median\n",
    "median_co = df['CO(GT)'].median()\n",
    "df['CO(GT)'].fillna(median_co)"
   ]
  },
  {
   "cell_type": "code",
   "execution_count": 33,
   "id": "9bd9c016-573e-4242-a167-179159b765d6",
   "metadata": {},
   "outputs": [
    {
     "data": {
      "text/plain": [
       "CO(GT)\n",
       "1.0     305\n",
       "1.4     279\n",
       "1.6     275\n",
       "1.5     273\n",
       "1.1     262\n",
       "       ... \n",
       "10.1      1\n",
       "9.9       1\n",
       "9.4       1\n",
       "9.3       1\n",
       "8.5       1\n",
       "Name: count, Length: 96, dtype: int64"
      ]
     },
     "execution_count": 33,
     "metadata": {},
     "output_type": "execute_result"
    }
   ],
   "source": [
    "df['CO(GT)'].value_counts()"
   ]
  },
  {
   "cell_type": "markdown",
   "id": "bba78314-51dc-4a0f-b9f4-d4db5087683c",
   "metadata": {},
   "source": [
    "#### Fixing the 'NMHC(GT)' values"
   ]
  },
  {
   "cell_type": "code",
   "execution_count": 34,
   "id": "1cf3ca5c-4685-4fe1-a47d-d8f0af0ea0c9",
   "metadata": {},
   "outputs": [
    {
     "data": {
      "text/plain": [
       "NMHC(GT)\n",
       "-200    8443\n",
       " 66       14\n",
       " 40        9\n",
       " 29        9\n",
       " 88        8\n",
       "        ... \n",
       " 265       1\n",
       " 365       1\n",
       " 642       1\n",
       " 501       1\n",
       " 24        1\n",
       "Name: count, Length: 430, dtype: int64"
      ]
     },
     "execution_count": 34,
     "metadata": {},
     "output_type": "execute_result"
    }
   ],
   "source": [
    "df['NMHC(GT)'].value_counts()"
   ]
  },
  {
   "cell_type": "code",
   "execution_count": 35,
   "id": "bc2a7b72-f035-4b48-b524-ce2543570b28",
   "metadata": {},
   "outputs": [],
   "source": [
    "# replacing NMHC with nan\n",
    "df['NMHC(GT)'] = df['NMHC(GT)'].replace(-200,np.nan)"
   ]
  },
  {
   "cell_type": "code",
   "execution_count": 36,
   "id": "3f521d86-b710-4ed0-bc7a-c221003072d6",
   "metadata": {},
   "outputs": [
    {
     "data": {
      "text/plain": [
       "NMHC(GT)\n",
       "150.0    8448\n",
       "66.0       14\n",
       "40.0        9\n",
       "29.0        9\n",
       "93.0        8\n",
       "         ... \n",
       "265.0       1\n",
       "365.0       1\n",
       "252.0       1\n",
       "8.0         1\n",
       "82.0        1\n",
       "Name: count, Length: 429, dtype: int64"
      ]
     },
     "execution_count": 36,
     "metadata": {},
     "output_type": "execute_result"
    }
   ],
   "source": [
    "# filling missing values\n",
    "df['NMHC(GT)'].isna().sum()\n",
    "median_nh = df['NMHC(GT)'].median()\n",
    "df['NMHC(GT)'] = df['NMHC(GT)'].fillna(median_nh)\n",
    "\n",
    "# value_counts\n",
    "df['NMHC(GT)'].value_counts()"
   ]
  },
  {
   "cell_type": "code",
   "execution_count": 37,
   "id": "f71a060a-446d-48da-a274-ee462d67b13d",
   "metadata": {},
   "outputs": [
    {
     "data": {
      "text/plain": [
       "Index(['Date', 'Time', 'CO(GT)', 'CO sensor', 'NMHC(GT)', 'C6H6(GT)',\n",
       "       'NMHC sensor', 'NOx(GT)', 'NOx sensor', 'NO2(GT)', 'NO2 sensor',\n",
       "       'O3 sensor', 'Temperature', 'Relative Humidity', 'Absolute Humidity'],\n",
       "      dtype='object')"
      ]
     },
     "execution_count": 37,
     "metadata": {},
     "output_type": "execute_result"
    }
   ],
   "source": [
    "df.columns"
   ]
  },
  {
   "cell_type": "markdown",
   "id": "552a39c8-9b6c-4c7e-a6ac-ccdab775a20a",
   "metadata": {},
   "source": [
    "#### Fixing the 'C6H6(GT)' values"
   ]
  },
  {
   "cell_type": "code",
   "execution_count": 38,
   "id": "da208e0d-dfea-44b5-8f8e-7e85de2519c0",
   "metadata": {},
   "outputs": [
    {
     "data": {
      "text/plain": [
       "C6H6(GT)\n",
       "-200.0    366\n",
       " 3.6       84\n",
       " 2.8       82\n",
       " 3.8       79\n",
       " 4.0       78\n",
       "         ... \n",
       " 36.5       1\n",
       " 43.7       1\n",
       " 34.8       1\n",
       " 46.3       1\n",
       " 35.5       1\n",
       "Name: count, Length: 408, dtype: int64"
      ]
     },
     "execution_count": 38,
     "metadata": {},
     "output_type": "execute_result"
    }
   ],
   "source": [
    "# fiinding the vcvalue counts\n",
    "df['C6H6(GT)'].value_counts()"
   ]
  },
  {
   "cell_type": "code",
   "execution_count": 39,
   "id": "efdcdfe7-ad46-4f94-92b6-d4b0ec45b122",
   "metadata": {},
   "outputs": [],
   "source": [
    "# replacing with nan and then filling with median\n",
    "df['C6H6(GT)'] = df['C6H6(GT)'].replace(-200,np.nan)\n",
    "df['C6H6(GT)'].isna().sum()\n",
    "\n",
    "# filling median\n",
    "median_c6 = df['C6H6(GT)'].median()\n",
    "df['C6H6(GT)'] = df['C6H6(GT)'].fillna(median_c6)"
   ]
  },
  {
   "cell_type": "markdown",
   "id": "118f44d8-8ce5-44f7-b26d-ef2e0710ff3f",
   "metadata": {},
   "source": [
    "#### FIXING THE 'NOx(GT)' VALUES"
   ]
  },
  {
   "cell_type": "code",
   "execution_count": 40,
   "id": "6a0cb80b-d275-4200-ab8d-082fd8cd78ce",
   "metadata": {},
   "outputs": [
    {
     "data": {
      "text/plain": [
       "NOx(GT)\n",
       "-200    1639\n",
       " 89       41\n",
       " 65       37\n",
       " 41       36\n",
       " 122      36\n",
       "        ... \n",
       " 877       1\n",
       " 768       1\n",
       " 867       1\n",
       " 468       1\n",
       " 746       1\n",
       "Name: count, Length: 926, dtype: int64"
      ]
     },
     "execution_count": 40,
     "metadata": {},
     "output_type": "execute_result"
    }
   ],
   "source": [
    "df['NOx(GT)'].value_counts()"
   ]
  },
  {
   "cell_type": "code",
   "execution_count": 41,
   "id": "cb1ba555-0c8d-4451-b0b9-95e2fd9f78ae",
   "metadata": {},
   "outputs": [
    {
     "data": {
      "text/plain": [
       "np.int64(1639)"
      ]
     },
     "execution_count": 41,
     "metadata": {},
     "output_type": "execute_result"
    }
   ],
   "source": [
    "# replacing 'NOx(GT)' with nan\n",
    "df['NOx(GT)'] =df['NOx(GT)'].replace(-200,np.nan)\n",
    "df['NOx(GT)'].isna().sum()"
   ]
  },
  {
   "cell_type": "code",
   "execution_count": 42,
   "id": "3f89dde6-d048-4c00-b773-a7fb1d672663",
   "metadata": {},
   "outputs": [
    {
     "data": {
      "text/plain": [
       "NOx(GT)\n",
       "180.0    1674\n",
       "89.0       41\n",
       "65.0       37\n",
       "41.0       36\n",
       "122.0      36\n",
       "         ... \n",
       "877.0       1\n",
       "768.0       1\n",
       "867.0       1\n",
       "872.0       1\n",
       "746.0       1\n",
       "Name: count, Length: 925, dtype: int64"
      ]
     },
     "execution_count": 42,
     "metadata": {},
     "output_type": "execute_result"
    }
   ],
   "source": [
    "# filling median values\n",
    "median_no = df['NOx(GT)'].median()\n",
    "df['NOx(GT)'] = df['NOx(GT)'].fillna(median_no)\n",
    "\n",
    "# checking values\n",
    "df['NOx(GT)'].value_counts()"
   ]
  },
  {
   "cell_type": "code",
   "execution_count": 43,
   "id": "37518ebf-ee71-42fc-8db9-8aa68d5ebeec",
   "metadata": {},
   "outputs": [
    {
     "data": {
      "text/plain": [
       "Index(['Date', 'Time', 'CO(GT)', 'CO sensor', 'NMHC(GT)', 'C6H6(GT)',\n",
       "       'NMHC sensor', 'NOx(GT)', 'NOx sensor', 'NO2(GT)', 'NO2 sensor',\n",
       "       'O3 sensor', 'Temperature', 'Relative Humidity', 'Absolute Humidity'],\n",
       "      dtype='object')"
      ]
     },
     "execution_count": 43,
     "metadata": {},
     "output_type": "execute_result"
    }
   ],
   "source": [
    "df.columns"
   ]
  },
  {
   "cell_type": "markdown",
   "id": "02a01f6a-0b4a-4c71-81f4-0a770193cf0d",
   "metadata": {},
   "source": [
    "#### FIXING 'NO2(GT)' VALUES"
   ]
  },
  {
   "cell_type": "code",
   "execution_count": 44,
   "id": "6ef05a50-d642-4180-b011-5b50c81a2273",
   "metadata": {},
   "outputs": [
    {
     "data": {
      "text/plain": [
       "NO2(GT)\n",
       "-200    1642\n",
       " 97       78\n",
       " 117      77\n",
       " 119      77\n",
       " 95       75\n",
       "        ... \n",
       " 256       1\n",
       " 284       1\n",
       " 326       1\n",
       " 340       1\n",
       " 295       1\n",
       "Name: count, Length: 284, dtype: int64"
      ]
     },
     "execution_count": 44,
     "metadata": {},
     "output_type": "execute_result"
    }
   ],
   "source": [
    "# checking value counts\n",
    "df['NO2(GT)'].value_counts()"
   ]
  },
  {
   "cell_type": "code",
   "execution_count": 45,
   "id": "d28e6884-468e-4334-a263-c4570a0ed6cb",
   "metadata": {},
   "outputs": [
    {
     "data": {
      "text/plain": [
       "NO2(GT)\n",
       "109.0    1706\n",
       "97.0       78\n",
       "117.0      77\n",
       "119.0      77\n",
       "114.0      75\n",
       "         ... \n",
       "257.0       1\n",
       "284.0       1\n",
       "326.0       1\n",
       "340.0       1\n",
       "295.0       1\n",
       "Name: count, Length: 283, dtype: int64"
      ]
     },
     "execution_count": 45,
     "metadata": {},
     "output_type": "execute_result"
    }
   ],
   "source": [
    "#replacing the values with nan\n",
    "df['NO2(GT)'] = df['NO2(GT)'].replace(-200,np.nan)\n",
    "\n",
    "#filling nan\n",
    "median_no2 = df['NO2(GT)'].median()\n",
    "df['NO2(GT)'] = df['NO2(GT)'].fillna(median_no2)\n",
    "\n",
    "# value check\n",
    "df['NO2(GT)'].value_counts()"
   ]
  },
  {
   "cell_type": "code",
   "execution_count": 46,
   "id": "b42c917e-e73c-4829-804e-ba7154162e85",
   "metadata": {},
   "outputs": [
    {
     "data": {
      "text/plain": [
       "Index(['Date', 'Time', 'CO(GT)', 'CO sensor', 'NMHC(GT)', 'C6H6(GT)',\n",
       "       'NMHC sensor', 'NOx(GT)', 'NOx sensor', 'NO2(GT)', 'NO2 sensor',\n",
       "       'O3 sensor', 'Temperature', 'Relative Humidity', 'Absolute Humidity'],\n",
       "      dtype='object')"
      ]
     },
     "execution_count": 46,
     "metadata": {},
     "output_type": "execute_result"
    }
   ],
   "source": [
    "df.columns"
   ]
  },
  {
   "cell_type": "markdown",
   "id": "821d2398-b893-43df-9edf-90ed4dc087e8",
   "metadata": {},
   "source": [
    "#### FILLING Absolute Humidity and Relative Humidity with median"
   ]
  },
  {
   "cell_type": "code",
   "execution_count": 47,
   "id": "5cc72d43-448d-42c7-9ef8-4f404a5ab36a",
   "metadata": {},
   "outputs": [
    {
     "data": {
      "text/plain": [
       "Relative Humidity\n",
       "49.6    387\n",
       "53.1     31\n",
       "47.8     30\n",
       "57.9     30\n",
       "60.8     27\n",
       "       ... \n",
       "11.1      1\n",
       "87.1      1\n",
       "84.6      1\n",
       "84.2      1\n",
       "10.4      1\n",
       "Name: count, Length: 753, dtype: int64"
      ]
     },
     "execution_count": 47,
     "metadata": {},
     "output_type": "execute_result"
    }
   ],
   "source": [
    "df['Relative Humidity'].value_counts()\n",
    "\n",
    "# fill na\n",
    "df['Relative Humidity'] = df['Relative Humidity'].replace(-200,np.nan)\n",
    "\n",
    "#median\n",
    "median_rh = df['Relative Humidity'].median()\n",
    "df['Relative Humidity'] = df['Relative Humidity'].fillna(median_rh)\n",
    "df['Relative Humidity'].value_counts()"
   ]
  },
  {
   "cell_type": "code",
   "execution_count": 48,
   "id": "6a16f5f9-d41d-4cb0-8dc8-2f8531ab1f21",
   "metadata": {},
   "outputs": [
    {
     "data": {
      "text/plain": [
       "Absolute Humidity\n",
       "0.9954    367\n",
       "0.8394      6\n",
       "0.9684      6\n",
       "0.7487      6\n",
       "0.9722      6\n",
       "         ... \n",
       "0.7927      1\n",
       "0.7550      1\n",
       "0.7119      1\n",
       "0.5139      1\n",
       "0.7517      1\n",
       "Name: count, Length: 6683, dtype: int64"
      ]
     },
     "execution_count": 48,
     "metadata": {},
     "output_type": "execute_result"
    }
   ],
   "source": [
    "df['Absolute Humidity'].value_counts()\n",
    "\n",
    "# fill na \n",
    "df['Absolute Humidity'] = df['Absolute Humidity'].replace(-200,np.nan)\n",
    "\n",
    "# median\n",
    "median_ah = df['Absolute Humidity'].median()\n",
    "df['Absolute Humidity'] = df['Absolute Humidity'].fillna(median_ah)\n",
    "\n",
    "# value_counts\n",
    "df['Absolute Humidity'].value_counts()"
   ]
  },
  {
   "cell_type": "markdown",
   "id": "c90aa787-2e14-4867-a354-b2b13d411806",
   "metadata": {},
   "source": [
    "##### NOTE !! : IGNORING SENSOR VALUES BECAUSE THE GT VALUE IS REQUIRED FOR PLOTTING "
   ]
  },
  {
   "cell_type": "markdown",
   "id": "cccd8c80-5678-43f3-af8a-4cfdc5ef1699",
   "metadata": {},
   "source": [
    "### GROUPING THE DATA INTO DIFFERNT COLUMNS USING GROUPBY"
   ]
  },
  {
   "cell_type": "markdown",
   "id": "e7944e24-7c58-4ebb-b6ac-1a045357423d",
   "metadata": {},
   "source": [
    "##### CO VALUES GROUPING "
   ]
  },
  {
   "cell_type": "code",
   "execution_count": 49,
   "id": "a57bffe5-20ff-4efd-89f0-c9308b849aca",
   "metadata": {},
   "outputs": [],
   "source": [
    "def co_category(co):\n",
    "    if co == -200:\n",
    "        return 'Missing'\n",
    "    elif co <= 2:\n",
    "        return 'Good'\n",
    "    elif (co > 2) and (co <= 5):\n",
    "        return 'Moderate'\n",
    "    elif (co > 5) and (co <= 10):\n",
    "        return 'Poor'\n",
    "    else:\n",
    "        return 'Hazardous'\n",
    "\n",
    "df['CO_airquality'] = df['CO(GT)'].apply(co_category)\n"
   ]
  },
  {
   "cell_type": "code",
   "execution_count": 50,
   "id": "50c417d5-2896-418f-a913-423f92c09297",
   "metadata": {},
   "outputs": [
    {
     "data": {
      "text/plain": [
       "Index(['Date', 'Time', 'CO(GT)', 'CO sensor', 'NMHC(GT)', 'C6H6(GT)',\n",
       "       'NMHC sensor', 'NOx(GT)', 'NOx sensor', 'NO2(GT)', 'NO2 sensor',\n",
       "       'O3 sensor', 'Temperature', 'Relative Humidity', 'Absolute Humidity',\n",
       "       'CO_airquality'],\n",
       "      dtype='object')"
      ]
     },
     "execution_count": 50,
     "metadata": {},
     "output_type": "execute_result"
    }
   ],
   "source": [
    "df.columns"
   ]
  },
  {
   "cell_type": "code",
   "execution_count": 51,
   "id": "1145a3e2-c891-40fe-a7d4-30511dcc75bb",
   "metadata": {},
   "outputs": [
    {
     "data": {
      "text/html": [
       "<div>\n",
       "<style scoped>\n",
       "    .dataframe tbody tr th:only-of-type {\n",
       "        vertical-align: middle;\n",
       "    }\n",
       "\n",
       "    .dataframe tbody tr th {\n",
       "        vertical-align: top;\n",
       "    }\n",
       "\n",
       "    .dataframe thead th {\n",
       "        text-align: right;\n",
       "    }\n",
       "</style>\n",
       "<table border=\"1\" class=\"dataframe\">\n",
       "  <thead>\n",
       "    <tr style=\"text-align: right;\">\n",
       "      <th></th>\n",
       "      <th>Date</th>\n",
       "      <th>Time</th>\n",
       "      <th>CO(GT)</th>\n",
       "      <th>CO sensor</th>\n",
       "      <th>NMHC(GT)</th>\n",
       "      <th>C6H6(GT)</th>\n",
       "      <th>NMHC sensor</th>\n",
       "      <th>NOx(GT)</th>\n",
       "      <th>NOx sensor</th>\n",
       "      <th>NO2(GT)</th>\n",
       "      <th>NO2 sensor</th>\n",
       "      <th>O3 sensor</th>\n",
       "      <th>Temperature</th>\n",
       "      <th>Relative Humidity</th>\n",
       "      <th>Absolute Humidity</th>\n",
       "      <th>CO_airquality</th>\n",
       "    </tr>\n",
       "  </thead>\n",
       "  <tbody>\n",
       "    <tr>\n",
       "      <th>0</th>\n",
       "      <td>2004-03-10</td>\n",
       "      <td>18:00:00</td>\n",
       "      <td>2.6</td>\n",
       "      <td>1360</td>\n",
       "      <td>150.0</td>\n",
       "      <td>11.9</td>\n",
       "      <td>1046</td>\n",
       "      <td>166.0</td>\n",
       "      <td>1056</td>\n",
       "      <td>113.0</td>\n",
       "      <td>1692</td>\n",
       "      <td>1268</td>\n",
       "      <td>13.6</td>\n",
       "      <td>48.9</td>\n",
       "      <td>0.7578</td>\n",
       "      <td>Moderate</td>\n",
       "    </tr>\n",
       "    <tr>\n",
       "      <th>1</th>\n",
       "      <td>2004-03-10</td>\n",
       "      <td>19:00:00</td>\n",
       "      <td>2.0</td>\n",
       "      <td>1292</td>\n",
       "      <td>112.0</td>\n",
       "      <td>9.4</td>\n",
       "      <td>955</td>\n",
       "      <td>103.0</td>\n",
       "      <td>1174</td>\n",
       "      <td>92.0</td>\n",
       "      <td>1559</td>\n",
       "      <td>972</td>\n",
       "      <td>13.3</td>\n",
       "      <td>47.7</td>\n",
       "      <td>0.7255</td>\n",
       "      <td>Good</td>\n",
       "    </tr>\n",
       "    <tr>\n",
       "      <th>2</th>\n",
       "      <td>2004-03-10</td>\n",
       "      <td>20:00:00</td>\n",
       "      <td>2.2</td>\n",
       "      <td>1402</td>\n",
       "      <td>88.0</td>\n",
       "      <td>9.0</td>\n",
       "      <td>939</td>\n",
       "      <td>131.0</td>\n",
       "      <td>1140</td>\n",
       "      <td>114.0</td>\n",
       "      <td>1555</td>\n",
       "      <td>1074</td>\n",
       "      <td>11.9</td>\n",
       "      <td>54.0</td>\n",
       "      <td>0.7502</td>\n",
       "      <td>Moderate</td>\n",
       "    </tr>\n",
       "    <tr>\n",
       "      <th>3</th>\n",
       "      <td>2004-03-10</td>\n",
       "      <td>21:00:00</td>\n",
       "      <td>2.2</td>\n",
       "      <td>1376</td>\n",
       "      <td>80.0</td>\n",
       "      <td>9.2</td>\n",
       "      <td>948</td>\n",
       "      <td>172.0</td>\n",
       "      <td>1092</td>\n",
       "      <td>122.0</td>\n",
       "      <td>1584</td>\n",
       "      <td>1203</td>\n",
       "      <td>11.0</td>\n",
       "      <td>60.0</td>\n",
       "      <td>0.7867</td>\n",
       "      <td>Moderate</td>\n",
       "    </tr>\n",
       "    <tr>\n",
       "      <th>4</th>\n",
       "      <td>2004-03-10</td>\n",
       "      <td>22:00:00</td>\n",
       "      <td>1.6</td>\n",
       "      <td>1272</td>\n",
       "      <td>51.0</td>\n",
       "      <td>6.5</td>\n",
       "      <td>836</td>\n",
       "      <td>131.0</td>\n",
       "      <td>1205</td>\n",
       "      <td>116.0</td>\n",
       "      <td>1490</td>\n",
       "      <td>1110</td>\n",
       "      <td>11.2</td>\n",
       "      <td>59.6</td>\n",
       "      <td>0.7888</td>\n",
       "      <td>Good</td>\n",
       "    </tr>\n",
       "    <tr>\n",
       "      <th>5</th>\n",
       "      <td>2004-03-10</td>\n",
       "      <td>23:00:00</td>\n",
       "      <td>1.2</td>\n",
       "      <td>1197</td>\n",
       "      <td>38.0</td>\n",
       "      <td>4.7</td>\n",
       "      <td>750</td>\n",
       "      <td>89.0</td>\n",
       "      <td>1337</td>\n",
       "      <td>96.0</td>\n",
       "      <td>1393</td>\n",
       "      <td>949</td>\n",
       "      <td>11.2</td>\n",
       "      <td>59.2</td>\n",
       "      <td>0.7848</td>\n",
       "      <td>Good</td>\n",
       "    </tr>\n",
       "    <tr>\n",
       "      <th>6</th>\n",
       "      <td>2004-03-11</td>\n",
       "      <td>00:00:00</td>\n",
       "      <td>1.2</td>\n",
       "      <td>1185</td>\n",
       "      <td>31.0</td>\n",
       "      <td>3.6</td>\n",
       "      <td>690</td>\n",
       "      <td>62.0</td>\n",
       "      <td>1462</td>\n",
       "      <td>77.0</td>\n",
       "      <td>1333</td>\n",
       "      <td>733</td>\n",
       "      <td>11.3</td>\n",
       "      <td>56.8</td>\n",
       "      <td>0.7603</td>\n",
       "      <td>Good</td>\n",
       "    </tr>\n",
       "    <tr>\n",
       "      <th>7</th>\n",
       "      <td>2004-03-11</td>\n",
       "      <td>01:00:00</td>\n",
       "      <td>1.0</td>\n",
       "      <td>1136</td>\n",
       "      <td>31.0</td>\n",
       "      <td>3.3</td>\n",
       "      <td>672</td>\n",
       "      <td>62.0</td>\n",
       "      <td>1453</td>\n",
       "      <td>76.0</td>\n",
       "      <td>1333</td>\n",
       "      <td>730</td>\n",
       "      <td>10.7</td>\n",
       "      <td>60.0</td>\n",
       "      <td>0.7702</td>\n",
       "      <td>Good</td>\n",
       "    </tr>\n",
       "    <tr>\n",
       "      <th>8</th>\n",
       "      <td>2004-03-11</td>\n",
       "      <td>02:00:00</td>\n",
       "      <td>0.9</td>\n",
       "      <td>1094</td>\n",
       "      <td>24.0</td>\n",
       "      <td>2.3</td>\n",
       "      <td>609</td>\n",
       "      <td>45.0</td>\n",
       "      <td>1579</td>\n",
       "      <td>60.0</td>\n",
       "      <td>1276</td>\n",
       "      <td>620</td>\n",
       "      <td>10.7</td>\n",
       "      <td>59.7</td>\n",
       "      <td>0.7648</td>\n",
       "      <td>Good</td>\n",
       "    </tr>\n",
       "    <tr>\n",
       "      <th>9</th>\n",
       "      <td>2004-03-11</td>\n",
       "      <td>03:00:00</td>\n",
       "      <td>0.6</td>\n",
       "      <td>1010</td>\n",
       "      <td>19.0</td>\n",
       "      <td>1.7</td>\n",
       "      <td>561</td>\n",
       "      <td>180.0</td>\n",
       "      <td>1705</td>\n",
       "      <td>109.0</td>\n",
       "      <td>1235</td>\n",
       "      <td>501</td>\n",
       "      <td>10.3</td>\n",
       "      <td>60.2</td>\n",
       "      <td>0.7517</td>\n",
       "      <td>Good</td>\n",
       "    </tr>\n",
       "  </tbody>\n",
       "</table>\n",
       "</div>"
      ],
      "text/plain": [
       "        Date      Time  CO(GT)  CO sensor  NMHC(GT)  C6H6(GT)  NMHC sensor  \\\n",
       "0 2004-03-10  18:00:00     2.6       1360     150.0      11.9         1046   \n",
       "1 2004-03-10  19:00:00     2.0       1292     112.0       9.4          955   \n",
       "2 2004-03-10  20:00:00     2.2       1402      88.0       9.0          939   \n",
       "3 2004-03-10  21:00:00     2.2       1376      80.0       9.2          948   \n",
       "4 2004-03-10  22:00:00     1.6       1272      51.0       6.5          836   \n",
       "5 2004-03-10  23:00:00     1.2       1197      38.0       4.7          750   \n",
       "6 2004-03-11  00:00:00     1.2       1185      31.0       3.6          690   \n",
       "7 2004-03-11  01:00:00     1.0       1136      31.0       3.3          672   \n",
       "8 2004-03-11  02:00:00     0.9       1094      24.0       2.3          609   \n",
       "9 2004-03-11  03:00:00     0.6       1010      19.0       1.7          561   \n",
       "\n",
       "   NOx(GT)  NOx sensor  NO2(GT)  NO2 sensor  O3 sensor  Temperature  \\\n",
       "0    166.0        1056    113.0        1692       1268         13.6   \n",
       "1    103.0        1174     92.0        1559        972         13.3   \n",
       "2    131.0        1140    114.0        1555       1074         11.9   \n",
       "3    172.0        1092    122.0        1584       1203         11.0   \n",
       "4    131.0        1205    116.0        1490       1110         11.2   \n",
       "5     89.0        1337     96.0        1393        949         11.2   \n",
       "6     62.0        1462     77.0        1333        733         11.3   \n",
       "7     62.0        1453     76.0        1333        730         10.7   \n",
       "8     45.0        1579     60.0        1276        620         10.7   \n",
       "9    180.0        1705    109.0        1235        501         10.3   \n",
       "\n",
       "   Relative Humidity  Absolute Humidity CO_airquality  \n",
       "0               48.9             0.7578      Moderate  \n",
       "1               47.7             0.7255          Good  \n",
       "2               54.0             0.7502      Moderate  \n",
       "3               60.0             0.7867      Moderate  \n",
       "4               59.6             0.7888          Good  \n",
       "5               59.2             0.7848          Good  \n",
       "6               56.8             0.7603          Good  \n",
       "7               60.0             0.7702          Good  \n",
       "8               59.7             0.7648          Good  \n",
       "9               60.2             0.7517          Good  "
      ]
     },
     "execution_count": 51,
     "metadata": {},
     "output_type": "execute_result"
    }
   ],
   "source": [
    "df.head(10)"
   ]
  },
  {
   "cell_type": "markdown",
   "id": "83db51ba-d322-46db-be31-7c8ca467a249",
   "metadata": {},
   "source": [
    "##### C6H6 GROUPING"
   ]
  },
  {
   "cell_type": "code",
   "execution_count": 52,
   "id": "71d2f7bc-839d-4a2d-847b-87d22d2f157e",
   "metadata": {},
   "outputs": [
    {
     "data": {
      "text/plain": [
       "C6H6(GT)\n",
       "8.2     416\n",
       "3.6      84\n",
       "2.8      82\n",
       "3.8      79\n",
       "4.0      78\n",
       "       ... \n",
       "36.5      1\n",
       "43.7      1\n",
       "34.8      1\n",
       "46.3      1\n",
       "35.5      1\n",
       "Name: count, Length: 407, dtype: int64"
      ]
     },
     "execution_count": 52,
     "metadata": {},
     "output_type": "execute_result"
    }
   ],
   "source": [
    "#C6H6(GT) --> Benzene in µg/m³ , limits : good: 0 – 5 , bad air : > 5 µg/m³ (annual avg) \n",
    "df['C6H6(GT)'].value_counts()"
   ]
  },
  {
   "cell_type": "code",
   "execution_count": 53,
   "id": "70ecf237-ba76-41ef-9fdc-09ed102fd7e5",
   "metadata": {},
   "outputs": [
    {
     "data": {
      "text/plain": [
       "Index(['Date', 'Time', 'CO(GT)', 'CO sensor', 'NMHC(GT)', 'C6H6(GT)',\n",
       "       'NMHC sensor', 'NOx(GT)', 'NOx sensor', 'NO2(GT)', 'NO2 sensor',\n",
       "       'O3 sensor', 'Temperature', 'Relative Humidity', 'Absolute Humidity',\n",
       "       'CO_airquality', 'C6H6_airquality'],\n",
       "      dtype='object')"
      ]
     },
     "execution_count": 53,
     "metadata": {},
     "output_type": "execute_result"
    }
   ],
   "source": [
    "# creating ranges\n",
    "def c6_category(c6):\n",
    "    if c6 == -200:\n",
    "        return \"Missing\"\n",
    "    elif c6 <= 5:\n",
    "        return \"Good\"\n",
    "    elif (c6> 5) and (c6<=10):\n",
    "        return \"Moderate\"\n",
    "    elif (c6> 10) and (c6<=16):\n",
    "        return \"Poor\"\n",
    "    else:\n",
    "        return \"Hazardous\"\n",
    "# creating columns\n",
    "df['C6H6_airquality'] = df['C6H6(GT)'].apply(c6_category)\n",
    "df.columns      "
   ]
  },
  {
   "cell_type": "code",
   "execution_count": 54,
   "id": "64fdb709-fc62-41ef-8f76-1a22caf231fb",
   "metadata": {},
   "outputs": [
    {
     "data": {
      "text/plain": [
       "Index(['Date', 'Time', 'CO(GT)', 'CO sensor', 'NMHC(GT)', 'C6H6(GT)',\n",
       "       'NMHC sensor', 'NOx(GT)', 'NOx sensor', 'NO2(GT)', 'NO2 sensor',\n",
       "       'O3 sensor', 'Temperature', 'Relative Humidity', 'Absolute Humidity',\n",
       "       'CO_airquality', 'C6H6_airquality'],\n",
       "      dtype='object')"
      ]
     },
     "execution_count": 54,
     "metadata": {},
     "output_type": "execute_result"
    }
   ],
   "source": [
    "df.columns"
   ]
  },
  {
   "cell_type": "markdown",
   "id": "333007f9-cfb7-43db-9d8f-8a95d016d19e",
   "metadata": {},
   "source": [
    "##### 'NMHC(GT)' GROUPING"
   ]
  },
  {
   "cell_type": "code",
   "execution_count": 55,
   "id": "c9e973f8-2570-4434-a23b-400ec2442b05",
   "metadata": {},
   "outputs": [
    {
     "data": {
      "text/plain": [
       "Index(['Date', 'Time', 'CO(GT)', 'CO sensor', 'NMHC(GT)', 'C6H6(GT)',\n",
       "       'NMHC sensor', 'NOx(GT)', 'NOx sensor', 'NO2(GT)', 'NO2 sensor',\n",
       "       'O3 sensor', 'Temperature', 'Relative Humidity', 'Absolute Humidity',\n",
       "       'CO_airquality', 'C6H6_airquality', 'NMHC_airquality'],\n",
       "      dtype='object')"
      ]
     },
     "execution_count": 55,
     "metadata": {},
     "output_type": "execute_result"
    }
   ],
   "source": [
    "# 0 – 100 Good, 101 – 200\tModerate , 201 – 400\tPoor\n",
    "def NMHC_category(nm):\n",
    "    if nm == -200:\n",
    "        return \"Missing\"\n",
    "    elif nm <= 100:\n",
    "        return \"Good\"\n",
    "    elif (nm >100 ) and (nm <= 200):\n",
    "        return \"Moderate\"\n",
    "    elif (nm > 200) and (nm <= 400):\n",
    "        return \"Poor\"\n",
    "    else:\n",
    "        return \"Hazardous\"\n",
    "df['NMHC_airquality'] = df['NMHC(GT)'].apply(NMHC_category)\n",
    "df.columns"
   ]
  },
  {
   "cell_type": "code",
   "execution_count": 56,
   "id": "b0c92088-015a-4e4f-a95e-f6ea9d663a3c",
   "metadata": {},
   "outputs": [
    {
     "data": {
      "text/plain": [
       "NMHC(GT)\n",
       "150.0    8448\n",
       "66.0       14\n",
       "40.0        9\n",
       "29.0        9\n",
       "93.0        8\n",
       "         ... \n",
       "265.0       1\n",
       "365.0       1\n",
       "252.0       1\n",
       "8.0         1\n",
       "82.0        1\n",
       "Name: count, Length: 429, dtype: int64"
      ]
     },
     "execution_count": 56,
     "metadata": {},
     "output_type": "execute_result"
    }
   ],
   "source": [
    "df['NMHC(GT)'].value_counts()"
   ]
  },
  {
   "cell_type": "markdown",
   "id": "b0b378ef-a3e8-4874-8eb7-1976f1a8d3fa",
   "metadata": {},
   "source": [
    "##### GROUPING NOX VALUES"
   ]
  },
  {
   "cell_type": "code",
   "execution_count": 57,
   "id": "8e9821aa-5e4d-49b7-94f1-20bce44b18fc",
   "metadata": {},
   "outputs": [
    {
     "data": {
      "text/plain": [
       "Index(['Date', 'Time', 'CO(GT)', 'CO sensor', 'NMHC(GT)', 'C6H6(GT)',\n",
       "       'NMHC sensor', 'NOx(GT)', 'NOx sensor', 'NO2(GT)', 'NO2 sensor',\n",
       "       'O3 sensor', 'Temperature', 'Relative Humidity', 'Absolute Humidity',\n",
       "       'CO_airquality', 'C6H6_airquality', 'NMHC_airquality'],\n",
       "      dtype='object')"
      ]
     },
     "execution_count": 57,
     "metadata": {},
     "output_type": "execute_result"
    }
   ],
   "source": [
    "df.columns"
   ]
  },
  {
   "cell_type": "code",
   "execution_count": 58,
   "id": "0026df29-f9ee-4108-80db-d90b331c6869",
   "metadata": {},
   "outputs": [],
   "source": [
    "# 0 – 100\tGood , 101 – 200\tModerat , 201 – 400\tPoor ,401 – 1000\tUnhealthy"
   ]
  },
  {
   "cell_type": "code",
   "execution_count": 59,
   "id": "7ea156d1-0079-417b-a79c-613830ca1cfb",
   "metadata": {},
   "outputs": [
    {
     "data": {
      "text/plain": [
       "Index(['Date', 'Time', 'CO(GT)', 'CO sensor', 'NMHC(GT)', 'C6H6(GT)',\n",
       "       'NMHC sensor', 'NOx(GT)', 'NOx sensor', 'NO2(GT)', 'NO2 sensor',\n",
       "       'O3 sensor', 'Temperature', 'Relative Humidity', 'Absolute Humidity',\n",
       "       'CO_airquality', 'C6H6_airquality', 'NMHC_airquality',\n",
       "       'NOx_airquality'],\n",
       "      dtype='object')"
      ]
     },
     "execution_count": 59,
     "metadata": {},
     "output_type": "execute_result"
    }
   ],
   "source": [
    "def NOX_category (nox):\n",
    "    if nox == -200:\n",
    "        return \"Missing\"\n",
    "    elif nox <= 100:\n",
    "        return \"Good\"\n",
    "    elif (nox >100 ) and (nox <= 200):\n",
    "        return \"Moderate\"\n",
    "    elif (nox > 200) and (nox <= 400):\n",
    "        return \"Poor\"\n",
    "    else:\n",
    "        return \"Hazardous\"\n",
    "df['NOx_airquality'] = df['NOx(GT)'].apply(NOX_category)\n",
    "df.columns"
   ]
  },
  {
   "cell_type": "markdown",
   "id": "9140be1a-60a8-433f-a4e8-bdbd0eb3ebeb",
   "metadata": {},
   "source": [
    "##### GROUPING 'NO2(GT)'"
   ]
  },
  {
   "cell_type": "code",
   "execution_count": 60,
   "id": "d4a809b4-31f3-45c0-8bcb-d6d7f5bbe45d",
   "metadata": {},
   "outputs": [],
   "source": [
    "# 0 – 40\tGood , 41 – 100\tModerate , 101 – 200\tPoor , 201 – 400\tUnhealthy\t, >400\tHazardous"
   ]
  },
  {
   "cell_type": "code",
   "execution_count": 61,
   "id": "286ec5a9-a365-44e0-a9ca-85a976e570c8",
   "metadata": {},
   "outputs": [
    {
     "data": {
      "text/plain": [
       "NO2(GT)\n",
       "109.0    1706\n",
       "97.0       78\n",
       "117.0      77\n",
       "119.0      77\n",
       "114.0      75\n",
       "         ... \n",
       "257.0       1\n",
       "284.0       1\n",
       "326.0       1\n",
       "340.0       1\n",
       "295.0       1\n",
       "Name: count, Length: 283, dtype: int64"
      ]
     },
     "execution_count": 61,
     "metadata": {},
     "output_type": "execute_result"
    }
   ],
   "source": [
    "df['NO2(GT)'].value_counts()"
   ]
  },
  {
   "cell_type": "code",
   "execution_count": 62,
   "id": "9649f3db-05e6-43b0-94ff-ea29b3855ccb",
   "metadata": {},
   "outputs": [
    {
     "data": {
      "text/plain": [
       "Index(['Date', 'Time', 'CO(GT)', 'CO sensor', 'NMHC(GT)', 'C6H6(GT)',\n",
       "       'NMHC sensor', 'NOx(GT)', 'NOx sensor', 'NO2(GT)', 'NO2 sensor',\n",
       "       'O3 sensor', 'Temperature', 'Relative Humidity', 'Absolute Humidity',\n",
       "       'CO_airquality', 'C6H6_airquality', 'NMHC_airquality', 'NOx_airquality',\n",
       "       'NO2_airquality'],\n",
       "      dtype='object')"
      ]
     },
     "execution_count": 62,
     "metadata": {},
     "output_type": "execute_result"
    }
   ],
   "source": [
    "def NO2_category (no2):\n",
    "    if no2 == -200:\n",
    "        return \"Missing\"\n",
    "    elif no2 <= 40:\n",
    "        return \"Good\"\n",
    "    elif (no2 >40 ) and (no2 <= 100):\n",
    "        return \"Moderate\"\n",
    "    elif (no2 > 100) and (no2 <= 200):\n",
    "        return \"Poor\"\n",
    "    else:\n",
    "        return \"Hazardous\"\n",
    "\n",
    "df['NO2_airquality'] = df['NO2(GT)'].apply(NO2_category)\n",
    "df.columns"
   ]
  },
  {
   "cell_type": "code",
   "execution_count": 63,
   "id": "c2405451-5586-4fa2-bde7-53e28e7d6cbc",
   "metadata": {},
   "outputs": [
    {
     "data": {
      "text/html": [
       "<div>\n",
       "<style scoped>\n",
       "    .dataframe tbody tr th:only-of-type {\n",
       "        vertical-align: middle;\n",
       "    }\n",
       "\n",
       "    .dataframe tbody tr th {\n",
       "        vertical-align: top;\n",
       "    }\n",
       "\n",
       "    .dataframe thead th {\n",
       "        text-align: right;\n",
       "    }\n",
       "</style>\n",
       "<table border=\"1\" class=\"dataframe\">\n",
       "  <thead>\n",
       "    <tr style=\"text-align: right;\">\n",
       "      <th></th>\n",
       "      <th>Date</th>\n",
       "      <th>Time</th>\n",
       "      <th>CO(GT)</th>\n",
       "      <th>CO sensor</th>\n",
       "      <th>NMHC(GT)</th>\n",
       "      <th>C6H6(GT)</th>\n",
       "      <th>NMHC sensor</th>\n",
       "      <th>NOx(GT)</th>\n",
       "      <th>NOx sensor</th>\n",
       "      <th>NO2(GT)</th>\n",
       "      <th>NO2 sensor</th>\n",
       "      <th>O3 sensor</th>\n",
       "      <th>Temperature</th>\n",
       "      <th>Relative Humidity</th>\n",
       "      <th>Absolute Humidity</th>\n",
       "      <th>CO_airquality</th>\n",
       "      <th>C6H6_airquality</th>\n",
       "      <th>NMHC_airquality</th>\n",
       "      <th>NOx_airquality</th>\n",
       "      <th>NO2_airquality</th>\n",
       "    </tr>\n",
       "  </thead>\n",
       "  <tbody>\n",
       "    <tr>\n",
       "      <th>0</th>\n",
       "      <td>2004-03-10</td>\n",
       "      <td>18:00:00</td>\n",
       "      <td>2.6</td>\n",
       "      <td>1360</td>\n",
       "      <td>150.0</td>\n",
       "      <td>11.9</td>\n",
       "      <td>1046</td>\n",
       "      <td>166.0</td>\n",
       "      <td>1056</td>\n",
       "      <td>113.0</td>\n",
       "      <td>1692</td>\n",
       "      <td>1268</td>\n",
       "      <td>13.6</td>\n",
       "      <td>48.9</td>\n",
       "      <td>0.7578</td>\n",
       "      <td>Moderate</td>\n",
       "      <td>Poor</td>\n",
       "      <td>Moderate</td>\n",
       "      <td>Moderate</td>\n",
       "      <td>Poor</td>\n",
       "    </tr>\n",
       "    <tr>\n",
       "      <th>1</th>\n",
       "      <td>2004-03-10</td>\n",
       "      <td>19:00:00</td>\n",
       "      <td>2.0</td>\n",
       "      <td>1292</td>\n",
       "      <td>112.0</td>\n",
       "      <td>9.4</td>\n",
       "      <td>955</td>\n",
       "      <td>103.0</td>\n",
       "      <td>1174</td>\n",
       "      <td>92.0</td>\n",
       "      <td>1559</td>\n",
       "      <td>972</td>\n",
       "      <td>13.3</td>\n",
       "      <td>47.7</td>\n",
       "      <td>0.7255</td>\n",
       "      <td>Good</td>\n",
       "      <td>Moderate</td>\n",
       "      <td>Moderate</td>\n",
       "      <td>Moderate</td>\n",
       "      <td>Moderate</td>\n",
       "    </tr>\n",
       "    <tr>\n",
       "      <th>2</th>\n",
       "      <td>2004-03-10</td>\n",
       "      <td>20:00:00</td>\n",
       "      <td>2.2</td>\n",
       "      <td>1402</td>\n",
       "      <td>88.0</td>\n",
       "      <td>9.0</td>\n",
       "      <td>939</td>\n",
       "      <td>131.0</td>\n",
       "      <td>1140</td>\n",
       "      <td>114.0</td>\n",
       "      <td>1555</td>\n",
       "      <td>1074</td>\n",
       "      <td>11.9</td>\n",
       "      <td>54.0</td>\n",
       "      <td>0.7502</td>\n",
       "      <td>Moderate</td>\n",
       "      <td>Moderate</td>\n",
       "      <td>Good</td>\n",
       "      <td>Moderate</td>\n",
       "      <td>Poor</td>\n",
       "    </tr>\n",
       "    <tr>\n",
       "      <th>3</th>\n",
       "      <td>2004-03-10</td>\n",
       "      <td>21:00:00</td>\n",
       "      <td>2.2</td>\n",
       "      <td>1376</td>\n",
       "      <td>80.0</td>\n",
       "      <td>9.2</td>\n",
       "      <td>948</td>\n",
       "      <td>172.0</td>\n",
       "      <td>1092</td>\n",
       "      <td>122.0</td>\n",
       "      <td>1584</td>\n",
       "      <td>1203</td>\n",
       "      <td>11.0</td>\n",
       "      <td>60.0</td>\n",
       "      <td>0.7867</td>\n",
       "      <td>Moderate</td>\n",
       "      <td>Moderate</td>\n",
       "      <td>Good</td>\n",
       "      <td>Moderate</td>\n",
       "      <td>Poor</td>\n",
       "    </tr>\n",
       "    <tr>\n",
       "      <th>4</th>\n",
       "      <td>2004-03-10</td>\n",
       "      <td>22:00:00</td>\n",
       "      <td>1.6</td>\n",
       "      <td>1272</td>\n",
       "      <td>51.0</td>\n",
       "      <td>6.5</td>\n",
       "      <td>836</td>\n",
       "      <td>131.0</td>\n",
       "      <td>1205</td>\n",
       "      <td>116.0</td>\n",
       "      <td>1490</td>\n",
       "      <td>1110</td>\n",
       "      <td>11.2</td>\n",
       "      <td>59.6</td>\n",
       "      <td>0.7888</td>\n",
       "      <td>Good</td>\n",
       "      <td>Moderate</td>\n",
       "      <td>Good</td>\n",
       "      <td>Moderate</td>\n",
       "      <td>Poor</td>\n",
       "    </tr>\n",
       "  </tbody>\n",
       "</table>\n",
       "</div>"
      ],
      "text/plain": [
       "        Date      Time  CO(GT)  CO sensor  NMHC(GT)  C6H6(GT)  NMHC sensor  \\\n",
       "0 2004-03-10  18:00:00     2.6       1360     150.0      11.9         1046   \n",
       "1 2004-03-10  19:00:00     2.0       1292     112.0       9.4          955   \n",
       "2 2004-03-10  20:00:00     2.2       1402      88.0       9.0          939   \n",
       "3 2004-03-10  21:00:00     2.2       1376      80.0       9.2          948   \n",
       "4 2004-03-10  22:00:00     1.6       1272      51.0       6.5          836   \n",
       "\n",
       "   NOx(GT)  NOx sensor  NO2(GT)  NO2 sensor  O3 sensor  Temperature  \\\n",
       "0    166.0        1056    113.0        1692       1268         13.6   \n",
       "1    103.0        1174     92.0        1559        972         13.3   \n",
       "2    131.0        1140    114.0        1555       1074         11.9   \n",
       "3    172.0        1092    122.0        1584       1203         11.0   \n",
       "4    131.0        1205    116.0        1490       1110         11.2   \n",
       "\n",
       "   Relative Humidity  Absolute Humidity CO_airquality C6H6_airquality  \\\n",
       "0               48.9             0.7578      Moderate            Poor   \n",
       "1               47.7             0.7255          Good        Moderate   \n",
       "2               54.0             0.7502      Moderate        Moderate   \n",
       "3               60.0             0.7867      Moderate        Moderate   \n",
       "4               59.6             0.7888          Good        Moderate   \n",
       "\n",
       "  NMHC_airquality NOx_airquality NO2_airquality  \n",
       "0        Moderate       Moderate           Poor  \n",
       "1        Moderate       Moderate       Moderate  \n",
       "2            Good       Moderate           Poor  \n",
       "3            Good       Moderate           Poor  \n",
       "4            Good       Moderate           Poor  "
      ]
     },
     "execution_count": 63,
     "metadata": {},
     "output_type": "execute_result"
    }
   ],
   "source": [
    "df.head(5)"
   ]
  },
  {
   "cell_type": "markdown",
   "id": "6e70ca0b-c403-4d53-b797-05c9284c6fae",
   "metadata": {},
   "source": [
    "#### SEPERATING DAY,YEAR, MONTH AND DAY NUMBER OF MONTH FROM DATE FOR EASY ANALYSIS"
   ]
  },
  {
   "cell_type": "code",
   "execution_count": 64,
   "id": "75214508-a65f-4492-8e87-4c20c5374511",
   "metadata": {},
   "outputs": [],
   "source": [
    "df['Year'] = df['Date'].dt.year"
   ]
  },
  {
   "cell_type": "code",
   "execution_count": 65,
   "id": "91c65e78-db17-4b52-be8b-289a0429ed82",
   "metadata": {},
   "outputs": [
    {
     "data": {
      "text/plain": [
       "Index(['Date', 'Time', 'CO(GT)', 'CO sensor', 'NMHC(GT)', 'C6H6(GT)',\n",
       "       'NMHC sensor', 'NOx(GT)', 'NOx sensor', 'NO2(GT)', 'NO2 sensor',\n",
       "       'O3 sensor', 'Temperature', 'Relative Humidity', 'Absolute Humidity',\n",
       "       'CO_airquality', 'C6H6_airquality', 'NMHC_airquality', 'NOx_airquality',\n",
       "       'NO2_airquality', 'Year'],\n",
       "      dtype='object')"
      ]
     },
     "execution_count": 65,
     "metadata": {},
     "output_type": "execute_result"
    }
   ],
   "source": [
    "df.columns"
   ]
  },
  {
   "cell_type": "code",
   "execution_count": 66,
   "id": "ddd391b7-3951-476c-ad39-ed83f826ce2c",
   "metadata": {},
   "outputs": [
    {
     "data": {
      "text/plain": [
       "Year\n",
       "2004    7110\n",
       "2005    2247\n",
       "Name: count, dtype: int64"
      ]
     },
     "execution_count": 66,
     "metadata": {},
     "output_type": "execute_result"
    }
   ],
   "source": [
    "df['Year'].value_counts()"
   ]
  },
  {
   "cell_type": "code",
   "execution_count": 67,
   "id": "214d0be2-c584-442f-903e-226341caeae7",
   "metadata": {},
   "outputs": [],
   "source": [
    "df['Month'] = df['Date'].dt.month_name()"
   ]
  },
  {
   "cell_type": "code",
   "execution_count": 68,
   "id": "b0525b5f-2474-434a-931f-46e556827287",
   "metadata": {},
   "outputs": [
    {
     "data": {
      "text/plain": [
       "Month\n",
       "March        1254\n",
       "April         807\n",
       "May           744\n",
       "July          744\n",
       "January       744\n",
       "August        744\n",
       "October       744\n",
       "December      744\n",
       "June          720\n",
       "September     720\n",
       "November      720\n",
       "February      672\n",
       "Name: count, dtype: int64"
      ]
     },
     "execution_count": 68,
     "metadata": {},
     "output_type": "execute_result"
    }
   ],
   "source": [
    "df['Month'].value_counts()"
   ]
  },
  {
   "cell_type": "code",
   "execution_count": 69,
   "id": "70740829-0099-4caa-b221-e3049002bfef",
   "metadata": {},
   "outputs": [
    {
     "data": {
      "text/plain": [
       "Day_num_of_month\n",
       "11    312\n",
       "12    312\n",
       "13    312\n",
       "15    312\n",
       "14    312\n",
       "16    312\n",
       "17    312\n",
       "21    312\n",
       "18    312\n",
       "19    312\n",
       "20    312\n",
       "23    312\n",
       "22    312\n",
       "24    312\n",
       "25    312\n",
       "1     312\n",
       "26    312\n",
       "27    312\n",
       "28    312\n",
       "3     312\n",
       "2     312\n",
       "4     303\n",
       "10    294\n",
       "6     288\n",
       "30    288\n",
       "29    288\n",
       "5     288\n",
       "8     288\n",
       "7     288\n",
       "9     288\n",
       "31    192\n",
       "Name: count, dtype: int64"
      ]
     },
     "execution_count": 69,
     "metadata": {},
     "output_type": "execute_result"
    }
   ],
   "source": [
    "df['Day_num_of_month'] = df['Date'].dt.day\n",
    "df['Day_num_of_month'].value_counts()"
   ]
  },
  {
   "cell_type": "code",
   "execution_count": 70,
   "id": "16275151-13c3-4b3f-accb-ec25ec4f6f28",
   "metadata": {},
   "outputs": [
    {
     "data": {
      "text/html": [
       "<div>\n",
       "<style scoped>\n",
       "    .dataframe tbody tr th:only-of-type {\n",
       "        vertical-align: middle;\n",
       "    }\n",
       "\n",
       "    .dataframe tbody tr th {\n",
       "        vertical-align: top;\n",
       "    }\n",
       "\n",
       "    .dataframe thead th {\n",
       "        text-align: right;\n",
       "    }\n",
       "</style>\n",
       "<table border=\"1\" class=\"dataframe\">\n",
       "  <thead>\n",
       "    <tr style=\"text-align: right;\">\n",
       "      <th></th>\n",
       "      <th>Date</th>\n",
       "      <th>Time</th>\n",
       "      <th>CO(GT)</th>\n",
       "      <th>CO sensor</th>\n",
       "      <th>NMHC(GT)</th>\n",
       "      <th>C6H6(GT)</th>\n",
       "      <th>NMHC sensor</th>\n",
       "      <th>NOx(GT)</th>\n",
       "      <th>NOx sensor</th>\n",
       "      <th>NO2(GT)</th>\n",
       "      <th>NO2 sensor</th>\n",
       "      <th>O3 sensor</th>\n",
       "      <th>Temperature</th>\n",
       "      <th>Relative Humidity</th>\n",
       "      <th>Absolute Humidity</th>\n",
       "      <th>CO_airquality</th>\n",
       "      <th>C6H6_airquality</th>\n",
       "      <th>NMHC_airquality</th>\n",
       "      <th>NOx_airquality</th>\n",
       "      <th>NO2_airquality</th>\n",
       "      <th>Year</th>\n",
       "      <th>Month</th>\n",
       "      <th>Day_num_of_month</th>\n",
       "    </tr>\n",
       "  </thead>\n",
       "  <tbody>\n",
       "    <tr>\n",
       "      <th>0</th>\n",
       "      <td>2004-03-10</td>\n",
       "      <td>18:00:00</td>\n",
       "      <td>2.6</td>\n",
       "      <td>1360</td>\n",
       "      <td>150.0</td>\n",
       "      <td>11.9</td>\n",
       "      <td>1046</td>\n",
       "      <td>166.0</td>\n",
       "      <td>1056</td>\n",
       "      <td>113.0</td>\n",
       "      <td>1692</td>\n",
       "      <td>1268</td>\n",
       "      <td>13.6</td>\n",
       "      <td>48.9</td>\n",
       "      <td>0.7578</td>\n",
       "      <td>Moderate</td>\n",
       "      <td>Poor</td>\n",
       "      <td>Moderate</td>\n",
       "      <td>Moderate</td>\n",
       "      <td>Poor</td>\n",
       "      <td>2004</td>\n",
       "      <td>March</td>\n",
       "      <td>10</td>\n",
       "    </tr>\n",
       "    <tr>\n",
       "      <th>1</th>\n",
       "      <td>2004-03-10</td>\n",
       "      <td>19:00:00</td>\n",
       "      <td>2.0</td>\n",
       "      <td>1292</td>\n",
       "      <td>112.0</td>\n",
       "      <td>9.4</td>\n",
       "      <td>955</td>\n",
       "      <td>103.0</td>\n",
       "      <td>1174</td>\n",
       "      <td>92.0</td>\n",
       "      <td>1559</td>\n",
       "      <td>972</td>\n",
       "      <td>13.3</td>\n",
       "      <td>47.7</td>\n",
       "      <td>0.7255</td>\n",
       "      <td>Good</td>\n",
       "      <td>Moderate</td>\n",
       "      <td>Moderate</td>\n",
       "      <td>Moderate</td>\n",
       "      <td>Moderate</td>\n",
       "      <td>2004</td>\n",
       "      <td>March</td>\n",
       "      <td>10</td>\n",
       "    </tr>\n",
       "    <tr>\n",
       "      <th>2</th>\n",
       "      <td>2004-03-10</td>\n",
       "      <td>20:00:00</td>\n",
       "      <td>2.2</td>\n",
       "      <td>1402</td>\n",
       "      <td>88.0</td>\n",
       "      <td>9.0</td>\n",
       "      <td>939</td>\n",
       "      <td>131.0</td>\n",
       "      <td>1140</td>\n",
       "      <td>114.0</td>\n",
       "      <td>1555</td>\n",
       "      <td>1074</td>\n",
       "      <td>11.9</td>\n",
       "      <td>54.0</td>\n",
       "      <td>0.7502</td>\n",
       "      <td>Moderate</td>\n",
       "      <td>Moderate</td>\n",
       "      <td>Good</td>\n",
       "      <td>Moderate</td>\n",
       "      <td>Poor</td>\n",
       "      <td>2004</td>\n",
       "      <td>March</td>\n",
       "      <td>10</td>\n",
       "    </tr>\n",
       "    <tr>\n",
       "      <th>3</th>\n",
       "      <td>2004-03-10</td>\n",
       "      <td>21:00:00</td>\n",
       "      <td>2.2</td>\n",
       "      <td>1376</td>\n",
       "      <td>80.0</td>\n",
       "      <td>9.2</td>\n",
       "      <td>948</td>\n",
       "      <td>172.0</td>\n",
       "      <td>1092</td>\n",
       "      <td>122.0</td>\n",
       "      <td>1584</td>\n",
       "      <td>1203</td>\n",
       "      <td>11.0</td>\n",
       "      <td>60.0</td>\n",
       "      <td>0.7867</td>\n",
       "      <td>Moderate</td>\n",
       "      <td>Moderate</td>\n",
       "      <td>Good</td>\n",
       "      <td>Moderate</td>\n",
       "      <td>Poor</td>\n",
       "      <td>2004</td>\n",
       "      <td>March</td>\n",
       "      <td>10</td>\n",
       "    </tr>\n",
       "    <tr>\n",
       "      <th>4</th>\n",
       "      <td>2004-03-10</td>\n",
       "      <td>22:00:00</td>\n",
       "      <td>1.6</td>\n",
       "      <td>1272</td>\n",
       "      <td>51.0</td>\n",
       "      <td>6.5</td>\n",
       "      <td>836</td>\n",
       "      <td>131.0</td>\n",
       "      <td>1205</td>\n",
       "      <td>116.0</td>\n",
       "      <td>1490</td>\n",
       "      <td>1110</td>\n",
       "      <td>11.2</td>\n",
       "      <td>59.6</td>\n",
       "      <td>0.7888</td>\n",
       "      <td>Good</td>\n",
       "      <td>Moderate</td>\n",
       "      <td>Good</td>\n",
       "      <td>Moderate</td>\n",
       "      <td>Poor</td>\n",
       "      <td>2004</td>\n",
       "      <td>March</td>\n",
       "      <td>10</td>\n",
       "    </tr>\n",
       "  </tbody>\n",
       "</table>\n",
       "</div>"
      ],
      "text/plain": [
       "        Date      Time  CO(GT)  CO sensor  NMHC(GT)  C6H6(GT)  NMHC sensor  \\\n",
       "0 2004-03-10  18:00:00     2.6       1360     150.0      11.9         1046   \n",
       "1 2004-03-10  19:00:00     2.0       1292     112.0       9.4          955   \n",
       "2 2004-03-10  20:00:00     2.2       1402      88.0       9.0          939   \n",
       "3 2004-03-10  21:00:00     2.2       1376      80.0       9.2          948   \n",
       "4 2004-03-10  22:00:00     1.6       1272      51.0       6.5          836   \n",
       "\n",
       "   NOx(GT)  NOx sensor  NO2(GT)  NO2 sensor  O3 sensor  Temperature  \\\n",
       "0    166.0        1056    113.0        1692       1268         13.6   \n",
       "1    103.0        1174     92.0        1559        972         13.3   \n",
       "2    131.0        1140    114.0        1555       1074         11.9   \n",
       "3    172.0        1092    122.0        1584       1203         11.0   \n",
       "4    131.0        1205    116.0        1490       1110         11.2   \n",
       "\n",
       "   Relative Humidity  Absolute Humidity CO_airquality C6H6_airquality  \\\n",
       "0               48.9             0.7578      Moderate            Poor   \n",
       "1               47.7             0.7255          Good        Moderate   \n",
       "2               54.0             0.7502      Moderate        Moderate   \n",
       "3               60.0             0.7867      Moderate        Moderate   \n",
       "4               59.6             0.7888          Good        Moderate   \n",
       "\n",
       "  NMHC_airquality NOx_airquality NO2_airquality  Year  Month  Day_num_of_month  \n",
       "0        Moderate       Moderate           Poor  2004  March                10  \n",
       "1        Moderate       Moderate       Moderate  2004  March                10  \n",
       "2            Good       Moderate           Poor  2004  March                10  \n",
       "3            Good       Moderate           Poor  2004  March                10  \n",
       "4            Good       Moderate           Poor  2004  March                10  "
      ]
     },
     "execution_count": 70,
     "metadata": {},
     "output_type": "execute_result"
    }
   ],
   "source": [
    "pd.set_option('display.max_columns', None) # to see all the columns without hiding\n",
    "df.head(5)"
   ]
  },
  {
   "cell_type": "markdown",
   "id": "7fa91c43-7afd-4516-a160-7c33ddfd2d48",
   "metadata": {},
   "source": [
    "#### PLOTTING USING MATPLOTLIB"
   ]
  },
  {
   "cell_type": "markdown",
   "id": "376ee3cb-9230-4ff5-9e92-61fd204dd1b7",
   "metadata": {},
   "source": [
    "#### LINE PLOT"
   ]
  },
  {
   "cell_type": "code",
   "execution_count": 71,
   "id": "fa42f8e0-de00-488a-8264-8e1b3220750f",
   "metadata": {},
   "outputs": [
    {
     "data": {
      "text/plain": [
       "Index(['Date', 'Time', 'CO(GT)', 'CO sensor', 'NMHC(GT)', 'C6H6(GT)',\n",
       "       'NMHC sensor', 'NOx(GT)', 'NOx sensor', 'NO2(GT)', 'NO2 sensor',\n",
       "       'O3 sensor', 'Temperature', 'Relative Humidity', 'Absolute Humidity',\n",
       "       'CO_airquality', 'C6H6_airquality', 'NMHC_airquality', 'NOx_airquality',\n",
       "       'NO2_airquality', 'Year', 'Month', 'Day_num_of_month'],\n",
       "      dtype='object')"
      ]
     },
     "execution_count": 71,
     "metadata": {},
     "output_type": "execute_result"
    }
   ],
   "source": [
    "# assigning plots\n",
    "df.columns"
   ]
  },
  {
   "cell_type": "code",
   "execution_count": 72,
   "id": "ecfc0503-ba0c-4e8a-9aa3-8c8a9868b5f8",
   "metadata": {},
   "outputs": [
    {
     "data": {
      "text/plain": [
       "(9357, 23)"
      ]
     },
     "execution_count": 72,
     "metadata": {},
     "output_type": "execute_result"
    }
   ],
   "source": [
    "df.shape"
   ]
  },
  {
   "cell_type": "code",
   "execution_count": 73,
   "id": "ce72ab65-15c4-455b-88a3-8fd99c015fda",
   "metadata": {},
   "outputs": [
    {
     "data": {
      "text/plain": [
       "Month\n",
       "March        1254\n",
       "April         807\n",
       "May           744\n",
       "July          744\n",
       "January       744\n",
       "August        744\n",
       "October       744\n",
       "December      744\n",
       "June          720\n",
       "September     720\n",
       "November      720\n",
       "February      672\n",
       "Name: count, dtype: int64"
      ]
     },
     "execution_count": 73,
     "metadata": {},
     "output_type": "execute_result"
    }
   ],
   "source": [
    "df['Month'].value_counts()"
   ]
  },
  {
   "cell_type": "markdown",
   "id": "fc64db7b-a234-442e-839c-dd2cd1ac2b0e",
   "metadata": {},
   "source": [
    "#### Plotting the general plot for CO concentrations"
   ]
  },
  {
   "cell_type": "code",
   "execution_count": 74,
   "id": "c8d7dab3-1df3-41f7-b8a6-0322be121505",
   "metadata": {},
   "outputs": [
    {
     "data": {
      "image/png": "[encoded data removed]",
      "text/plain": [
       "<Figure size 1400x400 with 1 Axes>"
      ]
     },
     "metadata": {},
     "output_type": "display_data"
    }
   ],
   "source": [
    "# Assigning figure size\n",
    "plt.figure(figsize = (14,4))\n",
    "\n",
    "# plotting\n",
    "plt.plot(df['Date'], df['CO(GT)'], label = 'CO')\n",
    "\n",
    "# title\n",
    "plt.title('CO Concentration Over Time',fontdict={'fontname':'Comic Sans MS','color':'black','fontsize':14})\n",
    "\n",
    "# x label and y label\n",
    "plt.xlabel('DATE',fontdict={'fontname':'Comic Sans MS','color':'black','fontsize':12})\n",
    "plt.ylabel('CO CONC.',fontdict={'fontname':'Comic Sans MS','color':'black','fontsize':12})\n",
    "\n",
    "# legend position\n",
    "plt.legend(loc ='upper left',frameon = True,edgecolor='black', fontsize=9,borderpad=0.9)\n",
    "plt.show()"
   ]
  },
  {
   "cell_type": "code",
   "execution_count": 75,
   "id": "6467f9c6-367c-4c08-ba80-36a3fb982eb1",
   "metadata": {},
   "outputs": [
    {
     "data": {
      "text/plain": [
       "Month\n",
       "March        1254\n",
       "April         807\n",
       "May           744\n",
       "July          744\n",
       "January       744\n",
       "August        744\n",
       "October       744\n",
       "December      744\n",
       "June          720\n",
       "September     720\n",
       "November      720\n",
       "February      672\n",
       "Name: count, dtype: int64"
      ]
     },
     "execution_count": 75,
     "metadata": {},
     "output_type": "execute_result"
    }
   ],
   "source": [
    "# Calculating mean for all the concentration of gases\n",
    "df['Month'].value_counts()"
   ]
  },
  {
   "cell_type": "markdown",
   "id": "923feb20-85ff-4c2c-9ab8-e360de767528",
   "metadata": {},
   "source": [
    "#### MARCH MONTH CONCENTRATION"
   ]
  },
  {
   "cell_type": "code",
   "execution_count": 76,
   "id": "b74341d7-139d-4f64-b79d-a39b2047afb9",
   "metadata": {},
   "outputs": [
    {
     "data": {
      "text/plain": [
       "Index(['Date', 'Time', 'CO(GT)', 'CO sensor', 'NMHC(GT)', 'C6H6(GT)',\n",
       "       'NMHC sensor', 'NOx(GT)', 'NOx sensor', 'NO2(GT)', 'NO2 sensor',\n",
       "       'O3 sensor', 'Temperature', 'Relative Humidity', 'Absolute Humidity',\n",
       "       'CO_airquality', 'C6H6_airquality', 'NMHC_airquality', 'NOx_airquality',\n",
       "       'NO2_airquality', 'Year', 'Month', 'Day_num_of_month'],\n",
       "      dtype='object')"
      ]
     },
     "execution_count": 76,
     "metadata": {},
     "output_type": "execute_result"
    }
   ],
   "source": [
    "df.columns"
   ]
  },
  {
   "cell_type": "code",
   "execution_count": 77,
   "id": "1fb06aa9-ab4e-4527-8512-c93893f773f8",
   "metadata": {},
   "outputs": [],
   "source": [
    "march_df = df[(df['Month'] ==\"March\") & (df['Year']==2004)]\n",
    "# mean\n",
    "CO_march = round(march_df['CO(GT)'].mean(),2)\n",
    "NMHC_march = round(march_df['NMHC(GT)'].mean(),2)\n",
    "C6H6_march = round(march_df['C6H6(GT)'].mean(),2)\n",
    "NOx_march = round(march_df['NOx(GT)'].mean(),2)\n",
    "NO2_march = round(march_df['NO2(GT)'].mean(),2)"
   ]
  },
  {
   "cell_type": "code",
   "execution_count": 78,
   "id": "e69eb97b-64f6-4e80-88b4-dd70c8eed01c",
   "metadata": {},
   "outputs": [],
   "source": [
    "# Building User defined fi=unction to make the process easier\n",
    "def conc(df,month,year):\n",
    "    month_df = df[(df['Month']==month) & (df['Year']==year)]\n",
    "    gases = ['CO(GT)', 'NMHC(GT)', 'C6H6(GT)', 'NOx(GT)', 'NO2(GT)']\n",
    "    mean_values ={}\n",
    "    for gas in gases:\n",
    "        mean_values[f\"{gas}_{month.lower()}\" ]= round(month_df[gas].mean(), 2)\n",
    "    return mean_values"
   ]
  },
  {
   "cell_type": "markdown",
   "id": "3a6e389a-8415-45db-b013-bd54b284786d",
   "metadata": {},
   "source": [
    "#### APRIL MONTH CONCENTRATION"
   ]
  },
  {
   "cell_type": "code",
   "execution_count": 79,
   "id": "ff6cb144-b580-44d4-bbf9-6a6e330af322",
   "metadata": {},
   "outputs": [
    {
     "name": "stdout",
     "output_type": "stream",
     "text": [
      "{'CO(GT)_april': np.float64(2.3), 'NMHC(GT)_april': np.float64(224.97), 'C6H6(GT)_april': np.float64(10.31), 'NOx(GT)_april': np.float64(153.19), 'NO2(GT)_april': np.float64(100.82)}\n"
     ]
    }
   ],
   "source": [
    "april_df = df[(df['Month'] ==\"April\") & (df['Year']==2004)]\n",
    "means = conc(df, 'April', 2004)\n",
    "print(means)"
   ]
  },
  {
   "cell_type": "code",
   "execution_count": 80,
   "id": "71dc1cf2-7623-4687-ab29-44f322b567ba",
   "metadata": {},
   "outputs": [],
   "source": [
    "CO_april = means['CO(GT)_april']\n",
    "NMHC_april = means['NMHC(GT)_april']\n",
    "C6H6_april = means['C6H6(GT)_april']\n",
    "NOx_april = means['NOx(GT)_april']\n",
    "NO2_april = means['NO2(GT)_april']"
   ]
  },
  {
   "cell_type": "markdown",
   "id": "1b33eee4-ad06-467e-96c5-593278661977",
   "metadata": {},
   "source": [
    "#### MAY MONTH CONCENTRATION"
   ]
  },
  {
   "cell_type": "code",
   "execution_count": 81,
   "id": "54cf227a-a0c7-4ed8-8690-ce5239a8d30d",
   "metadata": {},
   "outputs": [
    {
     "name": "stdout",
     "output_type": "stream",
     "text": [
      "{'CO(GT)_may': np.float64(1.94), 'NMHC(GT)_may': np.float64(150.17), 'C6H6(GT)_may': np.float64(10.18), 'NOx(GT)_may': np.float64(133.49), 'NO2(GT)_may': np.float64(96.26)}\n"
     ]
    }
   ],
   "source": [
    "may_df = df[(df['Month'] ==\"May\") & (df['Year']==2004)]\n",
    "mean_may = conc(df, 'May', 2004)\n",
    "print(mean_may)\n",
    "\n",
    "CO_may = mean_may['CO(GT)_may']\n",
    "NMHC_may = mean_may['NMHC(GT)_may']\n",
    "C6H6_may = mean_may['C6H6(GT)_may']\n",
    "NOx_may = mean_may['NOx(GT)_may']\n",
    "NO2_may = mean_may['NO2(GT)_may']"
   ]
  },
  {
   "cell_type": "markdown",
   "id": "5937637f-022d-4589-8190-95f415f7b7fb",
   "metadata": {},
   "source": [
    "#### JUNE MONTH CONCENTRATION "
   ]
  },
  {
   "cell_type": "code",
   "execution_count": 82,
   "id": "ce808973-eb99-4c4d-886f-263b4f6493ba",
   "metadata": {},
   "outputs": [
    {
     "data": {
      "text/plain": [
       "Month\n",
       "March        1254\n",
       "April         807\n",
       "May           744\n",
       "July          744\n",
       "January       744\n",
       "August        744\n",
       "October       744\n",
       "December      744\n",
       "June          720\n",
       "September     720\n",
       "November      720\n",
       "February      672\n",
       "Name: count, dtype: int64"
      ]
     },
     "execution_count": 82,
     "metadata": {},
     "output_type": "execute_result"
    }
   ],
   "source": [
    "june_df = df[(df['Month'] ==\"June\") & (df['Year']==2004)]\n",
    "df['Month'].value_counts()"
   ]
  },
  {
   "cell_type": "code",
   "execution_count": 83,
   "id": "2f1bc7d1-0571-4bee-9828-80ca77789c57",
   "metadata": {},
   "outputs": [
    {
     "name": "stdout",
     "output_type": "stream",
     "text": [
      "{'CO(GT)_june': np.float64(1.9), 'NMHC(GT)_june': np.float64(150.0), 'C6H6(GT)_june': np.float64(10.47), 'NOx(GT)_june': np.float64(127.78), 'NO2(GT)_june': np.float64(95.58)}\n"
     ]
    }
   ],
   "source": [
    "mean_june = conc(df,'June',2004)\n",
    "print(mean_june)\n",
    "\n",
    "CO_june= mean_june['CO(GT)_june']\n",
    "NMHC_june = mean_june['NMHC(GT)_june']\n",
    "C6H6_june = mean_june['C6H6(GT)_june']\n",
    "NOx_june = mean_june['NOx(GT)_june']\n",
    "NO2_june = mean_june['NO2(GT)_june']"
   ]
  },
  {
   "cell_type": "markdown",
   "id": "e58c86be-e9fe-4abb-8933-7e2b42b9bee4",
   "metadata": {},
   "source": [
    "#### JULY CONCENTRATION"
   ]
  },
  {
   "cell_type": "code",
   "execution_count": 84,
   "id": "7db03367-7a62-4cfa-a1bc-0e3cd759d2f3",
   "metadata": {},
   "outputs": [
    {
     "name": "stdout",
     "output_type": "stream",
     "text": [
      "{'CO(GT)_july': np.float64(1.78), 'NMHC(GT)_july': np.float64(150.0), 'C6H6(GT)_july': np.float64(10.6), 'NOx(GT)_july': np.float64(129.04), 'NO2(GT)_july': np.float64(104.34)}\n"
     ]
    }
   ],
   "source": [
    "july_df = df[(df['Month'] ==\"July\") & (df['Year']==2004)]\n",
    "mean_july = conc(df,'July',2004)\n",
    "print(mean_july)\n",
    "\n",
    "CO_july= mean_july['CO(GT)_july']\n",
    "NMHC_july = mean_july['NMHC(GT)_july']\n",
    "C6H6_july = mean_july['C6H6(GT)_july']\n",
    "NOx_july = mean_july['NOx(GT)_july']\n",
    "NO2_july = mean_july['NO2(GT)_july']"
   ]
  },
  {
   "cell_type": "markdown",
   "id": "d060bf28-3c59-4f62-9876-548419ca4575",
   "metadata": {},
   "source": [
    "#### LINE PLOT FOR THESE CONCENTRATIONS"
   ]
  },
  {
   "cell_type": "code",
   "execution_count": 85,
   "id": "48a20f15-1f7b-42c4-ab99-25d9caa3d61e",
   "metadata": {},
   "outputs": [
    {
     "data": {
      "image/png": "[encoded data removed]",
      "text/plain": [
       "<Figure size 1200x600 with 1 Axes>"
      ]
     },
     "metadata": {},
     "output_type": "display_data"
    }
   ],
   "source": [
    "# creating plots\n",
    "CO = [CO_march , CO_april , CO_may , CO_june , CO_july]\n",
    "NMHC = [NMHC_march , NMHC_april , NMHC_may , NMHC_june , NMHC_july]\n",
    "C6H6 = [C6H6_march , C6H6_april , C6H6_may , C6H6_june , C6H6_july]\n",
    "NOx = [NOx_march , NOx_april , NOx_may , NOx_june , NOx_july]\n",
    "NO2 = [NO2_march , NO2_april , NO2_may , NO2_june , NO2_july]\n",
    "months = ['March', 'April', 'May', 'June', 'July']\n",
    "\n",
    "# setting figure size\n",
    "plt.figure(figsize=(12,6))\n",
    "\n",
    "# plotting graph\n",
    "plt.plot(months, CO, label='CO' , marker = '.' , markerfacecolor = 'red' , markeredgecolor = 'red')\n",
    "plt.plot(months , NMHC , label='NMHC',  marker = '.' , markerfacecolor = 'red' , markeredgecolor = 'red')\n",
    "plt.plot(months , C6H6, label='C6H6', marker = '.' , markerfacecolor = 'red' , markeredgecolor = 'red')\n",
    "plt.plot(months , NOx, label='NOx',  marker = '.' , markerfacecolor = 'red' , markeredgecolor = 'red')\n",
    "plt.plot(months , NO2, label='NO2',  marker = '.' , markerfacecolor = 'red' , markeredgecolor = 'red')\n",
    "\n",
    "# setting x and y label\n",
    "plt.xlabel('MONTHS', fontdict ={'fontname':'Comic Sans MS' , 'fontsize':12 })\n",
    "plt.ylabel('CONCENTRATION',  fontdict ={'fontname':'Comic Sans MS' , 'fontsize':12 })\n",
    "\n",
    "# setting title \n",
    "plt.title('Gas Concentration levels in 2004 (MAR - JULY)',fontdict={'fontname':'Comic Sans MS','color':'black','fontsize':14})\n",
    "\n",
    "#setting grid\n",
    "plt.grid(axis = 'x', linestyle ='--', alpha = 0.6 , color ='black')\n",
    "\n",
    "# setting legend\n",
    "plt.legend(loc ='upper right',frameon = True,edgecolor='black', fontsize=9,borderpad=0.9)\n",
    "\n",
    "# show graph\n",
    "plt.show()"
   ]
  },
  {
   "cell_type": "markdown",
   "id": "4f9e85d5-3c0b-4b53-9dcc-4ac55b9cb4d1",
   "metadata": {},
   "source": [
    "#### BAR CHART "
   ]
  },
  {
   "cell_type": "code",
   "execution_count": 86,
   "id": "8fc1c0dc-66d7-4f54-a4e5-534916baebb8",
   "metadata": {},
   "outputs": [
    {
     "data": {
      "image/png": "[encoded data removed]",
      "text/plain": [
       "<Figure size 1400x600 with 1 Axes>"
      ]
     },
     "metadata": {},
     "output_type": "display_data"
    }
   ],
   "source": [
    "# creating plots\n",
    "gas_conc_mar = [CO_march ,NMHC_march , C6H6_march , NOx_march , NO2_march ]\n",
    "gas_conc_apr = [CO_april ,NMHC_april , C6H6_april , NOx_april , NO2_april ]\n",
    "gas = ['CO', 'NMHC', 'C6H6', 'NOx', 'NO2']\n",
    "\n",
    "# setting figure\n",
    "plt.figure(figsize=(14,6))\n",
    "\n",
    "#plotting graph\n",
    "bar = plt.bar(gas , gas_conc_mar, label= gas, width=0.5,color = ['skyblue','pink', 'gold', 'cyan', 'green'], hatch=['.' , '/' ,'+' , 'o','x'])\n",
    "\n",
    "# setting up grids\n",
    "plt.grid(axis='y',alpha=0.6, linestyle='--',color='black')\n",
    "\n",
    "# creating labels inside the bars\n",
    "values = [ 10 , 172 , 15,155,120]\n",
    "for b, (v , g) in enumerate(zip(values , gas_conc_mar)):\n",
    "    plt.text(b,v,str(g),color='black',ha='center',va='center',fontweight  = 'bold', fontsize=12)\n",
    "\n",
    "# creating title\n",
    "plt.title(\"March Gas Concentration\" , fontdict={'fontname':'Comic Sans MS','color':'black','fontsize':14})\n",
    "\n",
    "# creating x and y label\n",
    "plt.xlabel(\"Gas\" , fontdict={'fontname':'Comic Sans MS','color':'black','fontsize':12})\n",
    "plt.ylabel(\"Concentration\" , fontdict={'fontname':'Comic Sans MS','color':'black','fontsize':12})\n",
    "#plt.legend\n",
    "plt.legend(loc ='upper left', frameon= True , edgecolor = 'black' , fontsize=9,borderpad=0.9)\n",
    "\n",
    "# show\n",
    "plt.show()"
   ]
  },
  {
   "cell_type": "markdown",
   "id": "f342cc92-f4ed-496e-b50c-7b5f237bff8a",
   "metadata": {},
   "source": [
    "#### HORIZONTAL BAR CHART"
   ]
  },
  {
   "cell_type": "code",
   "execution_count": 87,
   "id": "b374ba14-ea14-482d-8570-2c02fbab0c28",
   "metadata": {},
   "outputs": [
    {
     "data": {
      "image/png": "[encoded data removed]",
      "text/plain": [
       "<Figure size 1200x400 with 1 Axes>"
      ]
     },
     "metadata": {},
     "output_type": "display_data"
    }
   ],
   "source": [
    "# creating plots\n",
    "gas_conc_apr = [CO_april ,NMHC_april , C6H6_april , NOx_april , NO2_april ]\n",
    "gas = ['CO', 'NMHC', 'C6H6', 'NOx', 'NO2']\n",
    "\n",
    "# setting figure\n",
    "plt.figure(figsize=(12,4))\n",
    "\n",
    "#plotting graph\n",
    "barh = plt.barh(gas ,gas_conc_apr, label= gas, color = ['skyblue','pink', 'gold', 'cyan', 'green'], hatch=['.' , '/' ,'+' , 'o','x'])\n",
    "\n",
    "# setting up grids\n",
    "plt.grid(axis='y',alpha=0.6, linestyle='--',color='black')\n",
    "\n",
    "# creating labels inside the bars\n",
    "values = [ 10 , 172 , 15,155,120]\n",
    "for b, (v , g) in enumerate(zip(values , gas_conc_apr)):\n",
    "    plt.text(v,b,str(g),color='black',ha='center',va='center',fontweight  = 'bold', fontsize=12, rotation = 270)\n",
    "\n",
    "# creating title\n",
    "plt.title(\"April Gas Concentration\" , fontdict={'fontname':'Comic Sans MS','color':'black','fontsize':14})\n",
    "\n",
    "# creating x and y label\n",
    "plt.xlabel(\"Concentration\" , fontdict={'fontname':'Comic Sans MS','color':'black','fontsize':12})\n",
    "plt.ylabel(\"Gas\" , fontdict={'fontname':'Comic Sans MS','color':'black','fontsize':12})\n",
    "#plt.legend\n",
    "plt.legend(loc ='upper right', frameon= True , edgecolor = 'black' , fontsize=9,borderpad=0.9)\n",
    "\n",
    "# show\n",
    "plt.show()"
   ]
  },
  {
   "cell_type": "markdown",
   "id": "098c0ae5-481c-4e52-b756-dad2d0be4e4e",
   "metadata": {},
   "source": [
    "#### PIE CHART"
   ]
  },
  {
   "cell_type": "code",
   "execution_count": 88,
   "id": "9731c717-0b38-4093-b9de-de0c58f90f04",
   "metadata": {},
   "outputs": [],
   "source": [
    "#march_df['CO_airquality'].value_counts() # Hazardous     18\n",
    "# march_df['NMHC_airquality'].value_counts() # Hazardous     35\n",
    "# march_df['NOx_airquality'].value_counts() # Hazardous      4\n",
    "# march_df['NO2_airquality'].value_counts() # Poor        268\n",
    "# march_df['C6H6_airquality'].value_counts() # Hazardous     86"
   ]
  },
  {
   "cell_type": "code",
   "execution_count": 91,
   "id": "a118ba7c-ff75-4255-b5f9-529e37370503",
   "metadata": {},
   "outputs": [
    {
     "data": {
      "image/png": "[encoded data removed]",
      "text/plain": [
       "<Figure size 800x800 with 1 Axes>"
      ]
     },
     "metadata": {},
     "output_type": "display_data"
    }
   ],
   "source": [
    "# creating plots\n",
    "march_hazard = [18,35,4,268,86]\n",
    "gases = ['CO' ,'NMHC' , 'NOx', 'NO2', 'C6H6']\n",
    "\n",
    "# figure\n",
    "plt.figure(figsize=(8,8)) \n",
    "\n",
    "#colors\n",
    "color = ['pink','#bc8ad1','#0bd9d5','#8cf70a','gold']\n",
    "\n",
    "# explode\n",
    "explode = [.1,.1,.1,0,0.1]\n",
    "\n",
    "# plotting\n",
    "plt.pie(march_hazard, labels = gases , colors = color , autopct =\"%.1f%%\" , explode = explode , shadow = True)\n",
    "\n",
    "# title\n",
    "plt.title(\"March Air Concentration\")\n",
    "\n",
    "#legend\n",
    "plt.legend(loc = \"lower left\",frameon = True , borderpad = 0.9 , fontsize = 9)\n",
    "\n",
    "plt.show()"
   ]
  },
  {
   "cell_type": "markdown",
   "id": "6be2e38f-7947-4fbb-94ea-738c1cf1c6ab",
   "metadata": {},
   "source": [
    "#### scatter plot"
   ]
  },
  {
   "cell_type": "code",
   "execution_count": 90,
   "id": "4e90af3e-c01a-48e4-8fc7-f125babff8f4",
   "metadata": {},
   "outputs": [
    {
     "data": {
      "image/png": "[encoded data removed]",
      "text/plain": [
       "<Figure size 600x400 with 1 Axes>"
      ]
     },
     "metadata": {},
     "output_type": "display_data"
    }
   ],
   "source": [
    "x = march_df['CO(GT)']\n",
    "y = march_df['NMHC(GT)']\n",
    "\n",
    "plt.figure(figsize=(6,4))\n",
    "plt.scatter(x, y, color='teal', alpha=0.7, marker='o')\n",
    "plt.title(\"CO(GT) and NMHC(GT)\")\n",
    "plt.xlabel(\"X-axis\")\n",
    "plt.ylabel(\"concentration\")\n",
    "plt.grid(True)\n",
    "plt.show()"
   ]
  }
 ],
 "metadata": {
  "kernelspec": {
   "display_name": "Python 3 (ipykernel)",
   "language": "python",
   "name": "python3"
  },
  "language_info": {
   "codemirror_mode": {
    "name": "ipython",
    "version": 3
   },
   "file_extension": ".py",
   "mimetype": "text/x-python",
   "name": "python",
   "nbconvert_exporter": "python",
   "pygments_lexer": "ipython3",
   "version": "3.13.2"
  }
 },
 "nbformat": 4,
 "nbformat_minor": 5
}
